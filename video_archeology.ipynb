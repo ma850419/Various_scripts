{
  "nbformat": 4,
  "nbformat_minor": 0,
  "metadata": {
    "colab": {
      "provenance": [],
      "authorship_tag": "ABX9TyPYoTAN0xEIFq3LlW8EdsKg",
      "include_colab_link": true
    },
    "kernelspec": {
      "name": "python3",
      "display_name": "Python 3"
    },
    "language_info": {
      "name": "python"
    }
  },
  "cells": [
    {
      "cell_type": "markdown",
      "metadata": {
        "id": "view-in-github",
        "colab_type": "text"
      },
      "source": [
        "<a href=\"https://colab.research.google.com/github/ma850419/Various_scripts/blob/main/video_archeology.ipynb\" target=\"_parent\"><img src=\"https://colab.research.google.com/assets/colab-badge.svg\" alt=\"Open In Colab\"/></a>"
      ]
    },
    {
      "cell_type": "code",
      "execution_count": null,
      "metadata": {
        "id": "ztTmEOTVuzqO"
      },
      "outputs": [],
      "source": []
    },
    {
      "cell_type": "code",
      "source": [
        "import ee\n",
        "ee.Authenticate()\n",
        "ee.Initialize(project='velvety-ring-328419')"
      ],
      "metadata": {
        "id": "cuq7Q3Myu9fs"
      },
      "execution_count": 1,
      "outputs": []
    },
    {
      "cell_type": "code",
      "source": [
        "\n",
        "import geemap\n",
        "import cv2\n",
        "import os\n",
        "import matplotlib.pyplot as plt\n"
      ],
      "metadata": {
        "id": "CEan_PjvlcHg"
      },
      "execution_count": 2,
      "outputs": []
    },
    {
      "cell_type": "code",
      "source": [
        "!pip install geedim"
      ],
      "metadata": {
        "colab": {
          "base_uri": "https://localhost:8080/",
          "height": 870
        },
        "id": "k5jn-2cyoMRy",
        "outputId": "8e8b8e1a-1b33-4c8b-9950-bd682481a660"
      },
      "execution_count": 5,
      "outputs": [
        {
          "output_type": "display_data",
          "data": {
            "text/plain": [
              "<IPython.core.display.HTML object>"
            ],
            "text/html": [
              "\n",
              "            <style>\n",
              "                .geemap-dark {\n",
              "                    --jp-widgets-color: white;\n",
              "                    --jp-widgets-label-color: white;\n",
              "                    --jp-ui-font-color1: white;\n",
              "                    --jp-layout-color2: #454545;\n",
              "                    background-color: #383838;\n",
              "                }\n",
              "\n",
              "                .geemap-dark .jupyter-button {\n",
              "                    --jp-layout-color3: #383838;\n",
              "                }\n",
              "\n",
              "                .geemap-colab {\n",
              "                    background-color: var(--colab-primary-surface-color, white);\n",
              "                }\n",
              "\n",
              "                .geemap-colab .jupyter-button {\n",
              "                    --jp-layout-color3: var(--colab-primary-surface-color, white);\n",
              "                }\n",
              "            </style>\n",
              "            "
            ]
          },
          "metadata": {}
        },
        {
          "output_type": "stream",
          "name": "stdout",
          "text": [
            "Collecting geedim\n",
            "  Downloading geedim-1.9.1-py3-none-any.whl.metadata (13 kB)\n",
            "Requirement already satisfied: numpy>=1.19 in /usr/local/lib/python3.11/dist-packages (from geedim) (2.0.2)\n",
            "Collecting rasterio>=1.3.8 (from geedim)\n",
            "  Downloading rasterio-1.4.3-cp311-cp311-manylinux_2_17_x86_64.manylinux2014_x86_64.whl.metadata (9.1 kB)\n",
            "Requirement already satisfied: click>=8 in /usr/local/lib/python3.11/dist-packages (from geedim) (8.2.1)\n",
            "Requirement already satisfied: tqdm>=4.6 in /usr/local/lib/python3.11/dist-packages (from geedim) (4.67.1)\n",
            "Requirement already satisfied: earthengine-api>=0.1.379 in /usr/local/lib/python3.11/dist-packages (from geedim) (1.5.21)\n",
            "Requirement already satisfied: requests>=2.2 in /usr/local/lib/python3.11/dist-packages (from geedim) (2.32.3)\n",
            "Requirement already satisfied: tabulate>=0.8 in /usr/local/lib/python3.11/dist-packages (from geedim) (0.9.0)\n",
            "Requirement already satisfied: google-cloud-storage in /usr/local/lib/python3.11/dist-packages (from earthengine-api>=0.1.379->geedim) (2.19.0)\n",
            "Requirement already satisfied: google-api-python-client>=1.12.1 in /usr/local/lib/python3.11/dist-packages (from earthengine-api>=0.1.379->geedim) (2.173.0)\n",
            "Requirement already satisfied: google-auth>=1.4.1 in /usr/local/lib/python3.11/dist-packages (from earthengine-api>=0.1.379->geedim) (2.38.0)\n",
            "Requirement already satisfied: google-auth-httplib2>=0.0.3 in /usr/local/lib/python3.11/dist-packages (from earthengine-api>=0.1.379->geedim) (0.2.0)\n",
            "Requirement already satisfied: httplib2<1dev,>=0.9.2 in /usr/local/lib/python3.11/dist-packages (from earthengine-api>=0.1.379->geedim) (0.22.0)\n",
            "Collecting affine (from rasterio>=1.3.8->geedim)\n",
            "  Downloading affine-2.4.0-py3-none-any.whl.metadata (4.0 kB)\n",
            "Requirement already satisfied: attrs in /usr/local/lib/python3.11/dist-packages (from rasterio>=1.3.8->geedim) (25.3.0)\n",
            "Requirement already satisfied: certifi in /usr/local/lib/python3.11/dist-packages (from rasterio>=1.3.8->geedim) (2025.6.15)\n",
            "Collecting cligj>=0.5 (from rasterio>=1.3.8->geedim)\n",
            "  Downloading cligj-0.7.2-py3-none-any.whl.metadata (5.0 kB)\n",
            "Collecting click-plugins (from rasterio>=1.3.8->geedim)\n",
            "  Downloading click_plugins-1.1.1.2-py2.py3-none-any.whl.metadata (6.5 kB)\n",
            "Requirement already satisfied: pyparsing in /usr/local/lib/python3.11/dist-packages (from rasterio>=1.3.8->geedim) (3.2.3)\n",
            "Requirement already satisfied: charset-normalizer<4,>=2 in /usr/local/lib/python3.11/dist-packages (from requests>=2.2->geedim) (3.4.2)\n",
            "Requirement already satisfied: idna<4,>=2.5 in /usr/local/lib/python3.11/dist-packages (from requests>=2.2->geedim) (3.10)\n",
            "Requirement already satisfied: urllib3<3,>=1.21.1 in /usr/local/lib/python3.11/dist-packages (from requests>=2.2->geedim) (2.4.0)\n",
            "Requirement already satisfied: google-api-core!=2.0.*,!=2.1.*,!=2.2.*,!=2.3.0,<3.0.0,>=1.31.5 in /usr/local/lib/python3.11/dist-packages (from google-api-python-client>=1.12.1->earthengine-api>=0.1.379->geedim) (2.25.1)\n",
            "Requirement already satisfied: uritemplate<5,>=3.0.1 in /usr/local/lib/python3.11/dist-packages (from google-api-python-client>=1.12.1->earthengine-api>=0.1.379->geedim) (4.2.0)\n",
            "Requirement already satisfied: cachetools<6.0,>=2.0.0 in /usr/local/lib/python3.11/dist-packages (from google-auth>=1.4.1->earthengine-api>=0.1.379->geedim) (5.5.2)\n",
            "Requirement already satisfied: pyasn1-modules>=0.2.1 in /usr/local/lib/python3.11/dist-packages (from google-auth>=1.4.1->earthengine-api>=0.1.379->geedim) (0.4.2)\n",
            "Requirement already satisfied: rsa<5,>=3.1.4 in /usr/local/lib/python3.11/dist-packages (from google-auth>=1.4.1->earthengine-api>=0.1.379->geedim) (4.9.1)\n",
            "Requirement already satisfied: google-cloud-core<3.0dev,>=2.3.0 in /usr/local/lib/python3.11/dist-packages (from google-cloud-storage->earthengine-api>=0.1.379->geedim) (2.4.3)\n",
            "Requirement already satisfied: google-resumable-media>=2.7.2 in /usr/local/lib/python3.11/dist-packages (from google-cloud-storage->earthengine-api>=0.1.379->geedim) (2.7.2)\n",
            "Requirement already satisfied: google-crc32c<2.0dev,>=1.0 in /usr/local/lib/python3.11/dist-packages (from google-cloud-storage->earthengine-api>=0.1.379->geedim) (1.7.1)\n",
            "Requirement already satisfied: googleapis-common-protos<2.0.0,>=1.56.2 in /usr/local/lib/python3.11/dist-packages (from google-api-core!=2.0.*,!=2.1.*,!=2.2.*,!=2.3.0,<3.0.0,>=1.31.5->google-api-python-client>=1.12.1->earthengine-api>=0.1.379->geedim) (1.70.0)\n",
            "Requirement already satisfied: protobuf!=3.20.0,!=3.20.1,!=4.21.0,!=4.21.1,!=4.21.2,!=4.21.3,!=4.21.4,!=4.21.5,<7.0.0,>=3.19.5 in /usr/local/lib/python3.11/dist-packages (from google-api-core!=2.0.*,!=2.1.*,!=2.2.*,!=2.3.0,<3.0.0,>=1.31.5->google-api-python-client>=1.12.1->earthengine-api>=0.1.379->geedim) (5.29.5)\n",
            "Requirement already satisfied: proto-plus<2.0.0,>=1.22.3 in /usr/local/lib/python3.11/dist-packages (from google-api-core!=2.0.*,!=2.1.*,!=2.2.*,!=2.3.0,<3.0.0,>=1.31.5->google-api-python-client>=1.12.1->earthengine-api>=0.1.379->geedim) (1.26.1)\n",
            "Requirement already satisfied: pyasn1<0.7.0,>=0.6.1 in /usr/local/lib/python3.11/dist-packages (from pyasn1-modules>=0.2.1->google-auth>=1.4.1->earthengine-api>=0.1.379->geedim) (0.6.1)\n",
            "Downloading geedim-1.9.1-py3-none-any.whl (74 kB)\n",
            "\u001b[2K   \u001b[90m━━━━━━━━━━━━━━━━━━━━━━━━━━━━━━━━━━━━━━━━\u001b[0m \u001b[32m74.1/74.1 kB\u001b[0m \u001b[31m1.8 MB/s\u001b[0m eta \u001b[36m0:00:00\u001b[0m\n",
            "\u001b[?25hDownloading rasterio-1.4.3-cp311-cp311-manylinux_2_17_x86_64.manylinux2014_x86_64.whl (22.2 MB)\n",
            "\u001b[2K   \u001b[90m━━━━━━━━━━━━━━━━━━━━━━━━━━━━━━━━━━━━━━━━\u001b[0m \u001b[32m22.2/22.2 MB\u001b[0m \u001b[31m76.2 MB/s\u001b[0m eta \u001b[36m0:00:00\u001b[0m\n",
            "\u001b[?25hDownloading cligj-0.7.2-py3-none-any.whl (7.1 kB)\n",
            "Downloading affine-2.4.0-py3-none-any.whl (15 kB)\n",
            "Downloading click_plugins-1.1.1.2-py2.py3-none-any.whl (11 kB)\n",
            "Installing collected packages: cligj, click-plugins, affine, rasterio, geedim\n",
            "Successfully installed affine-2.4.0 click-plugins-1.1.1.2 cligj-0.7.2 geedim-1.9.1 rasterio-1.4.3\n"
          ]
        }
      ]
    },
    {
      "cell_type": "code",
      "source": [
        "import numpy as np\n",
        "from PIL import Image\n",
        "aoi = ee.Geometry.BBox(-74.1, -10.5, -73.5, -10.0)  # Amazon basin area (example)\n",
        "start = '2022-07-01'\n",
        "end = '2022-07-31'\n",
        "# NDVI from Sentinel-2\n",
        "aoi = ee.Geometry.BBox(-74.1, -10.5, -73.5, -10.0)\n",
        "start, end = '2022-07-01', '2022-07-31'\n",
        "\n",
        "s2 = ee.ImageCollection('COPERNICUS/S2_SR_HARMONIZED').filterBounds(aoi).filterDate(start, end).median()\n",
        "ndvi = s2.normalizedDifference(['B8', 'B4']).rename('NDVI')\n",
        "s1 = ee.ImageCollection('COPERNICUS/S1_GRD').filterBounds(aoi).filterDate(start, end).select('VV').median().rename('Radar')\n",
        "srtm = ee.Image('USGS/SRTMGL1_003').clip(aoi)\n",
        "lst = ee.ImageCollection('MODIS/061/MOD11A2').filterBounds(aoi).filterDate(start, end).mean().select('LST_Day_1km').multiply(0.02).subtract(273.15).rename('LST')\n",
        "#smap = ee.ImageCollection('NASA_USDA/HSL/SMAP10KM_soil_moisture_v3').filterBounds(aoi).filterDate(start, end).select('ssm').mean().rename('Soil_Moisture')\n",
        "smap = ee.ImageCollection('NASA_USDA/HSL/SMAP10KM_soil_moisture') \\\n",
        "    .filterBounds(aoi).filterDate(start, end) \\\n",
        "    .select('ssm').mean().rename('Soil_Moisture')\n",
        "\n",
        "# For each layer, explicitly select only one band before visualization\n",
        "layers = {\n",
        "    'NDVI': ndvi.select(0).visualize(min=0, max=1, palette=['white', 'green']),\n",
        "    'Radar': s1.select(0).visualize(min=-20, max=0, palette=['white', 'black']),\n",
        "    'Elevation': srtm.select(0).visualize(min=0, max=3000, palette=['#00FFFF', '#000080']),\n",
        "    'LST': lst.select(0).visualize(min=20, max=45, palette=['blue', 'green', 'red']),\n",
        "    'Soil_Moisture': smap.select(0).visualize(min=0, max=0.4, palette=['#fef0d9', '#fdcc8a', '#fc8d59', '#e34a33', '#b30000']),\n",
        "}\n",
        "\n",
        "frames = []\n",
        "vis_params = {\n",
        "    'NDVI': {'min': 0, 'max': 1, 'palette': ['white', 'green']},\n",
        "    'Radar': {'min': -20, 'max': 0, 'palette': ['white', 'black']},\n",
        "    'Elevation': {'min': 0, 'max': 3000, 'palette': ['#00FFFF', '#000080']},\n",
        "    'LST': {'min': 20, 'max': 45, 'palette': ['blue', 'green', 'red']},\n",
        "    'Soil_Moisture': {'min': 0, 'max': 0.4, 'palette': ['#fef0d9', '#fdcc8a', '#fc8d59', '#e34a33', '#b30000']}\n",
        "}\n",
        "\n",
        "# Define export projection explicitly\n",
        "scale = 30  # meters\n",
        "crs = 'EPSG:4326'\n",
        "\n",
        "for name, image in layers.items():\n",
        "    #vis_image = image.visualize(**vis_params[name])\n",
        "    array = geemap.ee_to_numpy(image, region=aoi, scale=scale)#, crs=crs)#vis_image, region=aoi, scale=scale)#, crs=crs)\n",
        "    array = np.squeeze(array)\n",
        "\n",
        "    # Convert to 8-bit RGB and save\n",
        "    array = np.clip(array, 0, 255).astype(np.uint8)\n",
        "    image_rgb = Image.fromarray(array)\n",
        "    image_rgb.save(f\"{name}.png\")\n",
        "\n",
        "    # Add to video frames\n",
        "    frame = cv2.imread(f\"{name}.png\")\n",
        "    frames.append(frame)\n"
      ],
      "metadata": {
        "colab": {
          "base_uri": "https://localhost:8080/",
          "height": 17
        },
        "id": "7i-wWI26ljCw",
        "outputId": "c3b8e715-8b45-4751-c70f-82ec4917225a"
      },
      "execution_count": 15,
      "outputs": [
        {
          "output_type": "display_data",
          "data": {
            "text/plain": [
              "<IPython.core.display.HTML object>"
            ],
            "text/html": [
              "\n",
              "            <style>\n",
              "                .geemap-dark {\n",
              "                    --jp-widgets-color: white;\n",
              "                    --jp-widgets-label-color: white;\n",
              "                    --jp-ui-font-color1: white;\n",
              "                    --jp-layout-color2: #454545;\n",
              "                    background-color: #383838;\n",
              "                }\n",
              "\n",
              "                .geemap-dark .jupyter-button {\n",
              "                    --jp-layout-color3: #383838;\n",
              "                }\n",
              "\n",
              "                .geemap-colab {\n",
              "                    background-color: var(--colab-primary-surface-color, white);\n",
              "                }\n",
              "\n",
              "                .geemap-colab .jupyter-button {\n",
              "                    --jp-layout-color3: var(--colab-primary-surface-color, white);\n",
              "                }\n",
              "            </style>\n",
              "            "
            ]
          },
          "metadata": {}
        }
      ]
    },
    {
      "cell_type": "code",
      "source": [
        "height, width, _ = frames[0].shape\n",
        "video = cv2.VideoWriter('archaeology_layers.mp4', cv2.VideoWriter_fourcc(*'mp4v'), 1, (width, height))\n",
        "\n",
        "for frame in frames:\n",
        "    video.write(frame)\n",
        "\n",
        "video.release()\n"
      ],
      "metadata": {
        "colab": {
          "base_uri": "https://localhost:8080/",
          "height": 17
        },
        "id": "hrXG72GNu8Y1",
        "outputId": "08b277b1-6f38-462d-f88c-84b4f1f98f5e"
      },
      "execution_count": 16,
      "outputs": [
        {
          "output_type": "display_data",
          "data": {
            "text/plain": [
              "<IPython.core.display.HTML object>"
            ],
            "text/html": [
              "\n",
              "            <style>\n",
              "                .geemap-dark {\n",
              "                    --jp-widgets-color: white;\n",
              "                    --jp-widgets-label-color: white;\n",
              "                    --jp-ui-font-color1: white;\n",
              "                    --jp-layout-color2: #454545;\n",
              "                    background-color: #383838;\n",
              "                }\n",
              "\n",
              "                .geemap-dark .jupyter-button {\n",
              "                    --jp-layout-color3: #383838;\n",
              "                }\n",
              "\n",
              "                .geemap-colab {\n",
              "                    background-color: var(--colab-primary-surface-color, white);\n",
              "                }\n",
              "\n",
              "                .geemap-colab .jupyter-button {\n",
              "                    --jp-layout-color3: var(--colab-primary-surface-color, white);\n",
              "                }\n",
              "            </style>\n",
              "            "
            ]
          },
          "metadata": {}
        }
      ]
    }
  ]
}