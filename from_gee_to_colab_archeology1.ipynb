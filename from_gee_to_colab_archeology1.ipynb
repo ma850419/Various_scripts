{
  "nbformat": 4,
  "nbformat_minor": 0,
  "metadata": {
    "colab": {
      "provenance": [],
      "gpuType": "T4",
      "include_colab_link": true
    },
    "kernelspec": {
      "name": "python3",
      "display_name": "Python 3"
    },
    "language_info": {
      "name": "python"
    },
    "accelerator": "GPU"
  },
  "cells": [
    {
      "cell_type": "markdown",
      "metadata": {
        "id": "view-in-github",
        "colab_type": "text"
      },
      "source": [
        "<a href=\"https://colab.research.google.com/github/ma850419/Various_scripts/blob/main/from_gee_to_colab_archeology1.ipynb\" target=\"_parent\"><img src=\"https://colab.research.google.com/assets/colab-badge.svg\" alt=\"Open In Colab\"/></a>"
      ]
    },
    {
      "cell_type": "code",
      "execution_count": 1,
      "metadata": {
        "id": "lJHo6-Sy4sLQ"
      },
      "outputs": [],
      "source": [
        "import ee\n",
        "ee.Authenticate()\n",
        "ee.Initialize(project='velvety-ring-328419')"
      ]
    },
    {
      "cell_type": "code",
      "source": [
        "# Install geemap if not already installed\n",
        "!pip install geemap\n",
        "\n"
      ],
      "metadata": {
        "id": "ZwoJA0eSaHCb"
      },
      "execution_count": null,
      "outputs": []
    },
    {
      "cell_type": "code",
      "source": [
        "import geemap\n",
        "import ee\n",
        "\n",
        "# Initialize Earth Engine\n",
        "ee.Initialize(project='velvety-ring-328419')\n",
        "\n",
        "# Define region of interest\n",
        "mask = ee.FeatureCollection('USDOS/LSIB_SIMPLE/2017').filter(ee.Filter.eq('wld_rgn', 'South America'))\n",
        "SA = mask.geometry()\n",
        "\n",
        "# Load archaeological points (assuming it's a FeatureCollection in GEE)\n",
        "archaeology_points = ee.FeatureCollection('users/mohamadawadlebanon/Archeologicalsites')\n",
        "\n",
        "# Extract available dates for Sentinel-1\n",
        "sentinel1_dates = ee.List(ee.ImageCollection(\"COPERNICUS/S1_GRD\").filterBounds(SA)\n",
        "    .filter(ee.Filter.listContains('transmitterReceiverPolarisation', 'VV'))\n",
        "    .filter(ee.Filter.eq('instrumentMode', 'IW'))\n",
        "    .aggregate_array('system:time_start')).map(ee.Date)\n",
        "\n",
        "sentinel2_dates = ee.List(ee.ImageCollection(\"COPERNICUS/S2\").filterBounds(SA)\n",
        "    .filter(ee.Filter.lt('CLOUDY_PIXEL_PERCENTAGE', 50))\n",
        "    .aggregate_array('system:time_start')).map(ee.Date)\n",
        "\n",
        "# Find common dates\n",
        "common_dates = sentinel1_dates.filter(ee.Filter.inList(None, sentinel2_dates))\n",
        "#common_dates = sentinel1_dates.filter(lambda date: sentinel2_dates.contains(date))\n",
        "#common_dates = sentinel1_dates.filter(ee.Filter.inList(sentinel1_dates, sentinel2_date_dict.keys()))\n",
        "# Function to process and classify images for each date\n",
        "def classify_image(date):\n",
        "    date_range = ee.Date(date).advance(1, 'day')  # Allow slight tolerance\n",
        "\n",
        "    sentinel2 = ee.ImageCollection(\"COPERNICUS/S2\").filterBounds(SA) \\\n",
        "        .filterDate(date, date_range) \\\n",
        "        .select([\"B8\", \"B11\", \"B12\"]).median()\n",
        "\n",
        "    sentinel1 = ee.ImageCollection(\"COPERNICUS/S1_GRD\").filterBounds(SA) \\\n",
        "        .filterDate(date, date_range) \\\n",
        "        .filter(ee.Filter.listContains('transmitterReceiverPolarisation', 'VV')) \\\n",
        "        .filter(ee.Filter.eq('instrumentMode', 'IW')) \\\n",
        "        .select(\"VV\").median()\n",
        "\n",
        "    combined = sentinel2.addBands(sentinel1)\n",
        "\n",
        "    # Train classifier using archaeological points\n",
        "    training = combined.sampleRegions(collection=archaeology_points, properties=['class'], scale=30)\n",
        "    classifier = ee.Classifier.smileRandomForest(10).train(training, 'class')\n",
        "\n",
        "    # Classify image\n",
        "    classified = combined.classify(classifier)\n",
        "\n",
        "    return classified.set(\"date\", date)  # Store date for tracking\n",
        "\n",
        "# Apply classification to each image in the collection\n",
        "classified_images = ee.ImageCollection(common_dates.map(classify_image))\n",
        "\n",
        "# Create Map\n",
        "m = geemap.Map(center=[-14.2, -51.9], zoom=4)\n",
        "\n",
        "# Display each classified image\n",
        "list_of_images = classified_images.toList(classified_images.size())\n",
        "\n",
        "for i in range(list_of_images.size().getInfo()):\n",
        "    img = ee.Image(list_of_images.get(i))\n",
        "    date_label = ee.Date(img.get(\"date\")).format(\"YYYY-MM-dd\").getInfo()\n",
        "\n",
        "    vis_params = {\n",
        "        \"bands\": [\"B12\", \"B11\", \"VV\"],\n",
        "        \"min\": 0,\n",
        "        \"max\": 1,\n",
        "        \"gamma\": 1.4\n",
        "    }\n",
        "    m.addLayer(img, vis_params, f\"Archaeological Prediction {date_label}\")\n",
        "\n",
        "m.addLayer(mask, {\"color\": \"black\"}, \"South America Mask\")\n",
        "m\n"
      ],
      "metadata": {
        "id": "zAgxbjQkgMvs",
        "outputId": "50fe3208-69c0-4e11-c97c-c7403a103826",
        "colab": {
          "base_uri": "https://localhost:8080/",
          "height": 547
        }
      },
      "execution_count": 2,
      "outputs": [
        {
          "output_type": "stream",
          "name": "stderr",
          "text": [
            "/usr/local/lib/python3.11/dist-packages/ee/deprecation.py:207: DeprecationWarning: \n",
            "\n",
            "Attention required for COPERNICUS/S2! You are using a deprecated asset.\n",
            "To make sure your code keeps working, please update it.\n",
            "Learn more: https://developers.google.com/earth-engine/datasets/catalog/COPERNICUS_S2\n",
            "\n",
            "  warnings.warn(warning, category=DeprecationWarning)\n"
          ]
        },
        {
          "output_type": "error",
          "ename": "EEException",
          "evalue": "Computation timed out.",
          "traceback": [
            "\u001b[0;31m---------------------------------------------------------------------------\u001b[0m",
            "\u001b[0;31mHttpError\u001b[0m                                 Traceback (most recent call last)",
            "\u001b[0;32m/usr/local/lib/python3.11/dist-packages/ee/data.py\u001b[0m in \u001b[0;36m_execute_cloud_call\u001b[0;34m(call, num_retries)\u001b[0m\n\u001b[1;32m    407\u001b[0m   \u001b[0;32mtry\u001b[0m\u001b[0;34m:\u001b[0m\u001b[0;34m\u001b[0m\u001b[0;34m\u001b[0m\u001b[0m\n\u001b[0;32m--> 408\u001b[0;31m     \u001b[0;32mreturn\u001b[0m \u001b[0mcall\u001b[0m\u001b[0;34m.\u001b[0m\u001b[0mexecute\u001b[0m\u001b[0;34m(\u001b[0m\u001b[0mnum_retries\u001b[0m\u001b[0;34m=\u001b[0m\u001b[0mnum_retries\u001b[0m\u001b[0;34m)\u001b[0m\u001b[0;34m\u001b[0m\u001b[0;34m\u001b[0m\u001b[0m\n\u001b[0m\u001b[1;32m    409\u001b[0m   \u001b[0;32mexcept\u001b[0m \u001b[0mgoogleapiclient\u001b[0m\u001b[0;34m.\u001b[0m\u001b[0merrors\u001b[0m\u001b[0;34m.\u001b[0m\u001b[0mHttpError\u001b[0m \u001b[0;32mas\u001b[0m \u001b[0me\u001b[0m\u001b[0;34m:\u001b[0m\u001b[0;34m\u001b[0m\u001b[0;34m\u001b[0m\u001b[0m\n",
            "\u001b[0;32m/usr/local/lib/python3.11/dist-packages/googleapiclient/_helpers.py\u001b[0m in \u001b[0;36mpositional_wrapper\u001b[0;34m(*args, **kwargs)\u001b[0m\n\u001b[1;32m    129\u001b[0m                     \u001b[0mlogger\u001b[0m\u001b[0;34m.\u001b[0m\u001b[0mwarning\u001b[0m\u001b[0;34m(\u001b[0m\u001b[0mmessage\u001b[0m\u001b[0;34m)\u001b[0m\u001b[0;34m\u001b[0m\u001b[0;34m\u001b[0m\u001b[0m\n\u001b[0;32m--> 130\u001b[0;31m             \u001b[0;32mreturn\u001b[0m \u001b[0mwrapped\u001b[0m\u001b[0;34m(\u001b[0m\u001b[0;34m*\u001b[0m\u001b[0margs\u001b[0m\u001b[0;34m,\u001b[0m \u001b[0;34m**\u001b[0m\u001b[0mkwargs\u001b[0m\u001b[0;34m)\u001b[0m\u001b[0;34m\u001b[0m\u001b[0;34m\u001b[0m\u001b[0m\n\u001b[0m\u001b[1;32m    131\u001b[0m \u001b[0;34m\u001b[0m\u001b[0m\n",
            "\u001b[0;32m/usr/local/lib/python3.11/dist-packages/googleapiclient/http.py\u001b[0m in \u001b[0;36mexecute\u001b[0;34m(self, http, num_retries)\u001b[0m\n\u001b[1;32m    937\u001b[0m         \u001b[0;32mif\u001b[0m \u001b[0mresp\u001b[0m\u001b[0;34m.\u001b[0m\u001b[0mstatus\u001b[0m \u001b[0;34m>=\u001b[0m \u001b[0;36m300\u001b[0m\u001b[0;34m:\u001b[0m\u001b[0;34m\u001b[0m\u001b[0;34m\u001b[0m\u001b[0m\n\u001b[0;32m--> 938\u001b[0;31m             \u001b[0;32mraise\u001b[0m \u001b[0mHttpError\u001b[0m\u001b[0;34m(\u001b[0m\u001b[0mresp\u001b[0m\u001b[0;34m,\u001b[0m \u001b[0mcontent\u001b[0m\u001b[0;34m,\u001b[0m \u001b[0muri\u001b[0m\u001b[0;34m=\u001b[0m\u001b[0mself\u001b[0m\u001b[0;34m.\u001b[0m\u001b[0muri\u001b[0m\u001b[0;34m)\u001b[0m\u001b[0;34m\u001b[0m\u001b[0;34m\u001b[0m\u001b[0m\n\u001b[0m\u001b[1;32m    939\u001b[0m         \u001b[0;32mreturn\u001b[0m \u001b[0mself\u001b[0m\u001b[0;34m.\u001b[0m\u001b[0mpostproc\u001b[0m\u001b[0;34m(\u001b[0m\u001b[0mresp\u001b[0m\u001b[0;34m,\u001b[0m \u001b[0mcontent\u001b[0m\u001b[0;34m)\u001b[0m\u001b[0;34m\u001b[0m\u001b[0;34m\u001b[0m\u001b[0m\n",
            "\u001b[0;31mHttpError\u001b[0m: <HttpError 400 when requesting https://earthengine.googleapis.com/v1/projects/velvety-ring-328419/value:compute?prettyPrint=false&alt=json returned \"Computation timed out.\". Details: \"Computation timed out.\">",
            "\nDuring handling of the above exception, another exception occurred:\n",
            "\u001b[0;31mEEException\u001b[0m                               Traceback (most recent call last)",
            "\u001b[0;32m<ipython-input-2-f63eeb15003f>\u001b[0m in \u001b[0;36m<cell line: 0>\u001b[0;34m()\u001b[0m\n\u001b[1;32m     60\u001b[0m \u001b[0mlist_of_images\u001b[0m \u001b[0;34m=\u001b[0m \u001b[0mclassified_images\u001b[0m\u001b[0;34m.\u001b[0m\u001b[0mtoList\u001b[0m\u001b[0;34m(\u001b[0m\u001b[0mclassified_images\u001b[0m\u001b[0;34m.\u001b[0m\u001b[0msize\u001b[0m\u001b[0;34m(\u001b[0m\u001b[0;34m)\u001b[0m\u001b[0;34m)\u001b[0m\u001b[0;34m\u001b[0m\u001b[0;34m\u001b[0m\u001b[0m\n\u001b[1;32m     61\u001b[0m \u001b[0;34m\u001b[0m\u001b[0m\n\u001b[0;32m---> 62\u001b[0;31m \u001b[0;32mfor\u001b[0m \u001b[0mi\u001b[0m \u001b[0;32min\u001b[0m \u001b[0mrange\u001b[0m\u001b[0;34m(\u001b[0m\u001b[0mlist_of_images\u001b[0m\u001b[0;34m.\u001b[0m\u001b[0msize\u001b[0m\u001b[0;34m(\u001b[0m\u001b[0;34m)\u001b[0m\u001b[0;34m.\u001b[0m\u001b[0mgetInfo\u001b[0m\u001b[0;34m(\u001b[0m\u001b[0;34m)\u001b[0m\u001b[0;34m)\u001b[0m\u001b[0;34m:\u001b[0m\u001b[0;34m\u001b[0m\u001b[0;34m\u001b[0m\u001b[0m\n\u001b[0m\u001b[1;32m     63\u001b[0m     \u001b[0mimg\u001b[0m \u001b[0;34m=\u001b[0m \u001b[0mee\u001b[0m\u001b[0;34m.\u001b[0m\u001b[0mImage\u001b[0m\u001b[0;34m(\u001b[0m\u001b[0mlist_of_images\u001b[0m\u001b[0;34m.\u001b[0m\u001b[0mget\u001b[0m\u001b[0;34m(\u001b[0m\u001b[0mi\u001b[0m\u001b[0;34m)\u001b[0m\u001b[0;34m)\u001b[0m\u001b[0;34m\u001b[0m\u001b[0;34m\u001b[0m\u001b[0m\n\u001b[1;32m     64\u001b[0m     \u001b[0mdate_label\u001b[0m \u001b[0;34m=\u001b[0m \u001b[0mee\u001b[0m\u001b[0;34m.\u001b[0m\u001b[0mDate\u001b[0m\u001b[0;34m(\u001b[0m\u001b[0mimg\u001b[0m\u001b[0;34m.\u001b[0m\u001b[0mget\u001b[0m\u001b[0;34m(\u001b[0m\u001b[0;34m\"date\"\u001b[0m\u001b[0;34m)\u001b[0m\u001b[0;34m)\u001b[0m\u001b[0;34m.\u001b[0m\u001b[0mformat\u001b[0m\u001b[0;34m(\u001b[0m\u001b[0;34m\"YYYY-MM-dd\"\u001b[0m\u001b[0;34m)\u001b[0m\u001b[0;34m.\u001b[0m\u001b[0mgetInfo\u001b[0m\u001b[0;34m(\u001b[0m\u001b[0;34m)\u001b[0m\u001b[0;34m\u001b[0m\u001b[0;34m\u001b[0m\u001b[0m\n",
            "\u001b[0;32m/usr/local/lib/python3.11/dist-packages/ee/computedobject.py\u001b[0m in \u001b[0;36mgetInfo\u001b[0;34m(self)\u001b[0m\n\u001b[1;32m    105\u001b[0m       \u001b[0mThe\u001b[0m \u001b[0mobject\u001b[0m \u001b[0mcan\u001b[0m \u001b[0mevaluate\u001b[0m \u001b[0mto\u001b[0m \u001b[0manything\u001b[0m\u001b[0;34m.\u001b[0m\u001b[0;34m\u001b[0m\u001b[0;34m\u001b[0m\u001b[0m\n\u001b[1;32m    106\u001b[0m     \"\"\"\n\u001b[0;32m--> 107\u001b[0;31m     \u001b[0;32mreturn\u001b[0m \u001b[0mdata\u001b[0m\u001b[0;34m.\u001b[0m\u001b[0mcomputeValue\u001b[0m\u001b[0;34m(\u001b[0m\u001b[0mself\u001b[0m\u001b[0;34m)\u001b[0m\u001b[0;34m\u001b[0m\u001b[0;34m\u001b[0m\u001b[0m\n\u001b[0m\u001b[1;32m    108\u001b[0m \u001b[0;34m\u001b[0m\u001b[0m\n\u001b[1;32m    109\u001b[0m   \u001b[0;32mdef\u001b[0m \u001b[0mencode\u001b[0m\u001b[0;34m(\u001b[0m\u001b[0mself\u001b[0m\u001b[0;34m,\u001b[0m \u001b[0mencoder\u001b[0m\u001b[0;34m:\u001b[0m \u001b[0mOptional\u001b[0m\u001b[0;34m[\u001b[0m\u001b[0mCallable\u001b[0m\u001b[0;34m[\u001b[0m\u001b[0;34m...\u001b[0m\u001b[0;34m,\u001b[0m \u001b[0mAny\u001b[0m\u001b[0;34m]\u001b[0m\u001b[0;34m]\u001b[0m\u001b[0;34m)\u001b[0m \u001b[0;34m->\u001b[0m \u001b[0mDict\u001b[0m\u001b[0;34m[\u001b[0m\u001b[0mstr\u001b[0m\u001b[0;34m,\u001b[0m \u001b[0mAny\u001b[0m\u001b[0;34m]\u001b[0m\u001b[0;34m:\u001b[0m\u001b[0;34m\u001b[0m\u001b[0;34m\u001b[0m\u001b[0m\n",
            "\u001b[0;32m/usr/local/lib/python3.11/dist-packages/ee/data.py\u001b[0m in \u001b[0;36mcomputeValue\u001b[0;34m(obj)\u001b[0m\n\u001b[1;32m   1126\u001b[0m   \u001b[0m_maybe_populate_workload_tag\u001b[0m\u001b[0;34m(\u001b[0m\u001b[0mbody\u001b[0m\u001b[0;34m)\u001b[0m\u001b[0;34m\u001b[0m\u001b[0;34m\u001b[0m\u001b[0m\n\u001b[1;32m   1127\u001b[0m \u001b[0;34m\u001b[0m\u001b[0m\n\u001b[0;32m-> 1128\u001b[0;31m   return _execute_cloud_call(\n\u001b[0m\u001b[1;32m   1129\u001b[0m       \u001b[0m_get_cloud_projects\u001b[0m\u001b[0;34m(\u001b[0m\u001b[0;34m)\u001b[0m\u001b[0;34m\u001b[0m\u001b[0;34m\u001b[0m\u001b[0m\n\u001b[1;32m   1130\u001b[0m       \u001b[0;34m.\u001b[0m\u001b[0mvalue\u001b[0m\u001b[0;34m(\u001b[0m\u001b[0;34m)\u001b[0m\u001b[0;34m\u001b[0m\u001b[0;34m\u001b[0m\u001b[0m\n",
            "\u001b[0;32m/usr/local/lib/python3.11/dist-packages/ee/data.py\u001b[0m in \u001b[0;36m_execute_cloud_call\u001b[0;34m(call, num_retries)\u001b[0m\n\u001b[1;32m    408\u001b[0m     \u001b[0;32mreturn\u001b[0m \u001b[0mcall\u001b[0m\u001b[0;34m.\u001b[0m\u001b[0mexecute\u001b[0m\u001b[0;34m(\u001b[0m\u001b[0mnum_retries\u001b[0m\u001b[0;34m=\u001b[0m\u001b[0mnum_retries\u001b[0m\u001b[0;34m)\u001b[0m\u001b[0;34m\u001b[0m\u001b[0;34m\u001b[0m\u001b[0m\n\u001b[1;32m    409\u001b[0m   \u001b[0;32mexcept\u001b[0m \u001b[0mgoogleapiclient\u001b[0m\u001b[0;34m.\u001b[0m\u001b[0merrors\u001b[0m\u001b[0;34m.\u001b[0m\u001b[0mHttpError\u001b[0m \u001b[0;32mas\u001b[0m \u001b[0me\u001b[0m\u001b[0;34m:\u001b[0m\u001b[0;34m\u001b[0m\u001b[0;34m\u001b[0m\u001b[0m\n\u001b[0;32m--> 410\u001b[0;31m     \u001b[0;32mraise\u001b[0m \u001b[0m_translate_cloud_exception\u001b[0m\u001b[0;34m(\u001b[0m\u001b[0me\u001b[0m\u001b[0;34m)\u001b[0m  \u001b[0;31m# pylint: disable=raise-missing-from\u001b[0m\u001b[0;34m\u001b[0m\u001b[0;34m\u001b[0m\u001b[0m\n\u001b[0m\u001b[1;32m    411\u001b[0m \u001b[0;34m\u001b[0m\u001b[0m\n\u001b[1;32m    412\u001b[0m \u001b[0;34m\u001b[0m\u001b[0m\n",
            "\u001b[0;31mEEException\u001b[0m: Computation timed out."
          ]
        }
      ]
    },
    {
      "cell_type": "code",
      "source": [
        "import geemap\n",
        "import ee\n",
        "\n",
        "# Initialize Earth Engine\n",
        "ee.Initialize(project='velvety-ring-328419')\n",
        "\n",
        "# Define region of interest (South America)\n",
        "mask = ee.FeatureCollection('USDOS/LSIB_SIMPLE/2017').filter(ee.Filter.eq('wld_rgn', 'South America'))\n",
        "SA = mask.geometry()\n",
        "\n",
        "# Load MODIS NDVI Data\n",
        "modis_col = ee.ImageCollection('MODIS/006/MOD13A2').select('NDVI').filterBounds(SA).filterDate('2024-01-01', '2024-12-31')\n",
        "modis_mosaic = modis_col.mosaic().unitScale(0, 10000)  # Normalize NDVI\n",
        "\n",
        "# Load Sentinel-2 Data (NIR & SWIR Bands)\n",
        "sentinel2_col = ee.ImageCollection(\"COPERNICUS/S2\").filterBounds(SA).filterDate('2024-01-01', '2024-12-31') \\\n",
        "    .filter(ee.Filter.lt('CLOUDY_PIXEL_PERCENTAGE', 50)).select([\"B8\", \"B11\", \"B12\"])  # Select NIR & SWIR bands\n",
        "sentinel2_mosaic = sentinel2_col.mosaic().divide(10000)  # Normalize reflectance\n",
        "\n",
        "# Load Sentinel-1 Data (SAR VV)\n",
        "sentinel1_col = ee.ImageCollection(\"COPERNICUS/S1_GRD\").filterBounds(SA).filterDate('2024-01-01', '2024-12-31') \\\n",
        "    .filter(ee.Filter.listContains('transmitterReceiverPolarisation', 'VV')).filter(ee.Filter.eq('instrumentMode', 'IW')) \\\n",
        "    .select(\"VV\")\n",
        "sentinel1_mosaic = sentinel1_col.mosaic().unitScale(-25, 0)  # Convert backscatter to dB\n",
        "\n",
        "# Combine Datasets into One Composite Image\n",
        "combined = sentinel2_mosaic.addBands(sentinel1_mosaic).addBands(modis_mosaic)\n",
        "\n",
        "# Visualization Parameters\n",
        "vis_params = {\n",
        "    \"bands\": [\"B12\", \"B11\", \"VV\"],  # SWIR & SAR for archaeology visibility\n",
        "    \"min\": 0,\n",
        "    \"max\": 1,\n",
        "    \"gamma\": 1.4\n",
        "}\n",
        "\n",
        "# Create Map\n",
        "m = geemap.Map(center=[-14.2, -51.9], zoom=4)\n",
        "m.addLayer(combined, vis_params, \"Sentinel-2 + Sentinel-1 + NDVI Composite\")\n",
        "m.addLayer(mask, {\"color\": \"black\"}, \"South America Mask\")\n",
        "m\n"
      ],
      "metadata": {
        "id": "uUlXItVm-sez"
      },
      "execution_count": null,
      "outputs": []
    },
    {
      "cell_type": "code",
      "source": [],
      "metadata": {
        "id": "4EFf1E_2BoEy"
      },
      "execution_count": null,
      "outputs": []
    },
    {
      "cell_type": "code",
      "source": [
        "!pip install /content/ee-packages-py-main/"
      ],
      "metadata": {
        "id": "j7Gl5orGCMig"
      },
      "execution_count": null,
      "outputs": []
    },
    {
      "cell_type": "code",
      "source": [
        "\n",
        "import geemap\n",
        "\n",
        "\n",
        "# Initialize Earth Engine (assuming Authenticate() has been run previously)\n",
        "ee.Initialize(project='velvety-ring-328419')\n",
        "\n",
        "# Define region of interest (South America)\n",
        "mask = ee.FeatureCollection('USDOS/LSIB_SIMPLE/2017').filter(ee.Filter.eq('wld_rgn', 'South America'))\n",
        "SA = mask.geometry()\n",
        "\n",
        "# Load MODIS NDVI data and mosaic\n",
        "modis_col = ee.ImageCollection('MODIS/006/MOD13A2').select('NDVI').filterBounds(SA).filterDate('2024-01-01', '2024-12-31')\n",
        "# Create a mosaic of the MODIS collection for visualization\n",
        "modis_mosaic = modis_col.mosaic()\n",
        "\n",
        "# Load Sentinel-2 (Optical Data) and mosaic\n",
        "# Filter by bounds before filtering by date to be more efficient\n",
        "sentinel2_col = ee.ImageCollection(\"COPERNICUS/S2\").filterBounds(SA).filterDate('2024-01-01', '2024-12-31').filter(ee.Filter.lt('CLOUDY_PIXEL_PERCENTAGE', 50)) # Add cloud filter\n",
        "# Create a mosaic of the Sentinel-2 collection\n",
        "sentinel2_mosaic = sentinel2_col.mosaic()\n",
        "\n",
        "\n",
        "# Load Sentinel-1 (SAR Data) and mosaic\n",
        "# Filter by bounds before filtering by date to be more efficient\n",
        "# Changed the collection ID from 'COPERNICUS/S1' to 'COPERNICUS/S1_GRD'\n",
        "sentinel1_col = ee.ImageCollection(\"COPERNICUS/S1_GRD\").filterBounds(SA).filterDate('2024-01-01', '2024-12-31').filter(ee.Filter.listContains('transmitterReceiverPolarisation', 'VV')).filter(ee.Filter.eq('instrumentMode', 'IW')) # Filter for a specific mode\n",
        "# Create a mosaic of the Sentinel-1 collection\n",
        "sentinel1_mosaic = sentinel1_col.mosaic()\n",
        "\n",
        "\n",
        "# Visualization parameters\n",
        "modis_vis = {\n",
        "    'min': 0,\n",
        "    'max': 8000,\n",
        "    'palette': ['red', 'yellow', 'green']  # Single-band, palette allowed\n",
        "}\n",
        "sentinel2_vis = {\n",
        "    'bands': ['B4', 'B3', 'B2'],  # True color visualization\n",
        "    'min': 0,\n",
        "    'max': 3000\n",
        "}\n",
        "sentinel1_vis = {\n",
        "    'min': -25,\n",
        "    'max': 0\n",
        "}\n",
        "\n",
        "# Create map\n",
        "m = geemap.Map(center=[-14.2, -51.9], zoom=4)\n",
        "\n",
        "# Add the mosaic images to the map\n",
        "m.addLayer(modis_mosaic, modis_vis, \"MODIS NDVI Mosaic\")\n",
        "m.addLayer(sentinel2_mosaic, sentinel2_vis, \"Sentinel-2 Mosaic (True Color)\")\n",
        "m.addLayer(sentinel1_mosaic, sentinel1_vis, \"Sentinel-1 Mosaic (VV)\")\n",
        "\n",
        "\n",
        "# Add region mask\n",
        "m.addLayer(mask, {'color': 'black'}, \"South America Mask\")\n",
        "\n",
        "# Display the map\n",
        "m"
      ],
      "metadata": {
        "id": "HzAr_mHO5EAP"
      },
      "execution_count": null,
      "outputs": []
    },
    {
      "cell_type": "code",
      "source": [
        "#print(modis_col.size().getInfo())  # Should return >0 if images exist\n",
        "print(sentinel2_col.size().getInfo())\n",
        "#print(sentinel1_col.size().getInfo())\n"
      ],
      "metadata": {
        "id": "P_tv_z9IxF5R"
      },
      "execution_count": null,
      "outputs": []
    },
    {
      "cell_type": "code",
      "source": [
        "import geemap\n",
        "import ee\n",
        "\n",
        "# Initialize Earth Engine\n",
        "ee.Initialize(project='velvety-ring-328419')\n",
        "\n",
        "# Define region of interest (South America)\n",
        "mask = ee.FeatureCollection('USDOS/LSIB_SIMPLE/2017').filter(ee.Filter.eq('wld_rgn', 'South America'))\n",
        "SA = mask.geometry()\n",
        "\n",
        "# Function to group images by month and stitch them\n",
        "def stitch_images_by_month(image_collection, year, month):\n",
        "    filtered_col = image_collection.filter(ee.Filter.calendarRange(year, year, 'year')) \\\n",
        "                                   .filter(ee.Filter.calendarRange(month, month, 'month'))\n",
        "    return filtered_col.mosaic().set('year', year, 'month', month)\n",
        "\n",
        "# Load MODIS NDVI data and process by month\n",
        "modis_col = ee.ImageCollection('MODIS/006/MOD13A2').select('NDVI').filterBounds(SA).filterDate('2023-04-01', '2023-08-31')\n",
        "modis_stitched = stitch_images_by_month(modis_col, 2023, 6)  # Example for June\n",
        "\n",
        "# Load Sentinel-2 data and process by month\n",
        "sentinel2_col = ee.ImageCollection(\"COPERNICUS/S2\").filterBounds(SA).filterDate('2023-04-01', '2023-08-31').filter(ee.Filter.lt('CLOUDY_PIXEL_PERCENTAGE', 20))\n",
        "sentinel2_stitched = stitch_images_by_month(sentinel2_col, 2023, 6)\n",
        "\n",
        "# Load Sentinel-1 data and process by month\n",
        "sentinel1_col = ee.ImageCollection(\"COPERNICUS/S1_GRD\").filterBounds(SA).filterDate('2023-04-01', '2023-08-31').filter(ee.Filter.listContains('transmitterReceiverPolarisation', 'VV')).filter(ee.Filter.eq('instrumentMode', 'IW'))\n",
        "sentinel1_stitched = stitch_images_by_month(sentinel1_col, 2023, 6)\n",
        "\n",
        "# Visualization parameters\n",
        "modis_vis = {\n",
        "    'min': 0,\n",
        "    'max': 8000,\n",
        "    'palette': ['red', 'yellow', 'green']\n",
        "}\n",
        "sentinel2_vis = {\n",
        "    'bands': ['B4', 'B3', 'B2'],\n",
        "    'min': 0,\n",
        "    'max': 3000\n",
        "}\n",
        "sentinel1_vis = {\n",
        "    'min': -25,\n",
        "    'max': 0\n",
        "}\n",
        "\n",
        "# Create map\n",
        "m = geemap.Map(center=[-14.2, -51.9], zoom=4)\n",
        "\n",
        "# Add stitched images to the map\n",
        "m.addLayer(modis_stitched, modis_vis, \"MODIS NDVI Stitched by Month\")\n",
        "m.addLayer(sentinel2_stitched, sentinel2_vis, \"Sentinel-2 Stitched by Month\")\n",
        "m.addLayer(sentinel1_stitched, sentinel1_vis, \"Sentinel-1 Stitched by Month\")\n",
        "\n",
        "# Add region mask\n",
        "m.addLayer(mask, {'color': 'black'}, \"South America Mask\")\n",
        "\n",
        "# Display the map\n",
        "m\n"
      ],
      "metadata": {
        "id": "6IXjh_mSZBe4"
      },
      "execution_count": null,
      "outputs": []
    },
    {
      "cell_type": "code",
      "source": [
        "#text = require('users/gena/packages:text');\n",
        "#style = require('users/gena/packages:style');\n",
        "#utils = require('users/gena/packages:utils');\n",
        "min = -1;\n",
        "max = 1;\n",
        "textProperties = {\n",
        "  'fontSize': 16,\n",
        "  'textColor': 'red',\n",
        "  'outlineColor': 'black',\n",
        "  'outlineWidth': 0.1,\n",
        "  'outlineOpacity': 0.6\n",
        "};\n",
        "labels = ee.List.sequence(min, max);\n",
        "gradientBar = style.GradientBar.draw(geometry3, {\n",
        "  'min': min, 'max': max, 'palette': visParams.palette, 'labels': labels,\n",
        "  'format': '%.0f', 'text': textProperties});"
      ],
      "metadata": {
        "id": "GYdnbLE2BmdS"
      },
      "execution_count": null,
      "outputs": []
    }
  ]
}