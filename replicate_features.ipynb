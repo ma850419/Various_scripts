{
  "nbformat": 4,
  "nbformat_minor": 0,
  "metadata": {
    "colab": {
      "provenance": [],
      "authorship_tag": "ABX9TyOc2HeMaLBStrS3mHtqzQKw",
      "include_colab_link": true
    },
    "kernelspec": {
      "name": "python3",
      "display_name": "Python 3"
    },
    "language_info": {
      "name": "python"
    }
  },
  "cells": [
    {
      "cell_type": "markdown",
      "metadata": {
        "id": "view-in-github",
        "colab_type": "text"
      },
      "source": [
        "<a href=\"https://colab.research.google.com/github/ma850419/OCO2-3/blob/main/replicate_features.ipynb\" target=\"_parent\"><img src=\"https://colab.research.google.com/assets/colab-badge.svg\" alt=\"Open In Colab\"/></a>"
      ]
    },
    {
      "cell_type": "code",
      "execution_count": null,
      "metadata": {
        "id": "qbkijXq3lJx5"
      },
      "outputs": [],
      "source": [
        "import geopandas as gpd\n",
        "import matplotlib.pyplot as plt\n",
        "import os\n",
        "import pandas as pd\n",
        "#from google.colab import files\n",
        "\n",
        "# Function to replicate each polygon N times in a GeoDataFrame\n",
        "def replicate_polygons(gdf, N):\n",
        "    replicated_gdf = gpd.GeoDataFrame(pd.concat([gdf] * N, ignore_index=True), crs=gdf.crs)\n",
        "    return replicated_gdf\n",
        "\n",
        "# Function to read, process, and save shapefiles from a directory\n",
        "def process_shapefiles_from_directory(directory, N):\n",
        "    # List all shapefiles in the directory\n",
        "    print(  os.listdir(directory))\n",
        "    shapefiles = [os.path.join(directory, f) for f in os.listdir(directory) if f.endswith('.shp')]\n",
        "\n",
        "    # Iterate through the shapefiles and process them\n",
        "    for shapefile in shapefiles:\n",
        "        # Read the shapefile\n",
        "        gdf = gpd.read_file(shapefile)\n",
        "\n",
        "        # Print some basic information about the shapefile\n",
        "        print(f\"Processing shapefile: {shapefile}\")\n",
        "        print(gdf.head())\n",
        "\n",
        "        # Replicate each polygon N times\n",
        "        replicated_gdf = replicate_polygons(gdf, N)\n",
        "\n",
        "        # Define the output shapefile path\n",
        "        output_shapefile = shapefile.replace('.shp', f'_replicated_{N}.shp')\n",
        "\n",
        "        # Save the replicated shapefile\n",
        "        replicated_gdf.to_file(output_shapefile, driver='ESRI Shapefile')\n",
        "        print(f\"Saved replicated shapefile: {output_shapefile}\")\n",
        "\n",
        "        # Plot the replicated shapefile\n",
        "        replicated_gdf.plot()\n",
        "        plt.title(f\"{os.path.basename(output_shapefile)}\")\n",
        "        plt.show()\n",
        "\n",
        "# Upload shapefiles if running in Google Colab\n",
        "#uploaded = files.upload()\n",
        "\n",
        "# Process shapefiles from the current working directory and replicate each polygon 5 times (N=5)\n",
        "process_shapefiles_from_directory(\"C:/Users/Dr. Mohamad Awad/Documents/douma/\", 5)\n"
      ]
    }
  ]
}