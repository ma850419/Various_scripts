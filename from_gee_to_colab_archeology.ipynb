{
  "nbformat": 4,
  "nbformat_minor": 0,
  "metadata": {
    "colab": {
      "provenance": [],
      "include_colab_link": true
    },
    "kernelspec": {
      "name": "python3",
      "display_name": "Python 3"
    },
    "language_info": {
      "name": "python"
    }
  },
  "cells": [
    {
      "cell_type": "markdown",
      "metadata": {
        "id": "view-in-github",
        "colab_type": "text"
      },
      "source": [
        "<a href=\"https://colab.research.google.com/github/ma850419/Various_scripts/blob/main/from_gee_to_colab_archeology.ipynb\" target=\"_parent\"><img src=\"https://colab.research.google.com/assets/colab-badge.svg\" alt=\"Open In Colab\"/></a>"
      ]
    },
    {
      "cell_type": "code",
      "execution_count": null,
      "metadata": {
        "id": "lJHo6-Sy4sLQ"
      },
      "outputs": [],
      "source": [
        "import ee\n",
        "ee.Authenticate()\n",
        "ee.Initialize(project='velvety-ring-328419')"
      ]
    },
    {
      "cell_type": "code",
      "source": [
        "# Install geemap if not already installed\n",
        "!pip install geemap\n",
        "\n"
      ],
      "metadata": {
        "id": "ZwoJA0eSaHCb"
      },
      "execution_count": null,
      "outputs": []
    },
    {
      "cell_type": "code",
      "source": [
        "!pip install /content/ee-packages-py-main/"
      ],
      "metadata": {
        "id": "j7Gl5orGCMig"
      },
      "execution_count": null,
      "outputs": []
    },
    {
      "cell_type": "code",
      "source": [
        "\n",
        "import geemap\n",
        "\n",
        "\n",
        "# Initialize Earth Engine (assuming Authenticate() has been run previously)\n",
        "ee.Initialize(project='velvety-ring-328419')\n",
        "\n",
        "# Define region of interest (South America)\n",
        "mask = ee.FeatureCollection('USDOS/LSIB_SIMPLE/2017').filter(ee.Filter.eq('wld_rgn', 'South America'))\n",
        "SA = mask.geometry()\n",
        "\n",
        "# Load MODIS NDVI data and mosaic\n",
        "modis_col = ee.ImageCollection('MODIS/006/MOD13A2').select('NDVI').filterBounds(SA).filterDate('2023-01-01', '2023-12-31')\n",
        "# Create a mosaic of the MODIS collection for visualization\n",
        "modis_mosaic = modis_col.mosaic()\n",
        "\n",
        "# Load Sentinel-2 (Optical Data) and mosaic\n",
        "# Filter by bounds before filtering by date to be more efficient\n",
        "sentinel2_col = ee.ImageCollection(\"COPERNICUS/S2\").filterBounds(SA).filterDate('2023-01-01', '2023-12-31').filter(ee.Filter.lt('CLOUDY_PIXEL_PERCENTAGE', 20)) # Add cloud filter\n",
        "# Create a mosaic of the Sentinel-2 collection\n",
        "sentinel2_mosaic = sentinel2_col.mosaic()\n",
        "\n",
        "\n",
        "# Load Sentinel-1 (SAR Data) and mosaic\n",
        "# Filter by bounds before filtering by date to be more efficient\n",
        "# Changed the collection ID from 'COPERNICUS/S1' to 'COPERNICUS/S1_GRD'\n",
        "sentinel1_col = ee.ImageCollection(\"COPERNICUS/S1_GRD\").filterBounds(SA).filterDate('2023-01-01', '2023-12-31').filter(ee.Filter.listContains('transmitterReceiverPolarisation', 'VV')).filter(ee.Filter.eq('instrumentMode', 'IW')) # Filter for a specific mode\n",
        "# Create a mosaic of the Sentinel-1 collection\n",
        "sentinel1_mosaic = sentinel1_col.mosaic()\n",
        "\n",
        "\n",
        "# Visualization parameters\n",
        "modis_vis = {\n",
        "    'min': 0,\n",
        "    'max': 8000,\n",
        "    'palette': ['red', 'yellow', 'green']  # Single-band, palette allowed\n",
        "}\n",
        "sentinel2_vis = {\n",
        "    'bands': ['B4', 'B3', 'B2'],  # True color visualization\n",
        "    'min': 0,\n",
        "    'max': 3000\n",
        "}\n",
        "sentinel1_vis = {\n",
        "    'min': -25,\n",
        "    'max': 0\n",
        "}\n",
        "\n",
        "# Create map\n",
        "m = geemap.Map(center=[-14.2, -51.9], zoom=4)\n",
        "\n",
        "# Add the mosaic images to the map\n",
        "m.addLayer(modis_mosaic, modis_vis, \"MODIS NDVI Mosaic\")\n",
        "m.addLayer(sentinel2_mosaic, sentinel2_vis, \"Sentinel-2 Mosaic (True Color)\")\n",
        "m.addLayer(sentinel1_mosaic, sentinel1_vis, \"Sentinel-1 Mosaic (VV)\")\n",
        "\n",
        "\n",
        "# Add region mask\n",
        "m.addLayer(mask, {'color': 'black'}, \"South America Mask\")\n",
        "\n",
        "# Display the map\n",
        "m"
      ],
      "metadata": {
        "id": "HzAr_mHO5EAP"
      },
      "execution_count": null,
      "outputs": []
    },
    {
      "cell_type": "code",
      "source": [
        "#print(modis_col.size().getInfo())  # Should return >0 if images exist\n",
        "print(sentinel2_col.size().getInfo())\n",
        "#print(sentinel1_col.size().getInfo())\n"
      ],
      "metadata": {
        "id": "P_tv_z9IxF5R"
      },
      "execution_count": null,
      "outputs": []
    },
    {
      "cell_type": "code",
      "source": [
        "import geemap\n",
        "import ee\n",
        "\n",
        "# Initialize Earth Engine\n",
        "ee.Initialize(project='velvety-ring-328419')\n",
        "\n",
        "# Define region of interest (South America)\n",
        "mask = ee.FeatureCollection('USDOS/LSIB_SIMPLE/2017').filter(ee.Filter.eq('wld_rgn', 'South America'))\n",
        "SA = mask.geometry()\n",
        "\n",
        "# Function to group images by month and stitch them\n",
        "def stitch_images_by_month(image_collection, year, month):\n",
        "    filtered_col = image_collection.filter(ee.Filter.calendarRange(year, year, 'year')) \\\n",
        "                                   .filter(ee.Filter.calendarRange(month, month, 'month'))\n",
        "    return filtered_col.mosaic().set('year', year, 'month', month)\n",
        "\n",
        "# Load MODIS NDVI data and process by month\n",
        "modis_col = ee.ImageCollection('MODIS/006/MOD13A2').select('NDVI').filterBounds(SA).filterDate('2023-04-01', '2023-08-31')\n",
        "modis_stitched = stitch_images_by_month(modis_col, 2023, 6)  # Example for June\n",
        "\n",
        "# Load Sentinel-2 data and process by month\n",
        "sentinel2_col = ee.ImageCollection(\"COPERNICUS/S2\").filterBounds(SA).filterDate('2023-04-01', '2023-08-31').filter(ee.Filter.lt('CLOUDY_PIXEL_PERCENTAGE', 20))\n",
        "sentinel2_stitched = stitch_images_by_month(sentinel2_col, 2023, 6)\n",
        "\n",
        "# Load Sentinel-1 data and process by month\n",
        "sentinel1_col = ee.ImageCollection(\"COPERNICUS/S1_GRD\").filterBounds(SA).filterDate('2023-04-01', '2023-08-31').filter(ee.Filter.listContains('transmitterReceiverPolarisation', 'VV')).filter(ee.Filter.eq('instrumentMode', 'IW'))\n",
        "sentinel1_stitched = stitch_images_by_month(sentinel1_col, 2023, 6)\n",
        "\n",
        "# Visualization parameters\n",
        "modis_vis = {\n",
        "    'min': 0,\n",
        "    'max': 8000,\n",
        "    'palette': ['red', 'yellow', 'green']\n",
        "}\n",
        "sentinel2_vis = {\n",
        "    'bands': ['B4', 'B3', 'B2'],\n",
        "    'min': 0,\n",
        "    'max': 3000\n",
        "}\n",
        "sentinel1_vis = {\n",
        "    'min': -25,\n",
        "    'max': 0\n",
        "}\n",
        "\n",
        "# Create map\n",
        "m = geemap.Map(center=[-14.2, -51.9], zoom=4)\n",
        "\n",
        "# Add stitched images to the map\n",
        "m.addLayer(modis_stitched, modis_vis, \"MODIS NDVI Stitched by Month\")\n",
        "m.addLayer(sentinel2_stitched, sentinel2_vis, \"Sentinel-2 Stitched by Month\")\n",
        "m.addLayer(sentinel1_stitched, sentinel1_vis, \"Sentinel-1 Stitched by Month\")\n",
        "\n",
        "# Add region mask\n",
        "m.addLayer(mask, {'color': 'black'}, \"South America Mask\")\n",
        "\n",
        "# Display the map\n",
        "m\n"
      ],
      "metadata": {
        "id": "6IXjh_mSZBe4"
      },
      "execution_count": null,
      "outputs": []
    },
    {
      "cell_type": "code",
      "source": [
        "#text = require('users/gena/packages:text');\n",
        "#style = require('users/gena/packages:style');\n",
        "#utils = require('users/gena/packages:utils');\n",
        "min = -1;\n",
        "max = 1;\n",
        "textProperties = {\n",
        "  'fontSize': 16,\n",
        "  'textColor': 'red',\n",
        "  'outlineColor': 'black',\n",
        "  'outlineWidth': 0.1,\n",
        "  'outlineOpacity': 0.6\n",
        "};\n",
        "labels = ee.List.sequence(min, max);\n",
        "gradientBar = style.GradientBar.draw(geometry3, {\n",
        "  'min': min, 'max': max, 'palette': visParams.palette, 'labels': labels,\n",
        "  'format': '%.0f', 'text': textProperties});"
      ],
      "metadata": {
        "id": "GYdnbLE2BmdS"
      },
      "execution_count": null,
      "outputs": []
    }
  ]
}