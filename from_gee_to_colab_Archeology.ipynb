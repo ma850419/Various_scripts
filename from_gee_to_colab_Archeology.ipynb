{
  "nbformat": 4,
  "nbformat_minor": 0,
  "metadata": {
    "colab": {
      "provenance": [],
      "include_colab_link": true
    },
    "kernelspec": {
      "name": "python3",
      "display_name": "Python 3"
    },
    "language_info": {
      "name": "python"
    }
  },
  "cells": [
    {
      "cell_type": "markdown",
      "metadata": {
        "id": "view-in-github",
        "colab_type": "text"
      },
      "source": [
        "<a href=\"https://colab.research.google.com/github/ma850419/Various_scripts/blob/main/from_gee_to_colab_Archeology.ipynb\" target=\"_parent\"><img src=\"https://colab.research.google.com/assets/colab-badge.svg\" alt=\"Open In Colab\"/></a>"
      ]
    },
    {
      "cell_type": "code",
      "execution_count": 7,
      "metadata": {
        "id": "lJHo6-Sy4sLQ",
        "outputId": "46dc2c58-0563-4622-b59f-a5bcccf3ec18",
        "colab": {
          "base_uri": "https://localhost:8080/",
          "height": 17
        }
      },
      "outputs": [
        {
          "output_type": "display_data",
          "data": {
            "text/plain": [
              "<IPython.core.display.HTML object>"
            ],
            "text/html": [
              "\n",
              "            <style>\n",
              "                .geemap-dark {\n",
              "                    --jp-widgets-color: white;\n",
              "                    --jp-widgets-label-color: white;\n",
              "                    --jp-ui-font-color1: white;\n",
              "                    --jp-layout-color2: #454545;\n",
              "                    background-color: #383838;\n",
              "                }\n",
              "\n",
              "                .geemap-dark .jupyter-button {\n",
              "                    --jp-layout-color3: #383838;\n",
              "                }\n",
              "\n",
              "                .geemap-colab {\n",
              "                    background-color: var(--colab-primary-surface-color, white);\n",
              "                }\n",
              "\n",
              "                .geemap-colab .jupyter-button {\n",
              "                    --jp-layout-color3: var(--colab-primary-surface-color, white);\n",
              "                }\n",
              "            </style>\n",
              "            "
            ]
          },
          "metadata": {}
        }
      ],
      "source": [
        "import ee\n",
        "ee.Authenticate()\n",
        "ee.Initialize(project='velvety-ring-328419')"
      ]
    },
    {
      "cell_type": "code",
      "source": [
        "# Install geemap if not already installed\n",
        "!pip install geemap\n",
        "\n"
      ],
      "metadata": {
        "id": "ZwoJA0eSaHCb"
      },
      "execution_count": null,
      "outputs": []
    },
    {
      "cell_type": "code",
      "source": [
        "!pip install /content/ee-packages-py-main/"
      ],
      "metadata": {
        "id": "j7Gl5orGCMig"
      },
      "execution_count": null,
      "outputs": []
    },
    {
      "cell_type": "code",
      "source": [
        "\n",
        "import geemap\n",
        "\n",
        "\n",
        "# Initialize Earth Engine (assuming Authenticate() has been run previously)\n",
        "ee.Initialize(project='velvety-ring-328419')\n",
        "\n",
        "# Define region of interest (South America)\n",
        "mask = ee.FeatureCollection('USDOS/LSIB_SIMPLE/2017').filter(ee.Filter.eq('wld_rgn', 'South America'))\n",
        "SA = mask.geometry()\n",
        "\n",
        "# Load MODIS NDVI data and mosaic\n",
        "modis_col = ee.ImageCollection('MODIS/006/MOD13A2').select('NDVI').filterBounds(SA).filterDate('2022-03-21', '2023-04-30')\n",
        "# Create a mosaic of the MODIS collection for visualization\n",
        "modis_mosaic = modis_col.mosaic()\n",
        "\n",
        "# Load Sentinel-2 (Optical Data) and mosaic\n",
        "# Filter by bounds before filtering by date to be more efficient\n",
        "sentinel2_col = ee.ImageCollection(\"COPERNICUS/S2\").filterBounds(SA).filterDate('2023-01-01', '2023-12-31').filter(ee.Filter.lt('CLOUDY_PIXEL_PERCENTAGE', 20)) # Add cloud filter\n",
        "# Create a mosaic of the Sentinel-2 collection\n",
        "sentinel2_mosaic = sentinel2_col.mosaic()\n",
        "\n",
        "\n",
        "# Load Sentinel-1 (SAR Data) and mosaic\n",
        "# Filter by bounds before filtering by date to be more efficient\n",
        "# Changed the collection ID from 'COPERNICUS/S1' to 'COPERNICUS/S1_GRD'\n",
        "sentinel1_col = ee.ImageCollection(\"COPERNICUS/S1_GRD\").filterBounds(SA).filterDate('2023-01-01', '2023-12-31').filter(ee.Filter.listContains('transmitterReceiverPolarisation', 'VV')).filter(ee.Filter.eq('instrumentMode', 'IW')) # Filter for a specific mode\n",
        "# Create a mosaic of the Sentinel-1 collection\n",
        "sentinel1_mosaic = sentinel1_col.mosaic()\n",
        "\n",
        "\n",
        "# Visualization parameters\n",
        "modis_vis = {\n",
        "    'min': 0,\n",
        "    'max': 8000,\n",
        "    'palette': ['red', 'yellow', 'green']  # Single-band, palette allowed\n",
        "}\n",
        "sentinel2_vis = {\n",
        "    'bands': ['B4', 'B3', 'B2'],  # True color visualization\n",
        "    'min': 0,\n",
        "    'max': 3000\n",
        "}\n",
        "sentinel1_vis = {\n",
        "    'min': -25,\n",
        "    'max': 0\n",
        "}\n",
        "\n",
        "# Create map\n",
        "m = geemap.Map(center=[-14.2, -51.9], zoom=4)\n",
        "\n",
        "# Add the mosaic images to the map\n",
        "m.addLayer(modis_mosaic, modis_vis, \"MODIS NDVI Mosaic\")\n",
        "m.addLayer(sentinel2_mosaic, sentinel2_vis, \"Sentinel-2 Mosaic (True Color)\")\n",
        "m.addLayer(sentinel1_mosaic, sentinel1_vis, \"Sentinel-1 Mosaic (VV)\")\n",
        "\n",
        "\n",
        "# Add region mask\n",
        "m.addLayer(mask, {'color': 'black'}, \"South America Mask\")\n",
        "\n",
        "# Display the map\n",
        "m"
      ],
      "metadata": {
        "id": "HzAr_mHO5EAP"
      },
      "execution_count": null,
      "outputs": []
    },
    {
      "cell_type": "code",
      "source": [
        "#text = require('users/gena/packages:text');\n",
        "#style = require('users/gena/packages:style');\n",
        "#utils = require('users/gena/packages:utils');\n",
        "min = -1;\n",
        "max = 1;\n",
        "textProperties = {\n",
        "  'fontSize': 16,\n",
        "  'textColor': 'red',\n",
        "  'outlineColor': 'black',\n",
        "  'outlineWidth': 0.1,\n",
        "  'outlineOpacity': 0.6\n",
        "};\n",
        "labels = ee.List.sequence(min, max);\n",
        "gradientBar = style.GradientBar.draw(geometry3, {\n",
        "  'min': min, 'max': max, 'palette': visParams.palette, 'labels': labels,\n",
        "  'format': '%.0f', 'text': textProperties});"
      ],
      "metadata": {
        "id": "GYdnbLE2BmdS"
      },
      "execution_count": null,
      "outputs": []
    }
  ]
}