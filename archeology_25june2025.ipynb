{
  "nbformat": 4,
  "nbformat_minor": 0,
  "metadata": {
    "colab": {
      "provenance": [],
      "include_colab_link": true
    },
    "kernelspec": {
      "name": "python3",
      "display_name": "Python 3"
    },
    "language_info": {
      "name": "python"
    }
  },
  "cells": [
    {
      "cell_type": "markdown",
      "metadata": {
        "id": "view-in-github",
        "colab_type": "text"
      },
      "source": [
        "<a href=\"https://colab.research.google.com/github/ma850419/Various_scripts/blob/main/archeology_25june2025.ipynb\" target=\"_parent\"><img src=\"https://colab.research.google.com/assets/colab-badge.svg\" alt=\"Open In Colab\"/></a>"
      ]
    },
    {
      "cell_type": "code",
      "execution_count": null,
      "metadata": {
        "id": "lJHo6-Sy4sLQ"
      },
      "outputs": [],
      "source": [
        "import ee\n",
        "ee.Authenticate()\n",
        "ee.Initialize(project='velvety-ring-328419')"
      ]
    },
    {
      "cell_type": "markdown",
      "source": [],
      "metadata": {
        "id": "Kxc89j1r8vhg"
      }
    },
    {
      "cell_type": "code",
      "source": [
        "# Based on similar location - modified one to include weights collecting different geographic layers\n",
        "# to provide to the deep learning model for training\n",
        "import geemap\n",
        "\n",
        "# Define region (Brazil, Southeastern Amazon). You can also expand it to other countries\n",
        "mask = ee.FeatureCollection('USDOS/LSIB_SIMPLE/2017').filter(ee.Filter.eq('country_na', 'Brazil'))\n",
        "brazil_geometry = mask.geometry()\n",
        "southeast_brazil = brazil_geometry.intersection(ee.Geometry.Rectangle([-55, -25, -40, -35]))\n",
        "# weights can be adjusted during the model training. The task can be automated using an optimization algorithms\n",
        "weights = {\n",
        "    \"B12\": 0.10,\n",
        "    \"B11\": 0.10,\n",
        "    \"B8\": 0.10,\n",
        "    \"VV\": 0.10,\n",
        "    \"NDVI\": 0.15,\n",
        "    \"Elevation\": 0.15,\n",
        "    \"SoilMoisture\": 0.10,\n",
        "    \"Thermal\": 0.1,\n",
        "    \"Evapotranspiration\": 0.1\n",
        "}\n",
        "def normalize_band(image, band):\n",
        "    band_min = image.select(band).reduceRegion(\n",
        "        reducer=ee.Reducer.min(), geometry=image.geometry(), scale=30, bestEffort=True\n",
        "    ).get(band)\n",
        "\n",
        "    band_max = image.select(band).reduceRegion(\n",
        "        reducer=ee.Reducer.max(), geometry=image.geometry(), scale=30, bestEffort=True\n",
        "    ).get(band)\n",
        "\n",
        "    normalized_band = image.select(band).subtract(ee.Number(band_min)).divide(ee.Number(band_max).subtract(ee.Number(band_min)))\n",
        "    return normalized_band.rename(band + \"_norm\")\n",
        "# Load archaeological points\n",
        "archaeology_points = ee.FeatureCollection(\"users/mohamadawadlebanon/Archeologicalsites\")\n",
        "\n",
        "# Define date range\n",
        "start_date = \"2024-05-01\"\n",
        "end_date = \"2024-05-31\"\n",
        "def apply_scale_and_offset(image):\n",
        "    return image.select(\"ST_B10\").multiply(0.00341802).add(149.0)\n",
        "### **Step 1: Elevation Data (ASTER GDEM)**\n",
        "elevation = ee.Image(\"projects/sat-io/open-datasets/ASTER/GDEM\").clip(southeast_brazil)\n",
        "#elevation = elevation.rename(\"Elevation\")\n",
        "elevation = elevation.rename(\"elevation\")\n",
        "### **Step 2: Sentinel-2 EVI**\n",
        "sentinel2_ndvi = ee.ImageCollection(\"COPERNICUS/S2\") \\\n",
        "    .filterBounds(southeast_brazil) \\\n",
        "    .filterDate(start_date, end_date) \\\n",
        "    .filter(ee.Filter.lt(\"CLOUDY_PIXEL_PERCENTAGE\", 10)) \\\n",
        "    .select([\"B8\", \"B4\"]) \\\n",
        "    .map(lambda img: img.expression(\n",
        "        \"(B8 - B4) / (B8 + B4)\",  # EVI formula\n",
        "        {\"B8\": img.select(\"B8\"), \"B4\": img.select(\"B4\")}\n",
        "    )).median().clip(southeast_brazil)\n",
        "sentinel2_ndvi = sentinel2_ndvi.rename(\"NDVI\")\n",
        "\n",
        "### **Step 3: Sentinel-1 Radar**\n",
        "sentinel1_images = ee.ImageCollection(\"COPERNICUS/S1_GRD\") \\\n",
        "    .filterBounds(southeast_brazil) \\\n",
        "    .filterDate(start_date, end_date) \\\n",
        "    .filter(ee.Filter.listContains(\"transmitterReceiverPolarisation\", \"VV\")) \\\n",
        "    .filter(ee.Filter.eq(\"instrumentMode\", \"IW\")) \\\n",
        "    .select(\"VV\")\n",
        "\n",
        "mosaiced_sentinel1 = sentinel1_images.median().clip(southeast_brazil)\n",
        "\n",
        "### **Step 4: Sentinel-2 Optical Mosaic**\n",
        "sentinel2_images = ee.ImageCollection(\"COPERNICUS/S2\") \\\n",
        "    .filterBounds(southeast_brazil) \\\n",
        "    .filterDate(start_date, end_date) \\\n",
        "    .filter(ee.Filter.lt(\"CLOUDY_PIXEL_PERCENTAGE\", 10)) \\\n",
        "    .select([\"B8\", \"B11\", \"B12\"])\n",
        "\n",
        "mosaiced_sentinel2 = sentinel2_images.median().clip(southeast_brazil)\n",
        "\n",
        "### **Step 5: MODIS Evapotranspiration (ET)**\n",
        "modis_et = ee.ImageCollection(\"MODIS/061/MOD16A2\") \\\n",
        "    .filterBounds(southeast_brazil) \\\n",
        "    .filterDate(start_date, end_date) \\\n",
        "    .select(\"ET\") \\\n",
        "    .median().clip(southeast_brazil)\n",
        "\n",
        "### **Step 6: Soil Moisture (NASA SMAP)**\n",
        "soil_moisture = ee.ImageCollection('NASA/SMAP/SPL4SMGP/007') \\\n",
        "    .filterBounds(southeast_brazil) \\\n",
        "    .filterDate(start_date, end_date) \\\n",
        "    .select('sm_surface') \\\n",
        "    .median().clip(southeast_brazil)\n",
        "\n",
        "### **Step 7: Thermal Infrared (Landsat 8-9)**\n",
        "thermal = ee.ImageCollection(\"LANDSAT/LC08/C02/T1_L2\") \\\n",
        "    .filterBounds(southeast_brazil) \\\n",
        "    .filterDate(start_date, end_date) \\\n",
        "    .map(apply_scale_and_offset) \\\n",
        "    .median().clip(southeast_brazil)\n",
        "\n",
        "\n",
        "#*** step 8 Normalize all bands\n",
        "\n",
        "normalized_sentinel1 = normalize_band(mosaiced_sentinel1, \"VV\")\n",
        "normalized_ndvi = normalize_band(sentinel2_ndvi, \"NDVI\")\n",
        "normalized_elevation = normalize_band(elevation, \"elevation\")\n",
        "normalized_soil_moisture = normalize_band(soil_moisture, \"sm_surface\")\n",
        "normalized_thermal = normalize_band(thermal, \"ST_B10\")\n",
        "normalized_et = normalize_band(modis_et, \"ET\")\n",
        "\n",
        "### merge all bands and layers\n",
        "combined = mosaiced_sentinel2.select(\"B12\").multiply(weights[\"B12\"]) \\\n",
        ".addBands(mosaiced_sentinel2.select(\"B11\").multiply(weights[\"B11\"])) \\\n",
        ".addBands(mosaiced_sentinel2.select(\"B8\").multiply(weights[\"B8\"])) \\\n",
        ".addBands(mosaiced_sentinel1.multiply(weights[\"VV\"])) \\\n",
        ".addBands(sentinel2_ndvi.multiply(weights[\"NDVI\"])) \\\n",
        ".addBands(elevation.multiply(weights[\"Elevation\"])) \\\n",
        ".addBands(soil_moisture.multiply(weights[\"SoilMoisture\"])) \\\n",
        ".addBands(thermal.multiply(weights[\"Thermal\"])) \\\n",
        ".addBands(modis_et.multiply(weights[\"Evapotranspiration\"]))\n",
        "\n",
        "\n",
        "# Sample feature values at archaeology site locations\n",
        "sampled_values = combined.sampleRegions(**{\n",
        "    \"collection\": archaeology_points,\n",
        "    \"scale\": 10,  # Adjust scale depending on resolution needs\n",
        "    \"tileScale\": 2\n",
        "})\n",
        "# Convert sampled values to FeatureCollection table\n",
        "def safe_set_coordinates(feature):\n",
        "    return feature.set({\n",
        "        \"Longitude\": feature.get(\"lon\"),\n",
        "        \"Latitude\": feature.get(\"lat\")\n",
        "    })\n",
        "\n",
        "#table = sampled_values.map(safe_set_coordinates)\n",
        "\n",
        "task = ee.batch.Export.table.toDrive(\n",
        "    collection=sampled_values, #table,\n",
        "    description=\"Archaeological_Site_Features\",\n",
        "    fileFormat=\"CSV\"\n",
        ")\n",
        "task.start()  # Start export task\n",
        "\n",
        "### **Step 10: Apply K-Means Clustering**\n",
        "num_classes = 10\n",
        "training_points = combined.sample(\n",
        "    region=southeast_brazil,\n",
        "    # Default (False) is no geometries in the output.\n",
        "    # When set to True, each feature has a Point geometry at the center of the\n",
        "    # image pixel.\n",
        "    geometries=True,\n",
        "    numPixels = 500,\n",
        "    # The scale is not specified, so the resolution of the image will be used,\n",
        "    # and there is a feature for every pixel. If we give a scale parameter, the\n",
        "    # image will be resampled and there will be more or fewer features.\n",
        "    #\n",
        "    scale= 10,\n",
        ")\n",
        "# Extract longitude and latitude from geometry\n",
        "\n",
        "#training_points = training_points.filter(ee.Filter.notNull(['geometry']))\n",
        "print(training_points.first().getInfo())\n",
        "task1 = ee.batch.Export.table.toDrive(\n",
        "    collection=training_points,\n",
        "    description=\"Samples_random_collection\",\n",
        "    fileFormat=\"CSV\"\n",
        ")\n",
        "task1.start()\n",
        "clusterer = ee.Clusterer.wekaKMeans(num_classes).train(training_points)\n",
        "classified = combined.cluster(clusterer)\n",
        "\n",
        "### **Step 11: Validate Using Archaeological Sites**\n",
        "validation = classified.sampleRegions(**{\n",
        "    \"collection\": archaeology_points,\n",
        "    \"scale\": 10,\n",
        "    \"properties\": [\"class\"],\n",
        "    \"tileScale\": 2\n",
        "})\n",
        "\n",
        "### **Step 12: Visualization Parameters**\n",
        "vis_params_elevation = {\"bands\": [\"elevation\"], \"min\": 0, \"max\": 3000, \"palette\": [\"black\", \"white\"]}\n",
        "vis_params_ndvi = {\"bands\": [\"NDVI\"],\"min\": -0.6, \"max\": 0.6, \"palette\": [\"brown\", \"green\"]}\n",
        "vis_params_s1 = {\"bands\": [\"VV\"], \"min\": -20, \"max\": 0, \"gamma\": 1.4}\n",
        "vis_params_s2 = {\"bands\": [\"B12\", \"B11\", \"B8\"], \"min\": 0, \"max\": 3000, \"gamma\": 1.4}\n",
        "vis_params_modis_et = {\"bands\": [\"ET\"], \"min\": 0, \"max\": 300, \"palette\": [\"yellow\", \"green\", \"blue\"]}\n",
        "#vis_params_pml_et = {\"min\": 0, \"max\": 5, \"palette\": [\"orange\", \"red\", \"purple\"]}\n",
        "vis_params_soil = {\"bands\": [\"sm_surface\"], \"min\": 0, \"max\": 0.9, \"palette\": [\"red\", \"orange\", \"yellow\", \"green\"]}\n",
        "vis_params_thermal = {\"bands\": [\"ST_B10\"], \"min\": 270, \"max\": 320, \"palette\": [\"blue\", \"yellow\", \"red\"]}\n",
        "vis_params_classified = {\n",
        "    \"min\": 0,\n",
        "    \"max\": num_classes - 1,\n",
        "    \"palette\": [\"blue\", \"green\", \"yellow\", \"red\", \"purple\", \"orange\", \"brown\", \"cyan\", \"pink\", \"gray\"]\n",
        "}\n",
        "archaeology_vis = {\"color\": \"blue\", \"pointRadius\": 5}\n",
        "sample_vis = {\"color\": \"black\", \"pointRadius\": 4}\n",
        "### **Step 13: Create & Display Map**\n",
        "m = geemap.Map(center=[-3, -60], zoom=6)\n",
        "\n",
        "m.addLayer(elevation, vis_params_elevation, \"ASTER GDEM v3 Elevation\")\n",
        "m.addLayer(sentinel2_ndvi, vis_params_ndvi, \"High-Resolution NDVI (Sentinel-2)\")\n",
        "m.addLayer(mosaiced_sentinel1, vis_params_s1, \"Sentinel-1 Mosaic (Radar)\")\n",
        "m.addLayer(mosaiced_sentinel2, vis_params_s2, \"Sentinel-2 Mosaic (Optical)\")\n",
        "m.addLayer(modis_et, vis_params_modis_et, \"MODIS Evapotranspiration\")\n",
        "#m.addLayer(pml_et, vis_params_pml_et, \"PML Evapotranspiration\")\n",
        "m.addLayer(soil_moisture, vis_params_soil, \"Soil Moisture (SMAP)\")\n",
        "m.addLayer(thermal, vis_params_thermal, \"Thermal Infrared (Landsat)\")\n",
        "m.addLayer(classified, vis_params_classified, \"Classified Image (K-Means)\")\n",
        "m.addLayer(archaeology_points, archaeology_vis, \"Archaeology Points\")\n",
        "m.addLayer(training_points,sample_vis, \"sample Points\")\n",
        "\n",
        "# Display the map\n",
        "m\n"
      ],
      "metadata": {
        "id": "fzW_axLw3MBI"
      },
      "execution_count": null,
      "outputs": []
    },
    {
      "cell_type": "code",
      "source": [
        "# read known archeological sites\n",
        "import csv\n",
        "import numpy as np\n",
        "with open(\"/content/Archaeological_Site_Features_2.csv\") as infile:\n",
        "    reader = csv.reader(infile, delimiter=\",\")\n",
        "    next(reader, None)\n",
        "    data3 =np.array(list(reader))"
      ],
      "metadata": {
        "id": "HXIes8X1vTJy"
      },
      "execution_count": null,
      "outputs": []
    },
    {
      "cell_type": "code",
      "source": [
        "# Define the type of read parameters for the training of the model\n",
        "dtype1 = np.dtype([('B12', np.float32),('B11', np.float32),('B8', np.float32),('VV', np.float32),('NDVI', np.float32), ('Elevation', np.float32), ('SM', np.float32), ('ST', np.float32),('ET', np.float32),('Latitude', np.float32),('Longitude', np.float32) , ('Name', np.str_),('Class', np.int32)])\n",
        "arr2 = np.zeros((len(data3),)).astype(dtype1)"
      ],
      "metadata": {
        "id": "vOINVvLZv7IV"
      },
      "execution_count": null,
      "outputs": []
    },
    {
      "cell_type": "markdown",
      "source": [],
      "metadata": {
        "id": "xjUbTAZxANv_"
      }
    },
    {
      "cell_type": "code",
      "source": [
        "# assign read data to another array of predefined type dtype1\n",
        "arr2['B11'] = data3[:, 0]\n",
        "arr2['B12'] = data3[:, 1]\n",
        "arr2['B8'] = data3[:, 2]\n",
        "arr2['ET'] = data3[:, 6]\n",
        "arr2['NDVI'] = data3[:, 5].astype(np.float32)\n",
        "arr2['ST'] = data3[:, 8].astype(np.float32)\n",
        "arr2['VV'] = data3[:, 3].astype(np.float32)\n",
        "arr2['Elevation'] = data3[:, 4]\n",
        "arr2['SM'] = data3[:, 7]\n",
        "arr2['Latitude'] = data3[:, 9]\n",
        "arr2['Longitude'] = data3[:, 10]\n",
        "arr2['Name'] = data3[:, 11]\n",
        "arr2['Class'] = data3[:, 12]"
      ],
      "metadata": {
        "id": "IH9rmZELz8ek"
      },
      "execution_count": null,
      "outputs": []
    },
    {
      "cell_type": "code",
      "source": [
        "#create the model\n",
        "import numpy as np\n",
        "import tensorflow as tf\n",
        "from tensorflow import keras\n",
        "from tensorflow.keras.models import Sequential, Model\n",
        "from tensorflow.keras.layers import LSTM, Dense, Bidirectional, BatchNormalization, Input,Reshape\n",
        "from sklearn.preprocessing import MinMaxScaler\n",
        "from tensorflow.keras.layers import Dropout\n",
        "from tensorflow.keras.regularizers import l2\n",
        "# Define custom loss function (MSE + small L1 penalty)\n",
        "def custom_loss(y_true, y_pred):\n",
        "    return tf.reduce_mean(tf.square(y_pred - y_true)) + 0.01 * tf.reduce_sum(tf.abs(y_pred))\n",
        "def r2_score(y_true, y_pred):\n",
        "    SS_res = tf.reduce_sum(tf.square(y_true - y_pred))\n",
        "    SS_tot = tf.reduce_sum(tf.square(y_true - tf.reduce_mean(y_true)))\n",
        "    return 1 - (SS_res / (SS_tot + tf.keras.backend.epsilon()))\n",
        "# Define feature columns (exclude Name, Latitude, Longitude)\n",
        "feature_columns = ['B12', 'B11', 'B8', 'VV',  'NDVI', 'Elevation', 'SM', 'ST', 'ET']\n",
        "\n",
        "X_structured = arr2[feature_columns]  # Extract features\n",
        "# Extract latitude & longitude properly from the structured array\n",
        "# Convert latitude & longitude to arcseconds (precision boost)\n",
        "arr2['Latitude'] = arr2['Latitude'] #* 3600\n",
        "arr2['Longitude'] = arr2['Longitude']# * 3600\n",
        "y = np.stack([arr2['Latitude'], arr2['Longitude']], axis=1).astype(np.float32)\n",
        "X = np.stack([X_structured[col] for col in feature_columns], axis=1).astype(np.float32)\n",
        "X_lstm1 = X.reshape((X.shape[0], 1, X.shape[1]))\n",
        "# Normalize features using MinMaxScaler\n",
        "scaler_X = MinMaxScaler(feature_range=(0, 1))\n",
        "X_scaled = scaler_X.fit_transform(X)  # Scale features\n",
        "\n",
        "scaler_y = MinMaxScaler()#feature_range=(0, 1))\n",
        "y_scaled = scaler_y.fit_transform(y)\n",
        "\n",
        "# Reshape X to fit LSTM input format (samples, timesteps, features)\n",
        "X_lstm = X_scaled.reshape((X_scaled.shape[0], 1, X_scaled.shape[1]))  # 1 timestep\n",
        "\n",
        "# Build LSTM model for predicting Latitude & Longitude of possible archeological sites\n",
        "\n",
        "input_layer = Input(shape=(1, len(feature_columns)))\n",
        "x = Bidirectional(LSTM(128, return_sequences=True))(input_layer)\n",
        "x = Dropout(0.3)(x)\n",
        "x = BatchNormalization()(x)\n",
        "\n",
        "x = LSTM(64, return_sequences=False)(x)  # Reduce complexity\n",
        "x = Dropout(0.2)(x)\n",
        "\n",
        "x = Dense(32, activation='relu')(x)\n",
        "output_layer = Dense(2, activation='linear')(x)  # Keep it linear for precise regression\n",
        "\n",
        "model = Model(inputs=input_layer, outputs=output_layer)\n",
        "# Compile model with MSE loss (regression task)\n",
        "#model.compile(optimizer=keras.optimizers.Adam(learning_rate=0.01),loss=custom_loss, metrics= ['mse'])#['mse'])\n",
        "model.compile(optimizer=keras.optimizers.Adam(learning_rate=0.01),\n",
        "              loss=tf.keras.losses.Huber(delta=0.05),  # More robust loss function\n",
        "              metrics=['mse'])\n",
        "\n",
        "#model.compile(optimizer=keras.optimizers.Adam(learning_rate=0.01), loss=tf.keras.losses.Huber(delta=1.0),metrics= ['mse'])#, metrics=['r2_score'])\n",
        "# Summary of the model\n",
        "model.summary()\n",
        "\n",
        "\n"
      ],
      "metadata": {
        "id": "H-DjtTkH-0bz",
        "outputId": "c7fd759a-ee98-440b-9823-25a42b5c3046",
        "colab": {
          "base_uri": "https://localhost:8080/",
          "height": 424
        }
      },
      "execution_count": 183,
      "outputs": [
        {
          "output_type": "display_data",
          "data": {
            "text/plain": [
              "<IPython.core.display.HTML object>"
            ],
            "text/html": [
              "\n",
              "            <style>\n",
              "                .geemap-dark {\n",
              "                    --jp-widgets-color: white;\n",
              "                    --jp-widgets-label-color: white;\n",
              "                    --jp-ui-font-color1: white;\n",
              "                    --jp-layout-color2: #454545;\n",
              "                    background-color: #383838;\n",
              "                }\n",
              "\n",
              "                .geemap-dark .jupyter-button {\n",
              "                    --jp-layout-color3: #383838;\n",
              "                }\n",
              "\n",
              "                .geemap-colab {\n",
              "                    background-color: var(--colab-primary-surface-color, white);\n",
              "                }\n",
              "\n",
              "                .geemap-colab .jupyter-button {\n",
              "                    --jp-layout-color3: var(--colab-primary-surface-color, white);\n",
              "                }\n",
              "            </style>\n",
              "            "
            ]
          },
          "metadata": {}
        },
        {
          "output_type": "display_data",
          "data": {
            "text/plain": [
              "\u001b[1mModel: \"functional_51\"\u001b[0m\n"
            ],
            "text/html": [
              "<pre style=\"white-space:pre;overflow-x:auto;line-height:normal;font-family:Menlo,'DejaVu Sans Mono',consolas,'Courier New',monospace\"><span style=\"font-weight: bold\">Model: \"functional_51\"</span>\n",
              "</pre>\n"
            ]
          },
          "metadata": {}
        },
        {
          "output_type": "display_data",
          "data": {
            "text/plain": [
              "┏━━━━━━━━━━━━━━━━━━━━━━━━━━━━━━━━━┳━━━━━━━━━━━━━━━━━━━━━━━━┳━━━━━━━━━━━━━━━┓\n",
              "┃\u001b[1m \u001b[0m\u001b[1mLayer (type)                   \u001b[0m\u001b[1m \u001b[0m┃\u001b[1m \u001b[0m\u001b[1mOutput Shape          \u001b[0m\u001b[1m \u001b[0m┃\u001b[1m \u001b[0m\u001b[1m      Param #\u001b[0m\u001b[1m \u001b[0m┃\n",
              "┡━━━━━━━━━━━━━━━━━━━━━━━━━━━━━━━━━╇━━━━━━━━━━━━━━━━━━━━━━━━╇━━━━━━━━━━━━━━━┩\n",
              "│ input_layer_51 (\u001b[38;5;33mInputLayer\u001b[0m)     │ (\u001b[38;5;45mNone\u001b[0m, \u001b[38;5;34m1\u001b[0m, \u001b[38;5;34m9\u001b[0m)           │             \u001b[38;5;34m0\u001b[0m │\n",
              "├─────────────────────────────────┼────────────────────────┼───────────────┤\n",
              "│ bidirectional_45                │ (\u001b[38;5;45mNone\u001b[0m, \u001b[38;5;34m1\u001b[0m, \u001b[38;5;34m256\u001b[0m)         │       \u001b[38;5;34m141,312\u001b[0m │\n",
              "│ (\u001b[38;5;33mBidirectional\u001b[0m)                 │                        │               │\n",
              "├─────────────────────────────────┼────────────────────────┼───────────────┤\n",
              "│ dropout_108 (\u001b[38;5;33mDropout\u001b[0m)           │ (\u001b[38;5;45mNone\u001b[0m, \u001b[38;5;34m1\u001b[0m, \u001b[38;5;34m256\u001b[0m)         │             \u001b[38;5;34m0\u001b[0m │\n",
              "├─────────────────────────────────┼────────────────────────┼───────────────┤\n",
              "│ batch_normalization_45          │ (\u001b[38;5;45mNone\u001b[0m, \u001b[38;5;34m1\u001b[0m, \u001b[38;5;34m256\u001b[0m)         │         \u001b[38;5;34m1,024\u001b[0m │\n",
              "│ (\u001b[38;5;33mBatchNormalization\u001b[0m)            │                        │               │\n",
              "├─────────────────────────────────┼────────────────────────┼───────────────┤\n",
              "│ lstm_109 (\u001b[38;5;33mLSTM\u001b[0m)                 │ (\u001b[38;5;45mNone\u001b[0m, \u001b[38;5;34m64\u001b[0m)             │        \u001b[38;5;34m82,176\u001b[0m │\n",
              "├─────────────────────────────────┼────────────────────────┼───────────────┤\n",
              "│ dropout_109 (\u001b[38;5;33mDropout\u001b[0m)           │ (\u001b[38;5;45mNone\u001b[0m, \u001b[38;5;34m64\u001b[0m)             │             \u001b[38;5;34m0\u001b[0m │\n",
              "├─────────────────────────────────┼────────────────────────┼───────────────┤\n",
              "│ dense_99 (\u001b[38;5;33mDense\u001b[0m)                │ (\u001b[38;5;45mNone\u001b[0m, \u001b[38;5;34m32\u001b[0m)             │         \u001b[38;5;34m2,080\u001b[0m │\n",
              "├─────────────────────────────────┼────────────────────────┼───────────────┤\n",
              "│ dense_100 (\u001b[38;5;33mDense\u001b[0m)               │ (\u001b[38;5;45mNone\u001b[0m, \u001b[38;5;34m2\u001b[0m)              │            \u001b[38;5;34m66\u001b[0m │\n",
              "└─────────────────────────────────┴────────────────────────┴───────────────┘\n"
            ],
            "text/html": [
              "<pre style=\"white-space:pre;overflow-x:auto;line-height:normal;font-family:Menlo,'DejaVu Sans Mono',consolas,'Courier New',monospace\">┏━━━━━━━━━━━━━━━━━━━━━━━━━━━━━━━━━┳━━━━━━━━━━━━━━━━━━━━━━━━┳━━━━━━━━━━━━━━━┓\n",
              "┃<span style=\"font-weight: bold\"> Layer (type)                    </span>┃<span style=\"font-weight: bold\"> Output Shape           </span>┃<span style=\"font-weight: bold\">       Param # </span>┃\n",
              "┡━━━━━━━━━━━━━━━━━━━━━━━━━━━━━━━━━╇━━━━━━━━━━━━━━━━━━━━━━━━╇━━━━━━━━━━━━━━━┩\n",
              "│ input_layer_51 (<span style=\"color: #0087ff; text-decoration-color: #0087ff\">InputLayer</span>)     │ (<span style=\"color: #00d7ff; text-decoration-color: #00d7ff\">None</span>, <span style=\"color: #00af00; text-decoration-color: #00af00\">1</span>, <span style=\"color: #00af00; text-decoration-color: #00af00\">9</span>)           │             <span style=\"color: #00af00; text-decoration-color: #00af00\">0</span> │\n",
              "├─────────────────────────────────┼────────────────────────┼───────────────┤\n",
              "│ bidirectional_45                │ (<span style=\"color: #00d7ff; text-decoration-color: #00d7ff\">None</span>, <span style=\"color: #00af00; text-decoration-color: #00af00\">1</span>, <span style=\"color: #00af00; text-decoration-color: #00af00\">256</span>)         │       <span style=\"color: #00af00; text-decoration-color: #00af00\">141,312</span> │\n",
              "│ (<span style=\"color: #0087ff; text-decoration-color: #0087ff\">Bidirectional</span>)                 │                        │               │\n",
              "├─────────────────────────────────┼────────────────────────┼───────────────┤\n",
              "│ dropout_108 (<span style=\"color: #0087ff; text-decoration-color: #0087ff\">Dropout</span>)           │ (<span style=\"color: #00d7ff; text-decoration-color: #00d7ff\">None</span>, <span style=\"color: #00af00; text-decoration-color: #00af00\">1</span>, <span style=\"color: #00af00; text-decoration-color: #00af00\">256</span>)         │             <span style=\"color: #00af00; text-decoration-color: #00af00\">0</span> │\n",
              "├─────────────────────────────────┼────────────────────────┼───────────────┤\n",
              "│ batch_normalization_45          │ (<span style=\"color: #00d7ff; text-decoration-color: #00d7ff\">None</span>, <span style=\"color: #00af00; text-decoration-color: #00af00\">1</span>, <span style=\"color: #00af00; text-decoration-color: #00af00\">256</span>)         │         <span style=\"color: #00af00; text-decoration-color: #00af00\">1,024</span> │\n",
              "│ (<span style=\"color: #0087ff; text-decoration-color: #0087ff\">BatchNormalization</span>)            │                        │               │\n",
              "├─────────────────────────────────┼────────────────────────┼───────────────┤\n",
              "│ lstm_109 (<span style=\"color: #0087ff; text-decoration-color: #0087ff\">LSTM</span>)                 │ (<span style=\"color: #00d7ff; text-decoration-color: #00d7ff\">None</span>, <span style=\"color: #00af00; text-decoration-color: #00af00\">64</span>)             │        <span style=\"color: #00af00; text-decoration-color: #00af00\">82,176</span> │\n",
              "├─────────────────────────────────┼────────────────────────┼───────────────┤\n",
              "│ dropout_109 (<span style=\"color: #0087ff; text-decoration-color: #0087ff\">Dropout</span>)           │ (<span style=\"color: #00d7ff; text-decoration-color: #00d7ff\">None</span>, <span style=\"color: #00af00; text-decoration-color: #00af00\">64</span>)             │             <span style=\"color: #00af00; text-decoration-color: #00af00\">0</span> │\n",
              "├─────────────────────────────────┼────────────────────────┼───────────────┤\n",
              "│ dense_99 (<span style=\"color: #0087ff; text-decoration-color: #0087ff\">Dense</span>)                │ (<span style=\"color: #00d7ff; text-decoration-color: #00d7ff\">None</span>, <span style=\"color: #00af00; text-decoration-color: #00af00\">32</span>)             │         <span style=\"color: #00af00; text-decoration-color: #00af00\">2,080</span> │\n",
              "├─────────────────────────────────┼────────────────────────┼───────────────┤\n",
              "│ dense_100 (<span style=\"color: #0087ff; text-decoration-color: #0087ff\">Dense</span>)               │ (<span style=\"color: #00d7ff; text-decoration-color: #00d7ff\">None</span>, <span style=\"color: #00af00; text-decoration-color: #00af00\">2</span>)              │            <span style=\"color: #00af00; text-decoration-color: #00af00\">66</span> │\n",
              "└─────────────────────────────────┴────────────────────────┴───────────────┘\n",
              "</pre>\n"
            ]
          },
          "metadata": {}
        },
        {
          "output_type": "display_data",
          "data": {
            "text/plain": [
              "\u001b[1m Total params: \u001b[0m\u001b[38;5;34m226,658\u001b[0m (885.38 KB)\n"
            ],
            "text/html": [
              "<pre style=\"white-space:pre;overflow-x:auto;line-height:normal;font-family:Menlo,'DejaVu Sans Mono',consolas,'Courier New',monospace\"><span style=\"font-weight: bold\"> Total params: </span><span style=\"color: #00af00; text-decoration-color: #00af00\">226,658</span> (885.38 KB)\n",
              "</pre>\n"
            ]
          },
          "metadata": {}
        },
        {
          "output_type": "display_data",
          "data": {
            "text/plain": [
              "\u001b[1m Trainable params: \u001b[0m\u001b[38;5;34m226,146\u001b[0m (883.38 KB)\n"
            ],
            "text/html": [
              "<pre style=\"white-space:pre;overflow-x:auto;line-height:normal;font-family:Menlo,'DejaVu Sans Mono',consolas,'Courier New',monospace\"><span style=\"font-weight: bold\"> Trainable params: </span><span style=\"color: #00af00; text-decoration-color: #00af00\">226,146</span> (883.38 KB)\n",
              "</pre>\n"
            ]
          },
          "metadata": {}
        },
        {
          "output_type": "display_data",
          "data": {
            "text/plain": [
              "\u001b[1m Non-trainable params: \u001b[0m\u001b[38;5;34m512\u001b[0m (2.00 KB)\n"
            ],
            "text/html": [
              "<pre style=\"white-space:pre;overflow-x:auto;line-height:normal;font-family:Menlo,'DejaVu Sans Mono',consolas,'Courier New',monospace\"><span style=\"font-weight: bold\"> Non-trainable params: </span><span style=\"color: #00af00; text-decoration-color: #00af00\">512</span> (2.00 KB)\n",
              "</pre>\n"
            ]
          },
          "metadata": {}
        }
      ]
    },
    {
      "cell_type": "code",
      "source": [
        "# Train the model and plot the graphs of loss function and accuracy\n",
        "import matplotlib.pyplot as plt\n",
        "from tensorflow.keras.callbacks import EarlyStopping\n",
        "early_stopping = EarlyStopping(monitor='val_loss', patience=15, restore_best_weights=True)\n",
        "history = model.fit(X_lstm1, y, epochs=25, batch_size=16, validation_split=0.25, callbacks=[early_stopping])\n",
        "# Predict longitude & latitude for new site features\n",
        "plt.figure(figsize=(12, 5))\n",
        "\n",
        "plt.subplot(1, 2, 1)\n",
        "plt.plot(history.history['loss'], label='Training Loss')\n",
        "plt.plot(history.history['val_loss'], label='Validation Loss')\n",
        "plt.xlabel('Epochs')\n",
        "plt.ylabel('Loss')\n",
        "plt.title('Training vs Validation Loss')\n",
        "plt.legend()\n",
        "\n",
        "# Plot accuracy using MSE (lower is better)\n",
        "plt.subplot(1, 2, 2)\n",
        "plt.plot(history.history['mse'], label='Training mse')\n",
        "#lt.plot(history.history['accuracy'], label='Training accuracy')\n",
        "plt.plot(history.history['val_mse'], label='Validation mse')\n",
        "#plt.plot(history.history['val_accuracy'], label='Validation accuracy')\n",
        "plt.xlabel('Epochs')\n",
        "#plt.ylabel('Mean Squared Error')\n",
        "plt.ylabel('mse')\n",
        "plt.title('Training vs Validation accuracy')\n",
        "plt.legend()\n",
        "\n",
        "plt.show()\n"
      ],
      "metadata": {
        "id": "zxissEqD_bVK",
        "outputId": "ab1484c2-c4df-419b-85b1-4d69f9ce3f34",
        "colab": {
          "base_uri": "https://localhost:8080/",
          "height": 1000
        }
      },
      "execution_count": 184,
      "outputs": [
        {
          "output_type": "display_data",
          "data": {
            "text/plain": [
              "<IPython.core.display.HTML object>"
            ],
            "text/html": [
              "\n",
              "            <style>\n",
              "                .geemap-dark {\n",
              "                    --jp-widgets-color: white;\n",
              "                    --jp-widgets-label-color: white;\n",
              "                    --jp-ui-font-color1: white;\n",
              "                    --jp-layout-color2: #454545;\n",
              "                    background-color: #383838;\n",
              "                }\n",
              "\n",
              "                .geemap-dark .jupyter-button {\n",
              "                    --jp-layout-color3: #383838;\n",
              "                }\n",
              "\n",
              "                .geemap-colab {\n",
              "                    background-color: var(--colab-primary-surface-color, white);\n",
              "                }\n",
              "\n",
              "                .geemap-colab .jupyter-button {\n",
              "                    --jp-layout-color3: var(--colab-primary-surface-color, white);\n",
              "                }\n",
              "            </style>\n",
              "            "
            ]
          },
          "metadata": {}
        },
        {
          "output_type": "stream",
          "name": "stdout",
          "text": [
            "Epoch 1/25\n",
            "\u001b[1m7/7\u001b[0m \u001b[32m━━━━━━━━━━━━━━━━━━━━\u001b[0m\u001b[37m\u001b[0m \u001b[1m7s\u001b[0m 130ms/step - loss: 1.8516 - mse: 1501.7023 - val_loss: 1.7277 - val_mse: 1314.3685\n",
            "Epoch 2/25\n",
            "\u001b[1m7/7\u001b[0m \u001b[32m━━━━━━━━━━━━━━━━━━━━\u001b[0m\u001b[37m\u001b[0m \u001b[1m1s\u001b[0m 25ms/step - loss: 1.6202 - mse: 1178.7893 - val_loss: 0.7688 - val_mse: 324.4008\n",
            "Epoch 3/25\n",
            "\u001b[1m7/7\u001b[0m \u001b[32m━━━━━━━━━━━━━━━━━━━━\u001b[0m\u001b[37m\u001b[0m \u001b[1m0s\u001b[0m 19ms/step - loss: 0.5899 - mse: 218.8893 - val_loss: 0.4337 - val_mse: 77.6358\n",
            "Epoch 4/25\n",
            "\u001b[1m7/7\u001b[0m \u001b[32m━━━━━━━━━━━━━━━━━━━━\u001b[0m\u001b[37m\u001b[0m \u001b[1m0s\u001b[0m 19ms/step - loss: 0.2841 - mse: 42.9132 - val_loss: 0.1778 - val_mse: 13.7109\n",
            "Epoch 5/25\n",
            "\u001b[1m7/7\u001b[0m \u001b[32m━━━━━━━━━━━━━━━━━━━━\u001b[0m\u001b[37m\u001b[0m \u001b[1m0s\u001b[0m 19ms/step - loss: 0.1993 - mse: 21.3629 - val_loss: 0.0760 - val_mse: 2.7804\n",
            "Epoch 6/25\n",
            "\u001b[1m7/7\u001b[0m \u001b[32m━━━━━━━━━━━━━━━━━━━━\u001b[0m\u001b[37m\u001b[0m \u001b[1m0s\u001b[0m 19ms/step - loss: 0.1302 - mse: 11.0066 - val_loss: 0.0641 - val_mse: 2.4821\n",
            "Epoch 7/25\n",
            "\u001b[1m7/7\u001b[0m \u001b[32m━━━━━━━━━━━━━━━━━━━━\u001b[0m\u001b[37m\u001b[0m \u001b[1m0s\u001b[0m 19ms/step - loss: 0.0897 - mse: 5.5421 - val_loss: 0.0637 - val_mse: 1.9803\n",
            "Epoch 8/25\n",
            "\u001b[1m7/7\u001b[0m \u001b[32m━━━━━━━━━━━━━━━━━━━━\u001b[0m\u001b[37m\u001b[0m \u001b[1m0s\u001b[0m 22ms/step - loss: 0.1132 - mse: 8.3899 - val_loss: 0.0735 - val_mse: 2.3493\n",
            "Epoch 9/25\n",
            "\u001b[1m7/7\u001b[0m \u001b[32m━━━━━━━━━━━━━━━━━━━━\u001b[0m\u001b[37m\u001b[0m \u001b[1m0s\u001b[0m 33ms/step - loss: 0.1103 - mse: 8.6381 - val_loss: 0.0393 - val_mse: 0.9813\n",
            "Epoch 10/25\n",
            "\u001b[1m7/7\u001b[0m \u001b[32m━━━━━━━━━━━━━━━━━━━━\u001b[0m\u001b[37m\u001b[0m \u001b[1m0s\u001b[0m 34ms/step - loss: 0.1250 - mse: 11.1588 - val_loss: 0.0239 - val_mse: 0.2881\n",
            "Epoch 11/25\n",
            "\u001b[1m7/7\u001b[0m \u001b[32m━━━━━━━━━━━━━━━━━━━━\u001b[0m\u001b[37m\u001b[0m \u001b[1m0s\u001b[0m 32ms/step - loss: 0.1061 - mse: 8.4838 - val_loss: 0.0324 - val_mse: 0.5509\n",
            "Epoch 12/25\n",
            "\u001b[1m7/7\u001b[0m \u001b[32m━━━━━━━━━━━━━━━━━━━━\u001b[0m\u001b[37m\u001b[0m \u001b[1m0s\u001b[0m 29ms/step - loss: 0.1105 - mse: 10.0363 - val_loss: 0.0133 - val_mse: 0.1350\n",
            "Epoch 13/25\n",
            "\u001b[1m7/7\u001b[0m \u001b[32m━━━━━━━━━━━━━━━━━━━━\u001b[0m\u001b[37m\u001b[0m \u001b[1m0s\u001b[0m 33ms/step - loss: 0.0884 - mse: 5.2133 - val_loss: 0.0111 - val_mse: 0.1014\n",
            "Epoch 14/25\n",
            "\u001b[1m7/7\u001b[0m \u001b[32m━━━━━━━━━━━━━━━━━━━━\u001b[0m\u001b[37m\u001b[0m \u001b[1m0s\u001b[0m 35ms/step - loss: 0.1033 - mse: 6.7099 - val_loss: 0.0234 - val_mse: 0.3381\n",
            "Epoch 15/25\n",
            "\u001b[1m7/7\u001b[0m \u001b[32m━━━━━━━━━━━━━━━━━━━━\u001b[0m\u001b[37m\u001b[0m \u001b[1m0s\u001b[0m 35ms/step - loss: 0.0770 - mse: 4.8739 - val_loss: 0.0272 - val_mse: 0.3981\n",
            "Epoch 16/25\n",
            "\u001b[1m7/7\u001b[0m \u001b[32m━━━━━━━━━━━━━━━━━━━━\u001b[0m\u001b[37m\u001b[0m \u001b[1m0s\u001b[0m 34ms/step - loss: 0.1056 - mse: 7.4881 - val_loss: 0.0124 - val_mse: 0.1042\n",
            "Epoch 17/25\n",
            "\u001b[1m7/7\u001b[0m \u001b[32m━━━━━━━━━━━━━━━━━━━━\u001b[0m\u001b[37m\u001b[0m \u001b[1m0s\u001b[0m 23ms/step - loss: 0.0888 - mse: 5.5424 - val_loss: 0.0132 - val_mse: 0.1280\n",
            "Epoch 18/25\n",
            "\u001b[1m7/7\u001b[0m \u001b[32m━━━━━━━━━━━━━━━━━━━━\u001b[0m\u001b[37m\u001b[0m \u001b[1m0s\u001b[0m 24ms/step - loss: 0.1046 - mse: 6.8930 - val_loss: 0.0164 - val_mse: 0.2422\n",
            "Epoch 19/25\n",
            "\u001b[1m7/7\u001b[0m \u001b[32m━━━━━━━━━━━━━━━━━━━━\u001b[0m\u001b[37m\u001b[0m \u001b[1m0s\u001b[0m 22ms/step - loss: 0.0875 - mse: 5.7914 - val_loss: 0.0439 - val_mse: 0.9144\n",
            "Epoch 20/25\n",
            "\u001b[1m7/7\u001b[0m \u001b[32m━━━━━━━━━━━━━━━━━━━━\u001b[0m\u001b[37m\u001b[0m \u001b[1m0s\u001b[0m 25ms/step - loss: 0.1009 - mse: 7.0282 - val_loss: 0.0416 - val_mse: 0.8322\n",
            "Epoch 21/25\n",
            "\u001b[1m7/7\u001b[0m \u001b[32m━━━━━━━━━━━━━━━━━━━━\u001b[0m\u001b[37m\u001b[0m \u001b[1m0s\u001b[0m 20ms/step - loss: 0.0936 - mse: 5.9293 - val_loss: 0.0806 - val_mse: 2.7737\n",
            "Epoch 22/25\n",
            "\u001b[1m7/7\u001b[0m \u001b[32m━━━━━━━━━━━━━━━━━━━━\u001b[0m\u001b[37m\u001b[0m \u001b[1m0s\u001b[0m 21ms/step - loss: 0.1081 - mse: 7.4626 - val_loss: 0.0188 - val_mse: 0.2677\n",
            "Epoch 23/25\n",
            "\u001b[1m7/7\u001b[0m \u001b[32m━━━━━━━━━━━━━━━━━━━━\u001b[0m\u001b[37m\u001b[0m \u001b[1m0s\u001b[0m 18ms/step - loss: 0.0813 - mse: 4.7405 - val_loss: 0.0388 - val_mse: 0.8766\n",
            "Epoch 24/25\n",
            "\u001b[1m7/7\u001b[0m \u001b[32m━━━━━━━━━━━━━━━━━━━━\u001b[0m\u001b[37m\u001b[0m \u001b[1m0s\u001b[0m 18ms/step - loss: 0.1010 - mse: 6.4769 - val_loss: 0.0314 - val_mse: 0.5532\n",
            "Epoch 25/25\n",
            "\u001b[1m7/7\u001b[0m \u001b[32m━━━━━━━━━━━━━━━━━━━━\u001b[0m\u001b[37m\u001b[0m \u001b[1m0s\u001b[0m 19ms/step - loss: 0.0887 - mse: 5.4851 - val_loss: 0.0167 - val_mse: 0.1713\n"
          ]
        },
        {
          "output_type": "display_data",
          "data": {
            "text/plain": [
              "<Figure size 1200x500 with 2 Axes>"
            ],
            "image/png": "[encoded data removed]"
          },
          "metadata": {}
        }
      ]
    },
    {
      "cell_type": "code",
      "source": [
        "#read synthetic data of possible archeological site with specific geographic chracteristics locations are unknown (to find latitude and longitude)\n",
        "import csv\n",
        "import numpy as np\n",
        "with open(\"/content/Samples_random_collection_2.csv\") as infile:\n",
        "    reader = csv.reader(infile, delimiter=\",\")\n",
        "    next(reader, None)\n",
        "    data4 =np.array(list(reader))"
      ],
      "metadata": {
        "id": "Av6DAK4HmRF6"
      },
      "execution_count": null,
      "outputs": []
    },
    {
      "cell_type": "code",
      "source": [
        "# another tyep for a new array no location included\n",
        "dtype3 = np.dtype([('B11', np.float32),('B12', np.float32),('B8', np.float32), ('ET', np.float32),('NDVI', np.float32), ('ST', np.float32),('VV', np.float32),('Elevation', np.float32),('SM', np.float32) ])\n",
        "arr4 = np.zeros((len(data4),)).astype(dtype3)"
      ],
      "metadata": {
        "id": "A5dH4d3x9Ys_"
      },
      "execution_count": null,
      "outputs": []
    },
    {
      "cell_type": "markdown",
      "source": [],
      "metadata": {
        "id": "nPcInOGYlkTk"
      }
    },
    {
      "cell_type": "code",
      "source": [
        "#assign the read attributes from samples file to arr4\n",
        "arr4['B11'] = data4[:, 0]\n",
        "arr4['B12'] = data4[:, 1]\n",
        "arr4['B8'] = data4[:, 2]\n",
        "arr4['ET'] = data4[:, 3]\n",
        "arr4['NDVI'] = data4[:, 4].astype(np.float32)\n",
        "arr4['ST'] = data4[:, 5].astype(np.float32)\n",
        "arr4['VV'] = data4[:, 6].astype(np.float32)\n",
        "arr4['Elevation'] = data4[:, 7]\n",
        "arr4['SM'] = data4[:, 8]"
      ],
      "metadata": {
        "id": "G2jyJo949h0Q"
      },
      "execution_count": null,
      "outputs": []
    },
    {
      "cell_type": "code",
      "source": [
        "import pandas as pd\n",
        "import numpy as np\n",
        "\n",
        "# Define feature columns\n",
        "feature_columns = ['B11', 'B12', 'B8','ET',  'NDVI',  'ST','VV', 'Elevation', 'SM']\n",
        "# Prepare input data\n",
        "new_data_for_scaling = np.stack([arr4[col] for col in feature_columns], axis=1).astype(np.float32)\n",
        "\n",
        "# Normalize the new data\n",
        "#new_scaled = scaler.transform(new_data_for_scaling)\n",
        "\n",
        "# Reshape for LSTM input format\n",
        "#new_lstm_ready = new_scaled.reshape((new_scaled.shape[0], 1, new_scaled.shape[1]))\n",
        "new_lstm_ready = new_data_for_scaling.reshape((new_data_for_scaling.shape[0], 1, new_data_for_scaling.shape[1]))\n",
        "# Make predictions (now expecting longitude & latitude)\n",
        "predicted_coords_scaled = model.predict(new_lstm_ready)\n",
        "#predicted_coords = scaler_y.inverse_transform(predicted_coords_scaled)\n",
        "# Convert predictions to a DataFrame\n",
        "results_df = pd.DataFrame(new_data_for_scaling, columns=feature_columns)  # Original input features\n",
        "\n",
        "# Add predicted longitude & latitude columns\n",
        "results_df['Predicted_Longitude'] = predicted_coords_scaled[:, 1]  # First column = longitude\n",
        "results_df['Predicted_Latitude'] = predicted_coords_scaled[:, 0]  # Second column = latitude\n",
        "\n",
        "# Save results to a CSV file\n",
        "results_df.to_csv('predicted_coordinates.csv', index=False)\n",
        "\n",
        "print(\"Predicted latitude and longitude saved to predicted_coordinates.csv\")\n"
      ],
      "metadata": {
        "id": "XVMxWUR4BUC3",
        "outputId": "aa42799b-cdc4-4dfb-83d6-eb7fa2e1d980",
        "colab": {
          "base_uri": "https://localhost:8080/",
          "height": 52
        }
      },
      "execution_count": 185,
      "outputs": [
        {
          "output_type": "display_data",
          "data": {
            "text/plain": [
              "<IPython.core.display.HTML object>"
            ],
            "text/html": [
              "\n",
              "            <style>\n",
              "                .geemap-dark {\n",
              "                    --jp-widgets-color: white;\n",
              "                    --jp-widgets-label-color: white;\n",
              "                    --jp-ui-font-color1: white;\n",
              "                    --jp-layout-color2: #454545;\n",
              "                    background-color: #383838;\n",
              "                }\n",
              "\n",
              "                .geemap-dark .jupyter-button {\n",
              "                    --jp-layout-color3: #383838;\n",
              "                }\n",
              "\n",
              "                .geemap-colab {\n",
              "                    background-color: var(--colab-primary-surface-color, white);\n",
              "                }\n",
              "\n",
              "                .geemap-colab .jupyter-button {\n",
              "                    --jp-layout-color3: var(--colab-primary-surface-color, white);\n",
              "                }\n",
              "            </style>\n",
              "            "
            ]
          },
          "metadata": {}
        },
        {
          "output_type": "stream",
          "name": "stdout",
          "text": [
            "\u001b[1m5/5\u001b[0m \u001b[32m━━━━━━━━━━━━━━━━━━━━\u001b[0m\u001b[37m\u001b[0m \u001b[1m1s\u001b[0m 129ms/step\n",
            "Predicted latitude and longitude saved to predicted_coordinates.csv\n"
          ]
        }
      ]
    },
    {
      "cell_type": "code",
      "source": [
        "import numpy as np\n",
        "\n",
        "# True vs predicted coordinates\n",
        "true_lat = arr2[\"Latitude\"]\n",
        "true_lon = arr2[\"Longitude\"]\n",
        "pred_lat = results_df['Predicted_Latitude']#predicted_coords[:, 0]  # Latitude\n",
        "pred_lon =results_df['Predicted_Longitude']# predicted_coords[:, 1]  # Longitude\n",
        "print('true latitude',true_lat)\n",
        "print('true longitude',true_lon)\n",
        "print('predi latitude',pred_lat)\n",
        "print('predited longitude',pred_lon)\n",
        "# Calculate absolute errors for each point\n",
        "lat_errors = np.abs(true_lat - pred_lat)\n",
        "lon_errors = np.abs(true_lon- pred_lon)\n",
        "\n",
        "# Compute mean errors\n",
        "mean_lat_error = np.mean(lat_errors)\n",
        "mean_lon_error = np.mean(lon_errors)\n",
        "\n",
        "print(\"Individual Latitude Errors:\", lat_errors)\n",
        "print(\"Mean Latitude Error:\", mean_lat_error)\n",
        "print(\"Individual Longitude Errors:\", lon_errors)\n",
        "print(\"Mean Longitude Error:\", mean_lon_error)\n",
        "\n"
      ],
      "metadata": {
        "id": "J1vnPTtE7NKH",
        "outputId": "351f1684-976e-4ad5-9c7c-ac6495218df4",
        "colab": {
          "base_uri": "https://localhost:8080/",
          "height": 1000
        }
      },
      "execution_count": 186,
      "outputs": [
        {
          "output_type": "display_data",
          "data": {
            "text/plain": [
              "<IPython.core.display.HTML object>"
            ],
            "text/html": [
              "\n",
              "            <style>\n",
              "                .geemap-dark {\n",
              "                    --jp-widgets-color: white;\n",
              "                    --jp-widgets-label-color: white;\n",
              "                    --jp-ui-font-color1: white;\n",
              "                    --jp-layout-color2: #454545;\n",
              "                    background-color: #383838;\n",
              "                }\n",
              "\n",
              "                .geemap-dark .jupyter-button {\n",
              "                    --jp-layout-color3: #383838;\n",
              "                }\n",
              "\n",
              "                .geemap-colab {\n",
              "                    background-color: var(--colab-primary-surface-color, white);\n",
              "                }\n",
              "\n",
              "                .geemap-colab .jupyter-button {\n",
              "                    --jp-layout-color3: var(--colab-primary-surface-color, white);\n",
              "                }\n",
              "            </style>\n",
              "            "
            ]
          },
          "metadata": {}
        },
        {
          "output_type": "stream",
          "name": "stdout",
          "text": [
            "true latitude [-26.144444 -26.168612 -26.148056 -26.201666 -26.145277 -26.16\n",
            " -26.167778 -26.163889 -26.314167 -26.309166 -26.2225   -26.204445\n",
            " -26.203333 -26.267221 -26.259722 -26.258612 -26.258888 -25.897778\n",
            " -26.305834 -26.274166 -26.215279 -25.92     -25.885555 -25.478333\n",
            " -26.285    -25.362223 -26.3175   -26.310833 -25.818611 -26.386667\n",
            " -25.818056 -25.32     -25.383333 -25.779722 -26.379168 -25.841944\n",
            " -26.373056 -25.755833 -25.771389 -25.422777 -25.805555 -25.77111\n",
            " -25.804167 -25.850277 -25.886944 -25.882778 -25.843056 -25.848055\n",
            " -25.840555 -25.8225   -25.925833 -25.79889  -25.381945 -25.81611\n",
            " -25.819445 -25.908611 -25.498333 -25.854445 -25.907223 -25.884167\n",
            " -25.903334 -25.910555 -25.913334 -25.885555 -25.897778 -25.890278\n",
            " -25.840555 -25.908333 -25.509722 -25.491667 -25.920834 -25.918612\n",
            " -26.3275   -25.353611 -25.516945 -26.365    -25.361666 -25.962778\n",
            " -25.899445 -25.508333 -26.38139  -26.388334 -25.501112 -26.388056\n",
            " -25.935    -26.386389 -26.3875   -25.938055 -25.520834 -25.918888\n",
            " -26.370277 -25.919445 -25.919722 -25.804167 -25.806667 -25.559444\n",
            " -25.550833 -25.556944 -25.5575   -25.5575   -26.395    -26.3975\n",
            " -25.821112 -26.403334 -25.520555 -25.942778 -25.939167 -25.938889\n",
            " -25.532778 -25.529722 -25.519167 -26.289722 -26.29     -26.283056\n",
            " -26.284721 -26.28111  -26.278889 -26.287222 -25.464167 -25.714167\n",
            " -25.7125   -25.25639  -25.60389  -25.286667 -25.348612 -25.279167\n",
            " -25.297222 -25.299444 -25.351667 -25.345833 -25.381945 -25.359722\n",
            " -25.336945 -25.310278 -25.30889  -25.2925   -25.261667]\n",
            "true longitude [-48.823055 -48.81111  -48.810555 -48.80611  -48.803333 -48.800278\n",
            " -48.798054 -48.7925   -48.787224 -48.78361  -48.7825   -48.781944\n",
            " -48.779724 -48.779724 -48.779446 -48.77833  -48.775833 -48.775276\n",
            " -48.773888 -48.773056 -48.772778 -48.77111  -48.769444 -48.762222\n",
            " -48.76139  -48.758335 -48.75778  -48.754166 -48.753613 -48.753334\n",
            " -48.751667 -48.75028  -48.74972  -48.748333 -48.743332 -48.738056\n",
            " -48.737778 -48.735554 -48.73528  -48.734444 -48.734165 -48.733612\n",
            " -48.731667 -48.731667 -48.72972  -48.72889  -48.726944 -48.726112\n",
            " -48.725277 -48.72389  -48.72278  -48.720276 -48.717224 -48.717224\n",
            " -48.71611  -48.71528  -48.71389  -48.71361  -48.711666 -48.710556\n",
            " -48.71     -48.70972  -48.70972  -48.708057 -48.706944 -48.704166\n",
            " -48.704166 -48.703335 -48.7025   -48.699444 -48.699165 -48.69472\n",
            " -48.69361  -48.693054 -48.690277 -48.68889  -48.683613 -48.683056\n",
            " -48.682777 -48.6775   -48.668056 -48.663334 -48.661945 -48.646667\n",
            " -48.64639  -48.644165 -48.64389  -48.64     -48.636112 -48.63389\n",
            " -48.628887 -48.628613 -48.6275   -48.626667 -48.625557 -48.62389\n",
            " -48.6225   -48.621944 -48.621113 -48.61972  -48.61722  -48.614445\n",
            " -48.60889  -48.606667 -48.603054 -48.595    -48.595    -48.5925\n",
            " -48.56278  -48.560276 -48.558056 -48.546665 -48.546665 -48.54222\n",
            " -48.54222  -48.540833 -48.539444 -48.538612 -48.508057 -48.503887\n",
            " -48.503613 -48.485832 -48.47     -48.325554 -48.323334 -48.323334\n",
            " -48.32111  -48.320835 -48.316113 -48.30639  -48.224724 -48.22333\n",
            " -48.219444 -48.181946 -48.181667 -48.13889  -48.06361 ]\n",
            "predi latitude 0     -25.625546\n",
            "1     -25.625549\n",
            "2     -25.625549\n",
            "3     -25.625546\n",
            "4     -25.625542\n",
            "         ...    \n",
            "132   -25.625549\n",
            "133   -25.625404\n",
            "134   -25.625532\n",
            "135   -25.625547\n",
            "136   -25.625549\n",
            "Name: Predicted_Latitude, Length: 137, dtype: float32\n",
            "predited longitude 0     -48.567860\n",
            "1     -48.567863\n",
            "2     -48.567863\n",
            "3     -48.567856\n",
            "4     -48.567852\n",
            "         ...    \n",
            "132   -48.567863\n",
            "133   -48.567574\n",
            "134   -48.567829\n",
            "135   -48.567863\n",
            "136   -48.567863\n",
            "Name: Predicted_Longitude, Length: 137, dtype: float32\n",
            "Individual Latitude Errors: 0      0.518898\n",
            "1      0.543062\n",
            "2      0.522507\n",
            "3      0.576120\n",
            "4      0.519735\n",
            "         ...   \n",
            "132    0.288605\n",
            "133    0.315126\n",
            "134    0.316643\n",
            "135    0.333048\n",
            "136    0.363882\n",
            "Name: Predicted_Latitude, Length: 137, dtype: float32\n",
            "Mean Latitude Error: 0.36404857\n",
            "Individual Longitude Errors: 0      0.255196\n",
            "1      0.243248\n",
            "2      0.242691\n",
            "3      0.238255\n",
            "4      0.235481\n",
            "         ...   \n",
            "132    0.348419\n",
            "133    0.385628\n",
            "134    0.386162\n",
            "135    0.428974\n",
            "136    0.504253\n",
            "Name: Predicted_Longitude, Length: 137, dtype: float32\n",
            "Mean Longitude Error: 0.14987224\n"
          ]
        }
      ]
    },
    {
      "cell_type": "code",
      "source": [
        "import matplotlib.pyplot as plt\n",
        "\n",
        "plt.figure(figsize=(10, 6))\n",
        "\n",
        "# Plot true locations\n",
        "plt.scatter(arr2[\"Longitude\"], arr2[\"Latitude\"], color='green', label='True Locations', marker='o')\n",
        "\n",
        "# Plot predicted locations\n",
        "#plt.scatter(pred_lon[:, 1], pred_lat[:, 0], color='red', label='Predicted Locations', marker='x')\n",
        "# Plot predicted locations\n",
        "plt.scatter(pred_lon.values, pred_lat.values, color='red', label='Predicted Locations', marker='x')\n",
        "# Connect true and predicted points to show displacement\n",
        "#for i in range(len(true_coords)):\n",
        "#    plt.plot([true_coords[i, 0], pred_coords[i, 0]], [true_coords[i, 1], pred_coords[i, 1]], color=\"gray\", linestyle=\"dashed\", alpha=0.5)\n",
        "\n",
        "plt.xlabel(\"Longitude\")\n",
        "plt.ylabel(\"Latitude\")\n",
        "plt.title(\"True vs. Predicted Locations of Archaeological Sites\")\n",
        "plt.legend()\n",
        "plt.grid()\n",
        "plt.show()\n",
        "\n"
      ],
      "metadata": {
        "id": "WeP1Hdti8Wjf"
      },
      "execution_count": null,
      "outputs": []
    }
  ]
}