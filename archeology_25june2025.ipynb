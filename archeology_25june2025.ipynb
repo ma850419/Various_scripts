{
  "nbformat": 4,
  "nbformat_minor": 0,
  "metadata": {
    "colab": {
      "provenance": [],
      "include_colab_link": true
    },
    "kernelspec": {
      "name": "python3",
      "display_name": "Python 3"
    },
    "language_info": {
      "name": "python"
    }
  },
  "cells": [
    {
      "cell_type": "markdown",
      "metadata": {
        "id": "view-in-github",
        "colab_type": "text"
      },
      "source": [
        "<a href=\"https://colab.research.google.com/github/ma850419/Various_scripts/blob/main/archeology_25june2025.ipynb\" target=\"_parent\"><img src=\"https://colab.research.google.com/assets/colab-badge.svg\" alt=\"Open In Colab\"/></a>"
      ]
    },
    {
      "cell_type": "code",
      "execution_count": 1,
      "metadata": {
        "id": "lJHo6-Sy4sLQ"
      },
      "outputs": [],
      "source": [
        "import ee\n",
        "ee.Authenticate()\n",
        "ee.Initialize(project='velvety-ring-328419')"
      ]
    },
    {
      "cell_type": "markdown",
      "source": [],
      "metadata": {
        "id": "Kxc89j1r8vhg"
      }
    },
    {
      "cell_type": "code",
      "source": [
        "# Based on similar location - modified one to include weights collecting different geographic layers\n",
        "# to provide to the deep learning model for training\n",
        "import geemap\n",
        "\n",
        "# Define region (Brazil, Southeastern Amazon). You can also expand it to other countries\n",
        "mask = ee.FeatureCollection('USDOS/LSIB_SIMPLE/2017').filter(ee.Filter.eq('country_na', 'Brazil'))\n",
        "brazil_geometry = mask.geometry()\n",
        "southeast_brazil = brazil_geometry.intersection(ee.Geometry.Rectangle([-55, -25, -40, -35]))\n",
        "weights = {\n",
        "    \"B12\": 0.10,\n",
        "    \"B11\": 0.10,\n",
        "    \"B8\": 0.10,\n",
        "    \"VV\": 0.10,\n",
        "    \"NDVI\": 0.15,\n",
        "    \"Elevation\": 0.15,\n",
        "    \"SoilMoisture\": 0.10,\n",
        "    \"Thermal\": 0.1,\n",
        "    \"Evapotranspiration\": 0.1\n",
        "}\n",
        "def normalize_band(image, band):\n",
        "    band_min = image.select(band).reduceRegion(\n",
        "        reducer=ee.Reducer.min(), geometry=image.geometry(), scale=30, bestEffort=True\n",
        "    ).get(band)\n",
        "\n",
        "    band_max = image.select(band).reduceRegion(\n",
        "        reducer=ee.Reducer.max(), geometry=image.geometry(), scale=30, bestEffort=True\n",
        "    ).get(band)\n",
        "\n",
        "    normalized_band = image.select(band).subtract(ee.Number(band_min)).divide(ee.Number(band_max).subtract(ee.Number(band_min)))\n",
        "    return normalized_band.rename(band + \"_norm\")\n",
        "# Load archaeological points\n",
        "archaeology_points = ee.FeatureCollection(\"users/mohamadawadlebanon/Archeologicalsites\")\n",
        "\n",
        "# Define date range\n",
        "start_date = \"2024-05-01\"\n",
        "end_date = \"2024-05-31\"\n",
        "def apply_scale_and_offset(image):\n",
        "    return image.select(\"ST_B10\").multiply(0.00341802).add(149.0)\n",
        "### **Step 1: Elevation Data (ASTER GDEM)**\n",
        "elevation = ee.Image(\"projects/sat-io/open-datasets/ASTER/GDEM\").clip(southeast_brazil)\n",
        "#elevation = elevation.rename(\"Elevation\")\n",
        "elevation = elevation.rename(\"elevation\")\n",
        "### **Step 2: Sentinel-2 EVI**\n",
        "sentinel2_ndvi = ee.ImageCollection(\"COPERNICUS/S2\") \\\n",
        "    .filterBounds(southeast_brazil) \\\n",
        "    .filterDate(start_date, end_date) \\\n",
        "    .filter(ee.Filter.lt(\"CLOUDY_PIXEL_PERCENTAGE\", 10)) \\\n",
        "    .select([\"B8\", \"B4\"]) \\\n",
        "    .map(lambda img: img.expression(\n",
        "        \"(B8 - B4) / (B8 + B4)\",  # EVI formula\n",
        "        {\"B8\": img.select(\"B8\"), \"B4\": img.select(\"B4\")}\n",
        "    )).median().clip(southeast_brazil)\n",
        "sentinel2_ndvi = sentinel2_ndvi.rename(\"NDVI\")\n",
        "\n",
        "### **Step 3: Sentinel-1 Radar**\n",
        "sentinel1_images = ee.ImageCollection(\"COPERNICUS/S1_GRD\") \\\n",
        "    .filterBounds(southeast_brazil) \\\n",
        "    .filterDate(start_date, end_date) \\\n",
        "    .filter(ee.Filter.listContains(\"transmitterReceiverPolarisation\", \"VV\")) \\\n",
        "    .filter(ee.Filter.eq(\"instrumentMode\", \"IW\")) \\\n",
        "    .select(\"VV\")\n",
        "\n",
        "mosaiced_sentinel1 = sentinel1_images.median().clip(southeast_brazil)\n",
        "\n",
        "### **Step 4: Sentinel-2 Optical Mosaic**\n",
        "sentinel2_images = ee.ImageCollection(\"COPERNICUS/S2\") \\\n",
        "    .filterBounds(southeast_brazil) \\\n",
        "    .filterDate(start_date, end_date) \\\n",
        "    .filter(ee.Filter.lt(\"CLOUDY_PIXEL_PERCENTAGE\", 10)) \\\n",
        "    .select([\"B8\", \"B11\", \"B12\"])\n",
        "\n",
        "mosaiced_sentinel2 = sentinel2_images.median().clip(southeast_brazil)\n",
        "\n",
        "### **Step 5: MODIS Evapotranspiration (ET)**\n",
        "modis_et = ee.ImageCollection(\"MODIS/061/MOD16A2\") \\\n",
        "    .filterBounds(southeast_brazil) \\\n",
        "    .filterDate(start_date, end_date) \\\n",
        "    .select(\"ET\") \\\n",
        "    .median().clip(southeast_brazil)\n",
        "\n",
        "### **Step 6: Soil Moisture (NASA SMAP)**\n",
        "soil_moisture = ee.ImageCollection('NASA/SMAP/SPL4SMGP/007') \\\n",
        "    .filterBounds(southeast_brazil) \\\n",
        "    .filterDate(start_date, end_date) \\\n",
        "    .select('sm_surface') \\\n",
        "    .median().clip(southeast_brazil)\n",
        "\n",
        "### **Step 7: Thermal Infrared (Landsat 8-9)**\n",
        "thermal = ee.ImageCollection(\"LANDSAT/LC08/C02/T1_L2\") \\\n",
        "    .filterBounds(southeast_brazil) \\\n",
        "    .filterDate(start_date, end_date) \\\n",
        "    .map(apply_scale_and_offset) \\\n",
        "    .median().clip(southeast_brazil)\n",
        "\n",
        "\n",
        "#*** step 8 Normalize all bands\n",
        "\n",
        "normalized_sentinel1 = normalize_band(mosaiced_sentinel1, \"VV\")\n",
        "normalized_ndvi = normalize_band(sentinel2_ndvi, \"NDVI\")\n",
        "normalized_elevation = normalize_band(elevation, \"elevation\")\n",
        "normalized_soil_moisture = normalize_band(soil_moisture, \"sm_surface\")\n",
        "normalized_thermal = normalize_band(thermal, \"ST_B10\")\n",
        "normalized_et = normalize_band(modis_et, \"ET\")\n",
        "\n",
        "### merge all bands and layers\n",
        "combined = mosaiced_sentinel2.select(\"B12\").multiply(weights[\"B12\"]) \\\n",
        ".addBands(mosaiced_sentinel2.select(\"B11\").multiply(weights[\"B11\"])) \\\n",
        ".addBands(mosaiced_sentinel2.select(\"B8\").multiply(weights[\"B8\"])) \\\n",
        ".addBands(mosaiced_sentinel1.multiply(weights[\"VV\"])) \\\n",
        ".addBands(sentinel2_ndvi.multiply(weights[\"NDVI\"])) \\\n",
        ".addBands(elevation.multiply(weights[\"Elevation\"])) \\\n",
        ".addBands(soil_moisture.multiply(weights[\"SoilMoisture\"])) \\\n",
        ".addBands(thermal.multiply(weights[\"Thermal\"])) \\\n",
        ".addBands(modis_et.multiply(weights[\"Evapotranspiration\"]))\n",
        "\n",
        "\n",
        "# Sample feature values at archaeology site locations\n",
        "sampled_values = combined.sampleRegions(**{\n",
        "    \"collection\": archaeology_points,\n",
        "    \"scale\": 10,  # Adjust scale depending on resolution needs\n",
        "    \"tileScale\": 2\n",
        "})\n",
        "# Convert sampled values to FeatureCollection table\n",
        "def safe_set_coordinates(feature):\n",
        "    return feature.set({\n",
        "        \"Longitude\": feature.get(\"lon\"),\n",
        "        \"Latitude\": feature.get(\"lat\")\n",
        "    })\n",
        "\n",
        "#table = sampled_values.map(safe_set_coordinates)\n",
        "\n",
        "task = ee.batch.Export.table.toDrive(\n",
        "    collection=sampled_values, #table,\n",
        "    description=\"Archaeological_Site_Features\",\n",
        "    fileFormat=\"CSV\"\n",
        ")\n",
        "task.start()  # Start export task\n",
        "\n",
        "### **Step 10: Apply K-Means Clustering**\n",
        "num_classes = 10\n",
        "training_points = combined.sample(\n",
        "    region=southeast_brazil,\n",
        "    # Default (False) is no geometries in the output.\n",
        "    # When set to True, each feature has a Point geometry at the center of the\n",
        "    # image pixel.\n",
        "    geometries=True,\n",
        "    numPixels = 500,\n",
        "    # The scale is not specified, so the resolution of the image will be used,\n",
        "    # and there is a feature for every pixel. If we give a scale parameter, the\n",
        "    # image will be resampled and there will be more or fewer features.\n",
        "    #\n",
        "    scale= 10,\n",
        ")\n",
        "# Extract longitude and latitude from geometry\n",
        "\n",
        "#training_points = training_points.filter(ee.Filter.notNull(['geometry']))\n",
        "print(training_points.first().getInfo())\n",
        "task1 = ee.batch.Export.table.toDrive(\n",
        "    collection=training_points,\n",
        "    description=\"Samples_random_collection\",\n",
        "    fileFormat=\"CSV\"\n",
        ")\n",
        "task1.start()\n",
        "clusterer = ee.Clusterer.wekaKMeans(num_classes).train(training_points)\n",
        "classified = combined.cluster(clusterer)\n",
        "\n",
        "### **Step 11: Validate Using Archaeological Sites**\n",
        "validation = classified.sampleRegions(**{\n",
        "    \"collection\": archaeology_points,\n",
        "    \"scale\": 10,\n",
        "    \"properties\": [\"class\"],\n",
        "    \"tileScale\": 2\n",
        "})\n",
        "\n",
        "### **Step 12: Visualization Parameters**\n",
        "vis_params_elevation = {\"bands\": [\"elevation\"], \"min\": 0, \"max\": 3000, \"palette\": [\"black\", \"white\"]}\n",
        "vis_params_ndvi = {\"bands\": [\"NDVI\"],\"min\": -0.6, \"max\": 0.6, \"palette\": [\"brown\", \"green\"]}\n",
        "vis_params_s1 = {\"bands\": [\"VV\"], \"min\": -20, \"max\": 0, \"gamma\": 1.4}\n",
        "vis_params_s2 = {\"bands\": [\"B12\", \"B11\", \"B8\"], \"min\": 0, \"max\": 3000, \"gamma\": 1.4}\n",
        "vis_params_modis_et = {\"bands\": [\"ET\"], \"min\": 0, \"max\": 300, \"palette\": [\"yellow\", \"green\", \"blue\"]}\n",
        "#vis_params_pml_et = {\"min\": 0, \"max\": 5, \"palette\": [\"orange\", \"red\", \"purple\"]}\n",
        "vis_params_soil = {\"bands\": [\"sm_surface\"], \"min\": 0, \"max\": 0.9, \"palette\": [\"red\", \"orange\", \"yellow\", \"green\"]}\n",
        "vis_params_thermal = {\"bands\": [\"ST_B10\"], \"min\": 270, \"max\": 320, \"palette\": [\"blue\", \"yellow\", \"red\"]}\n",
        "vis_params_classified = {\n",
        "    \"min\": 0,\n",
        "    \"max\": num_classes - 1,\n",
        "    \"palette\": [\"blue\", \"green\", \"yellow\", \"red\", \"purple\", \"orange\", \"brown\", \"cyan\", \"pink\", \"gray\"]\n",
        "}\n",
        "archaeology_vis = {\"color\": \"blue\", \"pointRadius\": 5}\n",
        "sample_vis = {\"color\": \"black\", \"pointRadius\": 4}\n",
        "### **Step 13: Create & Display Map**\n",
        "m = geemap.Map(center=[-3, -60], zoom=6)\n",
        "\n",
        "m.addLayer(elevation, vis_params_elevation, \"ASTER GDEM v3 Elevation\")\n",
        "m.addLayer(sentinel2_ndvi, vis_params_ndvi, \"High-Resolution NDVI (Sentinel-2)\")\n",
        "m.addLayer(mosaiced_sentinel1, vis_params_s1, \"Sentinel-1 Mosaic (Radar)\")\n",
        "m.addLayer(mosaiced_sentinel2, vis_params_s2, \"Sentinel-2 Mosaic (Optical)\")\n",
        "m.addLayer(modis_et, vis_params_modis_et, \"MODIS Evapotranspiration\")\n",
        "#m.addLayer(pml_et, vis_params_pml_et, \"PML Evapotranspiration\")\n",
        "m.addLayer(soil_moisture, vis_params_soil, \"Soil Moisture (SMAP)\")\n",
        "m.addLayer(thermal, vis_params_thermal, \"Thermal Infrared (Landsat)\")\n",
        "m.addLayer(classified, vis_params_classified, \"Classified Image (K-Means)\")\n",
        "m.addLayer(archaeology_points, archaeology_vis, \"Archaeology Points\")\n",
        "m.addLayer(training_points,sample_vis, \"sample Points\")\n",
        "\n",
        "# Display the map\n",
        "m\n"
      ],
      "metadata": {
        "id": "fzW_axLw3MBI"
      },
      "execution_count": null,
      "outputs": []
    },
    {
      "cell_type": "code",
      "source": [
        "# read known archeological sites\n",
        "import csv\n",
        "import numpy as np\n",
        "with open(\"/content/Archaeological_Site_Features_2.csv\") as infile:\n",
        "    reader = csv.reader(infile, delimiter=\",\")\n",
        "    next(reader, None)\n",
        "    data3 =np.array(list(reader))"
      ],
      "metadata": {
        "id": "HXIes8X1vTJy",
        "outputId": "7af55475-2f2a-46b3-f91f-a465975417c4",
        "colab": {
          "base_uri": "https://localhost:8080/",
          "height": 17
        }
      },
      "execution_count": 6,
      "outputs": [
        {
          "output_type": "display_data",
          "data": {
            "text/plain": [
              "<IPython.core.display.HTML object>"
            ],
            "text/html": [
              "\n",
              "            <style>\n",
              "                .geemap-dark {\n",
              "                    --jp-widgets-color: white;\n",
              "                    --jp-widgets-label-color: white;\n",
              "                    --jp-ui-font-color1: white;\n",
              "                    --jp-layout-color2: #454545;\n",
              "                    background-color: #383838;\n",
              "                }\n",
              "\n",
              "                .geemap-dark .jupyter-button {\n",
              "                    --jp-layout-color3: #383838;\n",
              "                }\n",
              "\n",
              "                .geemap-colab {\n",
              "                    background-color: var(--colab-primary-surface-color, white);\n",
              "                }\n",
              "\n",
              "                .geemap-colab .jupyter-button {\n",
              "                    --jp-layout-color3: var(--colab-primary-surface-color, white);\n",
              "                }\n",
              "            </style>\n",
              "            "
            ]
          },
          "metadata": {}
        }
      ]
    },
    {
      "cell_type": "code",
      "source": [
        "# Define the type of read parameters for the training of the model\n",
        "dtype1 = np.dtype([('B12', np.float32),('B11', np.float32),('B8', np.float32),('VV', np.float32),('NDVI', np.float32), ('Elevation', np.float32), ('SM', np.float32), ('ST', np.float32),('ET', np.float32),('Latitude', np.float32),('Longitude', np.float32) , ('Name', np.str_),('Class', np.int32)])\n",
        "arr2 = np.zeros((len(data3),)).astype(dtype1)"
      ],
      "metadata": {
        "id": "vOINVvLZv7IV",
        "outputId": "dc8d5c63-fdf3-4aa3-d508-7ee1d5a12fff",
        "colab": {
          "base_uri": "https://localhost:8080/",
          "height": 17
        }
      },
      "execution_count": 7,
      "outputs": [
        {
          "output_type": "display_data",
          "data": {
            "text/plain": [
              "<IPython.core.display.HTML object>"
            ],
            "text/html": [
              "\n",
              "            <style>\n",
              "                .geemap-dark {\n",
              "                    --jp-widgets-color: white;\n",
              "                    --jp-widgets-label-color: white;\n",
              "                    --jp-ui-font-color1: white;\n",
              "                    --jp-layout-color2: #454545;\n",
              "                    background-color: #383838;\n",
              "                }\n",
              "\n",
              "                .geemap-dark .jupyter-button {\n",
              "                    --jp-layout-color3: #383838;\n",
              "                }\n",
              "\n",
              "                .geemap-colab {\n",
              "                    background-color: var(--colab-primary-surface-color, white);\n",
              "                }\n",
              "\n",
              "                .geemap-colab .jupyter-button {\n",
              "                    --jp-layout-color3: var(--colab-primary-surface-color, white);\n",
              "                }\n",
              "            </style>\n",
              "            "
            ]
          },
          "metadata": {}
        }
      ]
    },
    {
      "cell_type": "markdown",
      "source": [],
      "metadata": {
        "id": "xjUbTAZxANv_"
      }
    },
    {
      "cell_type": "code",
      "source": [
        "# assign read data to another array of predefined type dtype1\n",
        "arr2['B11'] = data3[:, 0]\n",
        "arr2['B12'] = data3[:, 1]\n",
        "arr2['B8'] = data3[:, 2]\n",
        "arr2['ET'] = data3[:, 6]\n",
        "arr2['NDVI'] = data3[:, 5].astype(np.float32)\n",
        "arr2['ST'] = data3[:, 8].astype(np.float32)\n",
        "arr2['VV'] = data3[:, 3].astype(np.float32)\n",
        "arr2['Elevation'] = data3[:, 4]\n",
        "arr2['SM'] = data3[:, 7]\n",
        "arr2['Latitude'] = data3[:, 9]\n",
        "arr2['Longitude'] = data3[:, 10]\n",
        "arr2['Name'] = data3[:, 11]\n",
        "arr2['Class'] = data3[:, 12]"
      ],
      "metadata": {
        "id": "IH9rmZELz8ek",
        "outputId": "99c688cf-8608-40ea-cf8e-d175834c4b9c",
        "colab": {
          "base_uri": "https://localhost:8080/",
          "height": 17
        }
      },
      "execution_count": 8,
      "outputs": [
        {
          "output_type": "display_data",
          "data": {
            "text/plain": [
              "<IPython.core.display.HTML object>"
            ],
            "text/html": [
              "\n",
              "            <style>\n",
              "                .geemap-dark {\n",
              "                    --jp-widgets-color: white;\n",
              "                    --jp-widgets-label-color: white;\n",
              "                    --jp-ui-font-color1: white;\n",
              "                    --jp-layout-color2: #454545;\n",
              "                    background-color: #383838;\n",
              "                }\n",
              "\n",
              "                .geemap-dark .jupyter-button {\n",
              "                    --jp-layout-color3: #383838;\n",
              "                }\n",
              "\n",
              "                .geemap-colab {\n",
              "                    background-color: var(--colab-primary-surface-color, white);\n",
              "                }\n",
              "\n",
              "                .geemap-colab .jupyter-button {\n",
              "                    --jp-layout-color3: var(--colab-primary-surface-color, white);\n",
              "                }\n",
              "            </style>\n",
              "            "
            ]
          },
          "metadata": {}
        }
      ]
    },
    {
      "cell_type": "code",
      "source": [
        "import numpy as np\n",
        "import tensorflow as tf\n",
        "from tensorflow import keras\n",
        "from tensorflow.keras.models import Sequential, Model\n",
        "from tensorflow.keras.layers import LSTM, Dense, Bidirectional, BatchNormalization, Input,Reshape\n",
        "from sklearn.preprocessing import MinMaxScaler\n",
        "from tensorflow.keras.layers import Dropout\n",
        "from tensorflow.keras.regularizers import l2\n",
        "# Define custom loss function (MSE + small L1 penalty)\n",
        "def custom_loss(y_true, y_pred):\n",
        "    return tf.reduce_mean(tf.square(y_pred - y_true)) + 0.01 * tf.reduce_sum(tf.abs(y_pred))\n",
        "def r2_score(y_true, y_pred):\n",
        "    SS_res = tf.reduce_sum(tf.square(y_true - y_pred))\n",
        "    SS_tot = tf.reduce_sum(tf.square(y_true - tf.reduce_mean(y_true)))\n",
        "    return 1 - (SS_res / (SS_tot + tf.keras.backend.epsilon()))\n",
        "# Define feature columns (exclude Name, Latitude, Longitude)\n",
        "feature_columns = ['B12', 'B11', 'B8', 'VV',  'NDVI', 'Elevation', 'SM', 'ST', 'ET']\n",
        "\n",
        "X_structured = arr2[feature_columns]  # Extract features\n",
        "# Extract latitude & longitude properly from the structured array\n",
        "# Convert latitude & longitude to arcseconds (precision boost)\n",
        "arr2['Latitude'] = arr2['Latitude'] #* 3600\n",
        "arr2['Longitude'] = arr2['Longitude']# * 3600\n",
        "y = np.stack([arr2['Latitude'], arr2['Longitude']], axis=1).astype(np.float32)\n",
        "X = np.stack([X_structured[col] for col in feature_columns], axis=1).astype(np.float32)\n",
        "X_lstm1 = X.reshape((X.shape[0], 1, X.shape[1]))\n",
        "# Normalize features using MinMaxScaler\n",
        "scaler_X = MinMaxScaler(feature_range=(0, 1))\n",
        "X_scaled = scaler_X.fit_transform(X)  # Scale features\n",
        "\n",
        "scaler_y = MinMaxScaler()#feature_range=(0, 1))\n",
        "y_scaled = scaler_y.fit_transform(y)\n",
        "\n",
        "# Reshape X to fit LSTM input format (samples, timesteps, features)\n",
        "X_lstm = X_scaled.reshape((X_scaled.shape[0], 1, X_scaled.shape[1]))  # 1 timestep\n",
        "\n",
        "# Build LSTM model for predicting Latitude & Longitude of possible archeological sites\n",
        "\n",
        "input_layer = Input(shape=(1, len(feature_columns)))\n",
        "x = Bidirectional(LSTM(256, return_sequences=True, kernel_regularizer=l2(0.1)))(input_layer)\n",
        "x = Dropout(0.4)(x)\n",
        "x = BatchNormalization()(x)\n",
        "\n",
        "x = LSTM(128, return_sequences=True, kernel_regularizer=l2(0.1))(x)\n",
        "x = Dropout(0.3)(x)\n",
        "\n",
        "x = LSTM(64, kernel_regularizer=l2(0.1))(x)\n",
        "x = Dropout(0.2)(x)\n",
        "\n",
        "x = Reshape((1, 64))(x)  # Ensure 3D shape\n",
        "x = LSTM(32, kernel_regularizer=l2(0.1), return_sequences=False)(x)\n",
        "x = Dropout(0.2)(x)\n",
        "\n",
        "# Dense layers\n",
        "x = Dense(16, activation='relu', kernel_regularizer=l2(0.1))(x)\n",
        "output_layer = Dense(2)(x)  # Predicts Latitude & Longitude\n",
        "# Build model\n",
        "model = Model(inputs=input_layer, outputs=output_layer)\n",
        "\n",
        "# Compile model with MSE loss (regression task)\n",
        "#model.compile(optimizer=keras.optimizers.Adam(learning_rate=0.01),loss=custom_loss, metrics= ['mse'])#['mse'])\n",
        "model.compile(optimizer=keras.optimizers.Adam(learning_rate=0.001),\n",
        "              loss=tf.keras.losses.Huber(delta=0.01),  # More robust loss function\n",
        "              metrics=['mse'])\n",
        "\n",
        "#model.compile(optimizer=keras.optimizers.Adam(learning_rate=0.01), loss=tf.keras.losses.Huber(delta=1.0),metrics= ['mse'])#, metrics=['r2_score'])\n",
        "# Summary of the model\n",
        "model.summary()\n",
        "\n",
        "\n"
      ],
      "metadata": {
        "id": "H-DjtTkH-0bz",
        "outputId": "e6e9bf40-a927-43fe-b68b-b93a531e78b7",
        "colab": {
          "base_uri": "https://localhost:8080/",
          "height": 571
        }
      },
      "execution_count": 9,
      "outputs": [
        {
          "output_type": "display_data",
          "data": {
            "text/plain": [
              "<IPython.core.display.HTML object>"
            ],
            "text/html": [
              "\n",
              "            <style>\n",
              "                .geemap-dark {\n",
              "                    --jp-widgets-color: white;\n",
              "                    --jp-widgets-label-color: white;\n",
              "                    --jp-ui-font-color1: white;\n",
              "                    --jp-layout-color2: #454545;\n",
              "                    background-color: #383838;\n",
              "                }\n",
              "\n",
              "                .geemap-dark .jupyter-button {\n",
              "                    --jp-layout-color3: #383838;\n",
              "                }\n",
              "\n",
              "                .geemap-colab {\n",
              "                    background-color: var(--colab-primary-surface-color, white);\n",
              "                }\n",
              "\n",
              "                .geemap-colab .jupyter-button {\n",
              "                    --jp-layout-color3: var(--colab-primary-surface-color, white);\n",
              "                }\n",
              "            </style>\n",
              "            "
            ]
          },
          "metadata": {}
        },
        {
          "output_type": "display_data",
          "data": {
            "text/plain": [
              "\u001b[1mModel: \"functional\"\u001b[0m\n"
            ],
            "text/html": [
              "<pre style=\"white-space:pre;overflow-x:auto;line-height:normal;font-family:Menlo,'DejaVu Sans Mono',consolas,'Courier New',monospace\"><span style=\"font-weight: bold\">Model: \"functional\"</span>\n",
              "</pre>\n"
            ]
          },
          "metadata": {}
        },
        {
          "output_type": "display_data",
          "data": {
            "text/plain": [
              "┏━━━━━━━━━━━━━━━━━━━━━━━━━━━━━━━━━┳━━━━━━━━━━━━━━━━━━━━━━━━┳━━━━━━━━━━━━━━━┓\n",
              "┃\u001b[1m \u001b[0m\u001b[1mLayer (type)                   \u001b[0m\u001b[1m \u001b[0m┃\u001b[1m \u001b[0m\u001b[1mOutput Shape          \u001b[0m\u001b[1m \u001b[0m┃\u001b[1m \u001b[0m\u001b[1m      Param #\u001b[0m\u001b[1m \u001b[0m┃\n",
              "┡━━━━━━━━━━━━━━━━━━━━━━━━━━━━━━━━━╇━━━━━━━━━━━━━━━━━━━━━━━━╇━━━━━━━━━━━━━━━┩\n",
              "│ input_layer (\u001b[38;5;33mInputLayer\u001b[0m)        │ (\u001b[38;5;45mNone\u001b[0m, \u001b[38;5;34m1\u001b[0m, \u001b[38;5;34m9\u001b[0m)           │             \u001b[38;5;34m0\u001b[0m │\n",
              "├─────────────────────────────────┼────────────────────────┼───────────────┤\n",
              "│ bidirectional (\u001b[38;5;33mBidirectional\u001b[0m)   │ (\u001b[38;5;45mNone\u001b[0m, \u001b[38;5;34m1\u001b[0m, \u001b[38;5;34m512\u001b[0m)         │       \u001b[38;5;34m544,768\u001b[0m │\n",
              "├─────────────────────────────────┼────────────────────────┼───────────────┤\n",
              "│ dropout (\u001b[38;5;33mDropout\u001b[0m)               │ (\u001b[38;5;45mNone\u001b[0m, \u001b[38;5;34m1\u001b[0m, \u001b[38;5;34m512\u001b[0m)         │             \u001b[38;5;34m0\u001b[0m │\n",
              "├─────────────────────────────────┼────────────────────────┼───────────────┤\n",
              "│ batch_normalization             │ (\u001b[38;5;45mNone\u001b[0m, \u001b[38;5;34m1\u001b[0m, \u001b[38;5;34m512\u001b[0m)         │         \u001b[38;5;34m2,048\u001b[0m │\n",
              "│ (\u001b[38;5;33mBatchNormalization\u001b[0m)            │                        │               │\n",
              "├─────────────────────────────────┼────────────────────────┼───────────────┤\n",
              "│ lstm_1 (\u001b[38;5;33mLSTM\u001b[0m)                   │ (\u001b[38;5;45mNone\u001b[0m, \u001b[38;5;34m1\u001b[0m, \u001b[38;5;34m128\u001b[0m)         │       \u001b[38;5;34m328,192\u001b[0m │\n",
              "├─────────────────────────────────┼────────────────────────┼───────────────┤\n",
              "│ dropout_1 (\u001b[38;5;33mDropout\u001b[0m)             │ (\u001b[38;5;45mNone\u001b[0m, \u001b[38;5;34m1\u001b[0m, \u001b[38;5;34m128\u001b[0m)         │             \u001b[38;5;34m0\u001b[0m │\n",
              "├─────────────────────────────────┼────────────────────────┼───────────────┤\n",
              "│ lstm_2 (\u001b[38;5;33mLSTM\u001b[0m)                   │ (\u001b[38;5;45mNone\u001b[0m, \u001b[38;5;34m64\u001b[0m)             │        \u001b[38;5;34m49,408\u001b[0m │\n",
              "├─────────────────────────────────┼────────────────────────┼───────────────┤\n",
              "│ dropout_2 (\u001b[38;5;33mDropout\u001b[0m)             │ (\u001b[38;5;45mNone\u001b[0m, \u001b[38;5;34m64\u001b[0m)             │             \u001b[38;5;34m0\u001b[0m │\n",
              "├─────────────────────────────────┼────────────────────────┼───────────────┤\n",
              "│ reshape (\u001b[38;5;33mReshape\u001b[0m)               │ (\u001b[38;5;45mNone\u001b[0m, \u001b[38;5;34m1\u001b[0m, \u001b[38;5;34m64\u001b[0m)          │             \u001b[38;5;34m0\u001b[0m │\n",
              "├─────────────────────────────────┼────────────────────────┼───────────────┤\n",
              "│ lstm_3 (\u001b[38;5;33mLSTM\u001b[0m)                   │ (\u001b[38;5;45mNone\u001b[0m, \u001b[38;5;34m32\u001b[0m)             │        \u001b[38;5;34m12,416\u001b[0m │\n",
              "├─────────────────────────────────┼────────────────────────┼───────────────┤\n",
              "│ dropout_3 (\u001b[38;5;33mDropout\u001b[0m)             │ (\u001b[38;5;45mNone\u001b[0m, \u001b[38;5;34m32\u001b[0m)             │             \u001b[38;5;34m0\u001b[0m │\n",
              "├─────────────────────────────────┼────────────────────────┼───────────────┤\n",
              "│ dense (\u001b[38;5;33mDense\u001b[0m)                   │ (\u001b[38;5;45mNone\u001b[0m, \u001b[38;5;34m16\u001b[0m)             │           \u001b[38;5;34m528\u001b[0m │\n",
              "├─────────────────────────────────┼────────────────────────┼───────────────┤\n",
              "│ dense_1 (\u001b[38;5;33mDense\u001b[0m)                 │ (\u001b[38;5;45mNone\u001b[0m, \u001b[38;5;34m2\u001b[0m)              │            \u001b[38;5;34m34\u001b[0m │\n",
              "└─────────────────────────────────┴────────────────────────┴───────────────┘\n"
            ],
            "text/html": [
              "<pre style=\"white-space:pre;overflow-x:auto;line-height:normal;font-family:Menlo,'DejaVu Sans Mono',consolas,'Courier New',monospace\">┏━━━━━━━━━━━━━━━━━━━━━━━━━━━━━━━━━┳━━━━━━━━━━━━━━━━━━━━━━━━┳━━━━━━━━━━━━━━━┓\n",
              "┃<span style=\"font-weight: bold\"> Layer (type)                    </span>┃<span style=\"font-weight: bold\"> Output Shape           </span>┃<span style=\"font-weight: bold\">       Param # </span>┃\n",
              "┡━━━━━━━━━━━━━━━━━━━━━━━━━━━━━━━━━╇━━━━━━━━━━━━━━━━━━━━━━━━╇━━━━━━━━━━━━━━━┩\n",
              "│ input_layer (<span style=\"color: #0087ff; text-decoration-color: #0087ff\">InputLayer</span>)        │ (<span style=\"color: #00d7ff; text-decoration-color: #00d7ff\">None</span>, <span style=\"color: #00af00; text-decoration-color: #00af00\">1</span>, <span style=\"color: #00af00; text-decoration-color: #00af00\">9</span>)           │             <span style=\"color: #00af00; text-decoration-color: #00af00\">0</span> │\n",
              "├─────────────────────────────────┼────────────────────────┼───────────────┤\n",
              "│ bidirectional (<span style=\"color: #0087ff; text-decoration-color: #0087ff\">Bidirectional</span>)   │ (<span style=\"color: #00d7ff; text-decoration-color: #00d7ff\">None</span>, <span style=\"color: #00af00; text-decoration-color: #00af00\">1</span>, <span style=\"color: #00af00; text-decoration-color: #00af00\">512</span>)         │       <span style=\"color: #00af00; text-decoration-color: #00af00\">544,768</span> │\n",
              "├─────────────────────────────────┼────────────────────────┼───────────────┤\n",
              "│ dropout (<span style=\"color: #0087ff; text-decoration-color: #0087ff\">Dropout</span>)               │ (<span style=\"color: #00d7ff; text-decoration-color: #00d7ff\">None</span>, <span style=\"color: #00af00; text-decoration-color: #00af00\">1</span>, <span style=\"color: #00af00; text-decoration-color: #00af00\">512</span>)         │             <span style=\"color: #00af00; text-decoration-color: #00af00\">0</span> │\n",
              "├─────────────────────────────────┼────────────────────────┼───────────────┤\n",
              "│ batch_normalization             │ (<span style=\"color: #00d7ff; text-decoration-color: #00d7ff\">None</span>, <span style=\"color: #00af00; text-decoration-color: #00af00\">1</span>, <span style=\"color: #00af00; text-decoration-color: #00af00\">512</span>)         │         <span style=\"color: #00af00; text-decoration-color: #00af00\">2,048</span> │\n",
              "│ (<span style=\"color: #0087ff; text-decoration-color: #0087ff\">BatchNormalization</span>)            │                        │               │\n",
              "├─────────────────────────────────┼────────────────────────┼───────────────┤\n",
              "│ lstm_1 (<span style=\"color: #0087ff; text-decoration-color: #0087ff\">LSTM</span>)                   │ (<span style=\"color: #00d7ff; text-decoration-color: #00d7ff\">None</span>, <span style=\"color: #00af00; text-decoration-color: #00af00\">1</span>, <span style=\"color: #00af00; text-decoration-color: #00af00\">128</span>)         │       <span style=\"color: #00af00; text-decoration-color: #00af00\">328,192</span> │\n",
              "├─────────────────────────────────┼────────────────────────┼───────────────┤\n",
              "│ dropout_1 (<span style=\"color: #0087ff; text-decoration-color: #0087ff\">Dropout</span>)             │ (<span style=\"color: #00d7ff; text-decoration-color: #00d7ff\">None</span>, <span style=\"color: #00af00; text-decoration-color: #00af00\">1</span>, <span style=\"color: #00af00; text-decoration-color: #00af00\">128</span>)         │             <span style=\"color: #00af00; text-decoration-color: #00af00\">0</span> │\n",
              "├─────────────────────────────────┼────────────────────────┼───────────────┤\n",
              "│ lstm_2 (<span style=\"color: #0087ff; text-decoration-color: #0087ff\">LSTM</span>)                   │ (<span style=\"color: #00d7ff; text-decoration-color: #00d7ff\">None</span>, <span style=\"color: #00af00; text-decoration-color: #00af00\">64</span>)             │        <span style=\"color: #00af00; text-decoration-color: #00af00\">49,408</span> │\n",
              "├─────────────────────────────────┼────────────────────────┼───────────────┤\n",
              "│ dropout_2 (<span style=\"color: #0087ff; text-decoration-color: #0087ff\">Dropout</span>)             │ (<span style=\"color: #00d7ff; text-decoration-color: #00d7ff\">None</span>, <span style=\"color: #00af00; text-decoration-color: #00af00\">64</span>)             │             <span style=\"color: #00af00; text-decoration-color: #00af00\">0</span> │\n",
              "├─────────────────────────────────┼────────────────────────┼───────────────┤\n",
              "│ reshape (<span style=\"color: #0087ff; text-decoration-color: #0087ff\">Reshape</span>)               │ (<span style=\"color: #00d7ff; text-decoration-color: #00d7ff\">None</span>, <span style=\"color: #00af00; text-decoration-color: #00af00\">1</span>, <span style=\"color: #00af00; text-decoration-color: #00af00\">64</span>)          │             <span style=\"color: #00af00; text-decoration-color: #00af00\">0</span> │\n",
              "├─────────────────────────────────┼────────────────────────┼───────────────┤\n",
              "│ lstm_3 (<span style=\"color: #0087ff; text-decoration-color: #0087ff\">LSTM</span>)                   │ (<span style=\"color: #00d7ff; text-decoration-color: #00d7ff\">None</span>, <span style=\"color: #00af00; text-decoration-color: #00af00\">32</span>)             │        <span style=\"color: #00af00; text-decoration-color: #00af00\">12,416</span> │\n",
              "├─────────────────────────────────┼────────────────────────┼───────────────┤\n",
              "│ dropout_3 (<span style=\"color: #0087ff; text-decoration-color: #0087ff\">Dropout</span>)             │ (<span style=\"color: #00d7ff; text-decoration-color: #00d7ff\">None</span>, <span style=\"color: #00af00; text-decoration-color: #00af00\">32</span>)             │             <span style=\"color: #00af00; text-decoration-color: #00af00\">0</span> │\n",
              "├─────────────────────────────────┼────────────────────────┼───────────────┤\n",
              "│ dense (<span style=\"color: #0087ff; text-decoration-color: #0087ff\">Dense</span>)                   │ (<span style=\"color: #00d7ff; text-decoration-color: #00d7ff\">None</span>, <span style=\"color: #00af00; text-decoration-color: #00af00\">16</span>)             │           <span style=\"color: #00af00; text-decoration-color: #00af00\">528</span> │\n",
              "├─────────────────────────────────┼────────────────────────┼───────────────┤\n",
              "│ dense_1 (<span style=\"color: #0087ff; text-decoration-color: #0087ff\">Dense</span>)                 │ (<span style=\"color: #00d7ff; text-decoration-color: #00d7ff\">None</span>, <span style=\"color: #00af00; text-decoration-color: #00af00\">2</span>)              │            <span style=\"color: #00af00; text-decoration-color: #00af00\">34</span> │\n",
              "└─────────────────────────────────┴────────────────────────┴───────────────┘\n",
              "</pre>\n"
            ]
          },
          "metadata": {}
        },
        {
          "output_type": "display_data",
          "data": {
            "text/plain": [
              "\u001b[1m Total params: \u001b[0m\u001b[38;5;34m937,394\u001b[0m (3.58 MB)\n"
            ],
            "text/html": [
              "<pre style=\"white-space:pre;overflow-x:auto;line-height:normal;font-family:Menlo,'DejaVu Sans Mono',consolas,'Courier New',monospace\"><span style=\"font-weight: bold\"> Total params: </span><span style=\"color: #00af00; text-decoration-color: #00af00\">937,394</span> (3.58 MB)\n",
              "</pre>\n"
            ]
          },
          "metadata": {}
        },
        {
          "output_type": "display_data",
          "data": {
            "text/plain": [
              "\u001b[1m Trainable params: \u001b[0m\u001b[38;5;34m936,370\u001b[0m (3.57 MB)\n"
            ],
            "text/html": [
              "<pre style=\"white-space:pre;overflow-x:auto;line-height:normal;font-family:Menlo,'DejaVu Sans Mono',consolas,'Courier New',monospace\"><span style=\"font-weight: bold\"> Trainable params: </span><span style=\"color: #00af00; text-decoration-color: #00af00\">936,370</span> (3.57 MB)\n",
              "</pre>\n"
            ]
          },
          "metadata": {}
        },
        {
          "output_type": "display_data",
          "data": {
            "text/plain": [
              "\u001b[1m Non-trainable params: \u001b[0m\u001b[38;5;34m1,024\u001b[0m (4.00 KB)\n"
            ],
            "text/html": [
              "<pre style=\"white-space:pre;overflow-x:auto;line-height:normal;font-family:Menlo,'DejaVu Sans Mono',consolas,'Courier New',monospace\"><span style=\"font-weight: bold\"> Non-trainable params: </span><span style=\"color: #00af00; text-decoration-color: #00af00\">1,024</span> (4.00 KB)\n",
              "</pre>\n"
            ]
          },
          "metadata": {}
        }
      ]
    },
    {
      "cell_type": "code",
      "source": [
        "# Extract numeric values from the structured array\n",
        "import matplotlib.pyplot as plt\n",
        "from tensorflow.keras.callbacks import EarlyStopping\n",
        "early_stopping = EarlyStopping(monitor='val_loss', patience=15, restore_best_weights=True)\n",
        "history = model.fit(X_lstm1, y, epochs=30, batch_size=16, validation_split=0.2, callbacks=[early_stopping])\n",
        "# Predict longitude & latitude for new site features\n",
        "plt.figure(figsize=(12, 5))\n",
        "\n",
        "plt.subplot(1, 2, 1)\n",
        "plt.plot(history.history['loss'], label='Training Loss')\n",
        "plt.plot(history.history['val_loss'], label='Validation Loss')\n",
        "plt.xlabel('Epochs')\n",
        "plt.ylabel('Loss')\n",
        "plt.title('Training vs Validation Loss')\n",
        "plt.legend()\n",
        "\n",
        "# Plot accuracy using MSE (lower is better)\n",
        "plt.subplot(1, 2, 2)\n",
        "plt.plot(history.history['mse'], label='Training mse')\n",
        "#lt.plot(history.history['accuracy'], label='Training accuracy')\n",
        "plt.plot(history.history['val_mse'], label='Validation mse')\n",
        "#plt.plot(history.history['val_accuracy'], label='Validation accuracy')\n",
        "plt.xlabel('Epochs')\n",
        "#plt.ylabel('Mean Squared Error')\n",
        "plt.ylabel('mse')\n",
        "plt.title('Training vs Validation accuracy')\n",
        "plt.legend()\n",
        "\n",
        "plt.show()\n"
      ],
      "metadata": {
        "id": "zxissEqD_bVK",
        "outputId": "1214557d-7362-4e9c-e9a4-bf7639f9d75b",
        "colab": {
          "base_uri": "https://localhost:8080/",
          "height": 1000
        }
      },
      "execution_count": 10,
      "outputs": [
        {
          "output_type": "display_data",
          "data": {
            "text/plain": [
              "<IPython.core.display.HTML object>"
            ],
            "text/html": [
              "\n",
              "            <style>\n",
              "                .geemap-dark {\n",
              "                    --jp-widgets-color: white;\n",
              "                    --jp-widgets-label-color: white;\n",
              "                    --jp-ui-font-color1: white;\n",
              "                    --jp-layout-color2: #454545;\n",
              "                    background-color: #383838;\n",
              "                }\n",
              "\n",
              "                .geemap-dark .jupyter-button {\n",
              "                    --jp-layout-color3: #383838;\n",
              "                }\n",
              "\n",
              "                .geemap-colab {\n",
              "                    background-color: var(--colab-primary-surface-color, white);\n",
              "                }\n",
              "\n",
              "                .geemap-colab .jupyter-button {\n",
              "                    --jp-layout-color3: var(--colab-primary-surface-color, white);\n",
              "                }\n",
              "            </style>\n",
              "            "
            ]
          },
          "metadata": {}
        },
        {
          "output_type": "stream",
          "name": "stdout",
          "text": [
            "Epoch 1/30\n",
            "\u001b[1m7/7\u001b[0m \u001b[32m━━━━━━━━━━━━━━━━━━━━\u001b[0m\u001b[37m\u001b[0m \u001b[1m12s\u001b[0m 229ms/step - loss: 78.1959 - mse: 1522.0446 - val_loss: 65.1178 - val_mse: 1496.5117\n",
            "Epoch 2/30\n",
            "\u001b[1m7/7\u001b[0m \u001b[32m━━━━━━━━━━━━━━━━━━━━\u001b[0m\u001b[37m\u001b[0m \u001b[1m1s\u001b[0m 42ms/step - loss: 61.5324 - mse: 1519.2723 - val_loss: 50.8218 - val_mse: 1493.7474\n",
            "Epoch 3/30\n",
            "\u001b[1m7/7\u001b[0m \u001b[32m━━━━━━━━━━━━━━━━━━━━\u001b[0m\u001b[37m\u001b[0m \u001b[1m1s\u001b[0m 39ms/step - loss: 47.9359 - mse: 1517.4506 - val_loss: 39.3749 - val_mse: 1490.8711\n",
            "Epoch 4/30\n",
            "\u001b[1m7/7\u001b[0m \u001b[32m━━━━━━━━━━━━━━━━━━━━\u001b[0m\u001b[37m\u001b[0m \u001b[1m0s\u001b[0m 43ms/step - loss: 37.1007 - mse: 1514.4354 - val_loss: 30.3916 - val_mse: 1487.9703\n",
            "Epoch 5/30\n",
            "\u001b[1m7/7\u001b[0m \u001b[32m━━━━━━━━━━━━━━━━━━━━\u001b[0m\u001b[37m\u001b[0m \u001b[1m0s\u001b[0m 38ms/step - loss: 28.6296 - mse: 1511.0233 - val_loss: 23.4522 - val_mse: 1484.9376\n",
            "Epoch 6/30\n",
            "\u001b[1m7/7\u001b[0m \u001b[32m━━━━━━━━━━━━━━━━━━━━\u001b[0m\u001b[37m\u001b[0m \u001b[1m0s\u001b[0m 40ms/step - loss: 22.1045 - mse: 1507.6044 - val_loss: 18.1544 - val_mse: 1481.8207\n",
            "Epoch 7/30\n",
            "\u001b[1m7/7\u001b[0m \u001b[32m━━━━━━━━━━━━━━━━━━━━\u001b[0m\u001b[37m\u001b[0m \u001b[1m0s\u001b[0m 32ms/step - loss: 17.1330 - mse: 1505.6851 - val_loss: 14.1415 - val_mse: 1478.5970\n",
            "Epoch 8/30\n",
            "\u001b[1m7/7\u001b[0m \u001b[32m━━━━━━━━━━━━━━━━━━━━\u001b[0m\u001b[37m\u001b[0m \u001b[1m0s\u001b[0m 35ms/step - loss: 13.3714 - mse: 1501.5963 - val_loss: 11.1147 - val_mse: 1475.2380\n",
            "Epoch 9/30\n",
            "\u001b[1m7/7\u001b[0m \u001b[32m━━━━━━━━━━━━━━━━━━━━\u001b[0m\u001b[37m\u001b[0m \u001b[1m0s\u001b[0m 32ms/step - loss: 10.5351 - mse: 1498.3848 - val_loss: 8.8331 - val_mse: 1471.7352\n",
            "Epoch 10/30\n",
            "\u001b[1m7/7\u001b[0m \u001b[32m━━━━━━━━━━━━━━━━━━━━\u001b[0m\u001b[37m\u001b[0m \u001b[1m0s\u001b[0m 32ms/step - loss: 8.3961 - mse: 1493.9460 - val_loss: 7.1084 - val_mse: 1468.0820\n",
            "Epoch 11/30\n",
            "\u001b[1m7/7\u001b[0m \u001b[32m━━━━━━━━━━━━━━━━━━━━\u001b[0m\u001b[37m\u001b[0m \u001b[1m0s\u001b[0m 32ms/step - loss: 6.7774 - mse: 1490.6945 - val_loss: 5.7965 - val_mse: 1464.2626\n",
            "Epoch 12/30\n",
            "\u001b[1m7/7\u001b[0m \u001b[32m━━━━━━━━━━━━━━━━━━━━\u001b[0m\u001b[37m\u001b[0m \u001b[1m0s\u001b[0m 36ms/step - loss: 5.5438 - mse: 1486.3141 - val_loss: 4.7897 - val_mse: 1460.2717\n",
            "Epoch 13/30\n",
            "\u001b[1m7/7\u001b[0m \u001b[32m━━━━━━━━━━━━━━━━━━━━\u001b[0m\u001b[37m\u001b[0m \u001b[1m0s\u001b[0m 32ms/step - loss: 4.5949 - mse: 1482.7003 - val_loss: 4.0081 - val_mse: 1456.1124\n",
            "Epoch 14/30\n",
            "\u001b[1m7/7\u001b[0m \u001b[32m━━━━━━━━━━━━━━━━━━━━\u001b[0m\u001b[37m\u001b[0m \u001b[1m0s\u001b[0m 38ms/step - loss: 3.8562 - mse: 1478.5439 - val_loss: 3.3937 - val_mse: 1451.7888\n",
            "Epoch 15/30\n",
            "\u001b[1m7/7\u001b[0m \u001b[32m━━━━━━━━━━━━━━━━━━━━\u001b[0m\u001b[37m\u001b[0m \u001b[1m0s\u001b[0m 31ms/step - loss: 3.2737 - mse: 1474.3268 - val_loss: 2.9042 - val_mse: 1447.3075\n",
            "Epoch 16/30\n",
            "\u001b[1m7/7\u001b[0m \u001b[32m━━━━━━━━━━━━━━━━━━━━\u001b[0m\u001b[37m\u001b[0m \u001b[1m0s\u001b[0m 43ms/step - loss: 2.8082 - mse: 1469.1249 - val_loss: 2.5093 - val_mse: 1442.6648\n",
            "Epoch 17/30\n",
            "\u001b[1m7/7\u001b[0m \u001b[32m━━━━━━━━━━━━━━━━━━━━\u001b[0m\u001b[37m\u001b[0m \u001b[1m1s\u001b[0m 54ms/step - loss: 2.4317 - mse: 1464.4037 - val_loss: 2.1869 - val_mse: 1437.8484\n",
            "Epoch 18/30\n",
            "\u001b[1m7/7\u001b[0m \u001b[32m━━━━━━━━━━━━━━━━━━━━\u001b[0m\u001b[37m\u001b[0m \u001b[1m0s\u001b[0m 56ms/step - loss: 2.1239 - mse: 1460.3500 - val_loss: 1.9211 - val_mse: 1432.8571\n",
            "Epoch 19/30\n",
            "\u001b[1m7/7\u001b[0m \u001b[32m━━━━━━━━━━━━━━━━━━━━\u001b[0m\u001b[37m\u001b[0m \u001b[1m0s\u001b[0m 53ms/step - loss: 1.8693 - mse: 1454.7883 - val_loss: 1.7002 - val_mse: 1427.7109\n",
            "Epoch 20/30\n",
            "\u001b[1m7/7\u001b[0m \u001b[32m━━━━━━━━━━━━━━━━━━━━\u001b[0m\u001b[37m\u001b[0m \u001b[1m0s\u001b[0m 56ms/step - loss: 1.6573 - mse: 1449.2916 - val_loss: 1.5153 - val_mse: 1422.4128\n",
            "Epoch 21/30\n",
            "\u001b[1m7/7\u001b[0m \u001b[32m━━━━━━━━━━━━━━━━━━━━\u001b[0m\u001b[37m\u001b[0m \u001b[1m1s\u001b[0m 37ms/step - loss: 1.4798 - mse: 1444.4993 - val_loss: 1.3596 - val_mse: 1416.9495\n",
            "Epoch 22/30\n",
            "\u001b[1m7/7\u001b[0m \u001b[32m━━━━━━━━━━━━━━━━━━━━\u001b[0m\u001b[37m\u001b[0m \u001b[1m0s\u001b[0m 33ms/step - loss: 1.3303 - mse: 1439.7676 - val_loss: 1.2280 - val_mse: 1411.3240\n",
            "Epoch 23/30\n",
            "\u001b[1m7/7\u001b[0m \u001b[32m━━━━━━━━━━━━━━━━━━━━\u001b[0m\u001b[37m\u001b[0m \u001b[1m0s\u001b[0m 32ms/step - loss: 1.2034 - mse: 1432.7952 - val_loss: 1.1162 - val_mse: 1405.5334\n",
            "Epoch 24/30\n",
            "\u001b[1m7/7\u001b[0m \u001b[32m━━━━━━━━━━━━━━━━━━━━\u001b[0m\u001b[37m\u001b[0m \u001b[1m0s\u001b[0m 32ms/step - loss: 1.0958 - mse: 1427.1809 - val_loss: 1.0210 - val_mse: 1399.5853\n",
            "Epoch 25/30\n",
            "\u001b[1m7/7\u001b[0m \u001b[32m━━━━━━━━━━━━━━━━━━━━\u001b[0m\u001b[37m\u001b[0m \u001b[1m0s\u001b[0m 33ms/step - loss: 1.0039 - mse: 1420.7793 - val_loss: 0.9395 - val_mse: 1393.4852\n",
            "Epoch 26/30\n",
            "\u001b[1m7/7\u001b[0m \u001b[32m━━━━━━━━━━━━━━━━━━━━\u001b[0m\u001b[37m\u001b[0m \u001b[1m0s\u001b[0m 32ms/step - loss: 0.9252 - mse: 1414.1671 - val_loss: 0.8695 - val_mse: 1387.2316\n",
            "Epoch 27/30\n",
            "\u001b[1m7/7\u001b[0m \u001b[32m━━━━━━━━━━━━━━━━━━━━\u001b[0m\u001b[37m\u001b[0m \u001b[1m0s\u001b[0m 35ms/step - loss: 0.8578 - mse: 1408.6750 - val_loss: 0.8092 - val_mse: 1380.8129\n",
            "Epoch 28/30\n",
            "\u001b[1m7/7\u001b[0m \u001b[32m━━━━━━━━━━━━━━━━━━━━\u001b[0m\u001b[37m\u001b[0m \u001b[1m0s\u001b[0m 34ms/step - loss: 0.7994 - mse: 1401.3853 - val_loss: 0.7570 - val_mse: 1374.2429\n",
            "Epoch 29/30\n",
            "\u001b[1m7/7\u001b[0m \u001b[32m━━━━━━━━━━━━━━━━━━━━\u001b[0m\u001b[37m\u001b[0m \u001b[1m0s\u001b[0m 33ms/step - loss: 0.7489 - mse: 1394.2977 - val_loss: 0.7117 - val_mse: 1367.5118\n",
            "Epoch 30/30\n",
            "\u001b[1m7/7\u001b[0m \u001b[32m━━━━━━━━━━━━━━━━━━━━\u001b[0m\u001b[37m\u001b[0m \u001b[1m0s\u001b[0m 33ms/step - loss: 0.7050 - mse: 1387.9377 - val_loss: 0.6721 - val_mse: 1360.6400\n"
          ]
        },
        {
          "output_type": "display_data",
          "data": {
            "text/plain": [
              "<Figure size 1200x500 with 2 Axes>"
            ],
            "image/png": "[encoded data removed]"
          },
          "metadata": {}
        }
      ]
    },
    {
      "cell_type": "code",
      "source": [
        "import csv\n",
        "import numpy as np\n",
        "with open(\"/content/Samples_random_collection_2.csv\") as infile:\n",
        "    reader = csv.reader(infile, delimiter=\",\")\n",
        "    next(reader, None)\n",
        "    data4 =np.array(list(reader))"
      ],
      "metadata": {
        "id": "Av6DAK4HmRF6",
        "outputId": "8bbff19a-6929-4b72-cfd0-20ff35c5f53a",
        "colab": {
          "base_uri": "https://localhost:8080/",
          "height": 17
        }
      },
      "execution_count": 11,
      "outputs": [
        {
          "output_type": "display_data",
          "data": {
            "text/plain": [
              "<IPython.core.display.HTML object>"
            ],
            "text/html": [
              "\n",
              "            <style>\n",
              "                .geemap-dark {\n",
              "                    --jp-widgets-color: white;\n",
              "                    --jp-widgets-label-color: white;\n",
              "                    --jp-ui-font-color1: white;\n",
              "                    --jp-layout-color2: #454545;\n",
              "                    background-color: #383838;\n",
              "                }\n",
              "\n",
              "                .geemap-dark .jupyter-button {\n",
              "                    --jp-layout-color3: #383838;\n",
              "                }\n",
              "\n",
              "                .geemap-colab {\n",
              "                    background-color: var(--colab-primary-surface-color, white);\n",
              "                }\n",
              "\n",
              "                .geemap-colab .jupyter-button {\n",
              "                    --jp-layout-color3: var(--colab-primary-surface-color, white);\n",
              "                }\n",
              "            </style>\n",
              "            "
            ]
          },
          "metadata": {}
        }
      ]
    },
    {
      "cell_type": "code",
      "source": [
        "dtype3 = np.dtype([('B11', np.float32),('B12', np.float32),('B8', np.float32), ('ET', np.float32),('NDVI', np.float32), ('ST', np.float32),('VV', np.float32),('Elevation', np.float32),('SM', np.float32) ])\n",
        "arr4 = np.zeros((len(data4),)).astype(dtype3)"
      ],
      "metadata": {
        "id": "A5dH4d3x9Ys_",
        "outputId": "07865dbd-98c3-4874-8a60-78a3041439b5",
        "colab": {
          "base_uri": "https://localhost:8080/",
          "height": 17
        }
      },
      "execution_count": 12,
      "outputs": [
        {
          "output_type": "display_data",
          "data": {
            "text/plain": [
              "<IPython.core.display.HTML object>"
            ],
            "text/html": [
              "\n",
              "            <style>\n",
              "                .geemap-dark {\n",
              "                    --jp-widgets-color: white;\n",
              "                    --jp-widgets-label-color: white;\n",
              "                    --jp-ui-font-color1: white;\n",
              "                    --jp-layout-color2: #454545;\n",
              "                    background-color: #383838;\n",
              "                }\n",
              "\n",
              "                .geemap-dark .jupyter-button {\n",
              "                    --jp-layout-color3: #383838;\n",
              "                }\n",
              "\n",
              "                .geemap-colab {\n",
              "                    background-color: var(--colab-primary-surface-color, white);\n",
              "                }\n",
              "\n",
              "                .geemap-colab .jupyter-button {\n",
              "                    --jp-layout-color3: var(--colab-primary-surface-color, white);\n",
              "                }\n",
              "            </style>\n",
              "            "
            ]
          },
          "metadata": {}
        }
      ]
    },
    {
      "cell_type": "markdown",
      "source": [],
      "metadata": {
        "id": "nPcInOGYlkTk"
      }
    },
    {
      "cell_type": "code",
      "source": [
        "arr4['B11'] = data4[:, 0]\n",
        "arr4['B12'] = data4[:, 1]\n",
        "arr4['B8'] = data4[:, 2]\n",
        "arr4['ET'] = data4[:, 3]\n",
        "arr4['NDVI'] = data4[:, 4].astype(np.float32)\n",
        "arr4['ST'] = data4[:, 5].astype(np.float32)\n",
        "arr4['VV'] = data4[:, 6].astype(np.float32)\n",
        "arr4['Elevation'] = data4[:, 7]\n",
        "arr4['SM'] = data4[:, 8]"
      ],
      "metadata": {
        "id": "G2jyJo949h0Q",
        "outputId": "c375bd82-183e-425e-fbd3-44fe8c003a42",
        "colab": {
          "base_uri": "https://localhost:8080/",
          "height": 17
        }
      },
      "execution_count": 13,
      "outputs": [
        {
          "output_type": "display_data",
          "data": {
            "text/plain": [
              "<IPython.core.display.HTML object>"
            ],
            "text/html": [
              "\n",
              "            <style>\n",
              "                .geemap-dark {\n",
              "                    --jp-widgets-color: white;\n",
              "                    --jp-widgets-label-color: white;\n",
              "                    --jp-ui-font-color1: white;\n",
              "                    --jp-layout-color2: #454545;\n",
              "                    background-color: #383838;\n",
              "                }\n",
              "\n",
              "                .geemap-dark .jupyter-button {\n",
              "                    --jp-layout-color3: #383838;\n",
              "                }\n",
              "\n",
              "                .geemap-colab {\n",
              "                    background-color: var(--colab-primary-surface-color, white);\n",
              "                }\n",
              "\n",
              "                .geemap-colab .jupyter-button {\n",
              "                    --jp-layout-color3: var(--colab-primary-surface-color, white);\n",
              "                }\n",
              "            </style>\n",
              "            "
            ]
          },
          "metadata": {}
        }
      ]
    },
    {
      "cell_type": "code",
      "source": [
        "import pandas as pd\n",
        "import numpy as np\n",
        "\n",
        "# Define feature columns\n",
        "feature_columns = ['B11', 'B12', 'B8','ET',  'NDVI',  'ST','VV', 'Elevation', 'SM']\n",
        "\n",
        "# Prepare input data\n",
        "new_data_for_scaling = np.stack([arr4[col] for col in feature_columns], axis=1).astype(np.float32)\n",
        "\n",
        "# Normalize the new data\n",
        "#new_scaled = scaler.transform(new_data_for_scaling)\n",
        "\n",
        "# Reshape for LSTM input format\n",
        "#new_lstm_ready = new_scaled.reshape((new_scaled.shape[0], 1, new_scaled.shape[1]))\n",
        "new_lstm_ready = new_data_for_scaling.reshape((new_data_for_scaling.shape[0], 1, new_data_for_scaling.shape[1]))\n",
        "# Make predictions (now expecting longitude & latitude)\n",
        "predicted_coords_scaled = model.predict(new_lstm_ready)\n",
        "#predicted_coords = scaler_y.inverse_transform(predicted_coords_scaled)\n",
        "# Convert predictions to a DataFrame\n",
        "results_df = pd.DataFrame(new_data_for_scaling, columns=feature_columns)  # Original input features\n",
        "\n",
        "# Add predicted longitude & latitude columns\n",
        "results_df['Predicted_Longitude'] = predicted_coords_scaled[:, 1]  # First column = longitude\n",
        "results_df['Predicted_Latitude'] = predicted_coords_scaled[:, 0]  # Second column = latitude\n",
        "\n",
        "# Save results to a CSV file\n",
        "results_df.to_csv('predicted_coordinates.csv', index=False)\n",
        "\n",
        "print(\"Predicted latitude and longitude saved to predicted_coordinates.csv\")\n"
      ],
      "metadata": {
        "id": "XVMxWUR4BUC3"
      },
      "execution_count": null,
      "outputs": []
    },
    {
      "cell_type": "code",
      "source": [
        "print(results_df)"
      ],
      "metadata": {
        "id": "6njk3fyBQgs2"
      },
      "execution_count": null,
      "outputs": []
    },
    {
      "cell_type": "code",
      "source": [
        "import numpy as np\n",
        "\n",
        "# True vs predicted coordinates\n",
        "true_lat = arr2[\"Latitude\"]\n",
        "true_lon = arr2[\"Longitude\"]\n",
        "pred_lat = results_df['Predicted_Latitude']#predicted_coords[:, 0]  # Latitude\n",
        "pred_lon =results_df['Predicted_Longitude']# predicted_coords[:, 1]  # Longitude\n",
        "print('true latitude',true_lat)\n",
        "print('true longitude',true_lon)\n",
        "print('predi latitude',pred_lat)\n",
        "print('predited longitude',pred_lon)\n",
        "# Calculate absolute errors for each point\n",
        "lat_errors = np.abs(true_lat - pred_lat)\n",
        "lon_errors = np.abs(true_lon- pred_lon)\n",
        "\n",
        "# Compute mean errors\n",
        "mean_lat_error = np.mean(lat_errors)\n",
        "mean_lon_error = np.mean(lon_errors)\n",
        "\n",
        "print(\"Individual Latitude Errors:\", lat_errors)\n",
        "print(\"Mean Latitude Error:\", mean_lat_error)\n",
        "print(\"Individual Longitude Errors:\", lon_errors)\n",
        "print(\"Mean Longitude Error:\", mean_lon_error)\n",
        "\n"
      ],
      "metadata": {
        "id": "J1vnPTtE7NKH"
      },
      "execution_count": null,
      "outputs": []
    },
    {
      "cell_type": "code",
      "source": [
        "import matplotlib.pyplot as plt\n",
        "\n",
        "plt.figure(figsize=(10, 6))\n",
        "\n",
        "# Plot true locations\n",
        "plt.scatter(arr2[\"Longitude\"], arr2[\"Latitude\"], color='green', label='True Locations', marker='o')\n",
        "\n",
        "# Plot predicted locations\n",
        "#plt.scatter(pred_lon[:, 1], pred_lat[:, 0], color='red', label='Predicted Locations', marker='x')\n",
        "# Plot predicted locations\n",
        "plt.scatter(pred_lon.values, pred_lat.values, color='red', label='Predicted Locations', marker='x')\n",
        "# Connect true and predicted points to show displacement\n",
        "#for i in range(len(true_coords)):\n",
        "#    plt.plot([true_coords[i, 0], pred_coords[i, 0]], [true_coords[i, 1], pred_coords[i, 1]], color=\"gray\", linestyle=\"dashed\", alpha=0.5)\n",
        "\n",
        "plt.xlabel(\"Longitude\")\n",
        "plt.ylabel(\"Latitude\")\n",
        "plt.title(\"True vs. Predicted Locations of Archaeological Sites\")\n",
        "plt.legend()\n",
        "plt.grid()\n",
        "plt.show()\n",
        "\n"
      ],
      "metadata": {
        "id": "WeP1Hdti8Wjf"
      },
      "execution_count": null,
      "outputs": []
    },
    {
      "cell_type": "code",
      "source": [
        "dtype2 = np.dtype([('B11', np.float32),('B12', np.float32),('B8', np.float32), ('ET', np.float32),('NDVI', np.float32), ('ST', np.float32),('VV', np.float32),('Elevation', np.float32),('SM', np.float32),('Longitude', np.float32),('Latitude', np.float32) ])\n",
        "arr3 = np.zeros((len(data4),)).astype(dtype2)"
      ],
      "metadata": {
        "id": "EIrAavAMm1bK"
      },
      "execution_count": null,
      "outputs": []
    },
    {
      "cell_type": "code",
      "source": [
        "arr3['B11'] = data4[:, 0]\n",
        "arr3['B12'] = data4[:, 1]\n",
        "arr3['B8'] = data4[:, 2]\n",
        "arr3['ET'] = data4[:, 3]\n",
        "arr3['NDVI'] = data4[:, 4].astype(np.float32)\n",
        "arr3['ST'] = data4[:, 5].astype(np.float32)\n",
        "arr3['VV'] = data4[:, 6].astype(np.float32)\n",
        "arr3['Elevation'] = data4[:, 7]\n",
        "arr3['SM'] = data4[:, 8]\n",
        "arr3['Longitude'] = data4[:, 9]\n",
        "arr3['Latitude'] = data4[:, 10]"
      ],
      "metadata": {
        "id": "cWy0fnbRmii9"
      },
      "execution_count": null,
      "outputs": []
    },
    {
      "cell_type": "code",
      "source": [
        "# prediction module\n",
        "import pandas as pd\n",
        "import numpy as np\n",
        "from sklearn.preprocessing import MinMaxScaler\n",
        "feature_columns = ['B11', 'B12', 'B8','VV', 'Elevation','NDVI','ET', 'SM', 'ST']\n",
        "# Prepare input data\n",
        "new_data_for_scaling = np.stack([arr3[col] for col in feature_columns], axis=1).astype(np.float32)\n",
        "\n",
        "# Normalize the new data\n",
        "new_scaled = scaler.transform(new_data_for_scaling)\n",
        "\n",
        "# Reshape for LSTM input format\n",
        "new_lstm_ready = new_scaled.reshape((new_scaled.shape[0], 1, new_scaled.shape[1]))\n",
        "\n",
        "# Make predictions\n",
        "predicted_classes = model.predict(new_lstm_ready)\n",
        "\n",
        "# Convert predictions to a DataFrame\n",
        "results_df = pd.DataFrame(new_data_for_scaling, columns=feature_columns)  # Original input features\n",
        "results_df['Predicted_Class'] = predicted_classes.flatten()  # Add predictions\n",
        "results_df['Longitude'] = arr3['Longitude']\n",
        "results_df['Latitude'] = arr3['Latitude']\n",
        "# Save results to a CSV file\n",
        "results_df.to_csv('predictions.csv', index=False)\n",
        "\n",
        "print(\"Predictions saved to predictions.csv\")"
      ],
      "metadata": {
        "id": "tthiWXt6mDYz"
      },
      "execution_count": null,
      "outputs": []
    },
    {
      "cell_type": "code",
      "source": [
        "# This is based on the class\n",
        "import numpy as np\n",
        "import tensorflow as tf\n",
        "from tensorflow import keras\n",
        "from tensorflow.keras.models import Sequential\n",
        "from tensorflow.keras.layers import LSTM, Dense\n",
        "from sklearn.preprocessing import MinMaxScaler\n",
        "from tensorflow.keras.optimizers import Adam\n",
        "from tensorflow.keras.optimizers import SGD\n",
        "# Define feature columns (exclude Name, Latitude, Longitude)\n",
        "def custom_loss(y_true, y_pred):\n",
        "    return tf.reduce_mean(tf.square(y_pred - y_true)) + 0.01 * tf.reduce_sum(tf.abs(y_pred))\n",
        "feature_columns = ['B11', 'B12', 'B8','VV', 'Elevation','NDVI','ET', 'SM', 'ST']\n",
        "X_structured = arr2[feature_columns]  # Extract features\n",
        "y = arr2[['Class']]  # Binary target (1 for archaeology, 0 for non-archaeology)\n",
        "X = np.stack([X_structured[col] for col in feature_columns], axis=1).astype(np.float32)\n",
        "# Normalize features\n",
        "scaler = MinMaxScaler()\n",
        "X_scaled = scaler.fit_transform(X)\n",
        "\n",
        "# Reshape to fit LSTM input format: (samples, timesteps, features)\n",
        "X_lstm = X_scaled.reshape((X_scaled.shape[0], 1, X_scaled.shape[1]))  # 1 timestep\n",
        "\n",
        "# Build LSTM model for binary classification\n",
        "model = Sequential([\n",
        "    LSTM(64, return_sequences=True, input_shape=(1, len(feature_columns))),\n",
        "    LSTM(32),\n",
        "    Dense(16, activation='relu'),\n",
        "    Dense(1, activation='sigmoid')  # Output: Binary classification (archaeological site or not)\n",
        "])\n",
        "\n",
        "model.compile(optimizer=Adam(learning_rate=0.0001),loss=custom_loss,metrics=['mse'])# loss='binary_crossentropy', metrics=['accuracy'])\n",
        "\n",
        "# Summary of the model\n",
        "model.summary()\n"
      ],
      "metadata": {
        "id": "rwykACiX6k-A"
      },
      "execution_count": null,
      "outputs": []
    },
    {
      "cell_type": "code",
      "source": [
        "y = np.stack([arr2['Class']], axis=1).astype(np.float32)\n",
        "model.fit(X_lstm, y, epochs=30, batch_size=32, validation_split=0.2)"
      ],
      "metadata": {
        "id": "dqwoVc7X8EhI"
      },
      "execution_count": null,
      "outputs": []
    }
  ]
}