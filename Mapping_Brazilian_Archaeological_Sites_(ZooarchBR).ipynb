{
  "metadata": {
    "kernelspec": {
      "language": "python",
      "display_name": "Python 3",
      "name": "python3"
    },
    "language_info": {
      "name": "python",
      "version": "3.11.11",
      "mimetype": "text/x-python",
      "codemirror_mode": {
        "name": "ipython",
        "version": 3
      },
      "pygments_lexer": "ipython3",
      "nbconvert_exporter": "python",
      "file_extension": ".py"
    },
    "kaggle": {
      "accelerator": "none",
      "dataSources": [
        {
          "sourceId": 101597,
          "databundleVersionId": 12334818,
          "sourceType": "competition"
        },
        {
          "sourceId": 11839521,
          "sourceType": "datasetVersion",
          "datasetId": 7438600
        }
      ],
      "dockerImageVersionId": 31040,
      "isInternetEnabled": true,
      "language": "python",
      "sourceType": "notebook",
      "isGpuEnabled": false
    },
    "colab": {
      "name": "Mapping Brazilian Archaeological Sites (ZooarchBR)",
      "provenance": [],
      "include_colab_link": true
    }
  },
  "nbformat_minor": 0,
  "nbformat": 4,
  "cells": [
    {
      "cell_type": "markdown",
      "metadata": {
        "id": "view-in-github",
        "colab_type": "text"
      },
      "source": [
        "<a href=\"https://colab.research.google.com/github/ma850419/Various_scripts/blob/main/Mapping_Brazilian_Archaeological_Sites_(ZooarchBR).ipynb\" target=\"_parent\"><img src=\"https://colab.research.google.com/assets/colab-badge.svg\" alt=\"Open In Colab\"/></a>"
      ]
    },
    {
      "source": [
        "# IMPORTANT: SOME KAGGLE DATA SOURCES ARE PRIVATE\n",
        "# RUN THIS CELL IN ORDER TO IMPORT YOUR KAGGLE DATA SOURCES.\n",
        "import kagglehub\n",
        "kagglehub.login()\n"
      ],
      "metadata": {
        "id": "jGPMOfW8HbyB"
      },
      "cell_type": "code",
      "outputs": [],
      "execution_count": null
    },
    {
      "source": [
        "# IMPORTANT: RUN THIS CELL IN ORDER TO IMPORT YOUR KAGGLE DATA SOURCES,\n",
        "# THEN FEEL FREE TO DELETE THIS CELL.\n",
        "# NOTE: THIS NOTEBOOK ENVIRONMENT DIFFERS FROM KAGGLE'S PYTHON\n",
        "# ENVIRONMENT SO THERE MAY BE MISSING LIBRARIES USED BY YOUR\n",
        "# NOTEBOOK.\n",
        "\n",
        "openai_to_z_challenge_path = kagglehub.competition_download('openai-to-z-challenge')\n",
        "nikitamanaenkov_brazilian_zooarch_database_zooarchbr_path = kagglehub.dataset_download('nikitamanaenkov/brazilian-zooarch-database-zooarchbr')\n",
        "\n",
        "print('Data source import complete.')\n"
      ],
      "metadata": {
        "id": "0Pt1INrRHbyC"
      },
      "cell_type": "code",
      "outputs": [],
      "execution_count": null
    },
    {
      "cell_type": "code",
      "source": [
        "!pip install odfpy folium geopy networkx"
      ],
      "metadata": {
        "_uuid": "8f2839f25d086af736a60e9eeb907d3b93b6e0e5",
        "_cell_guid": "b1076dfc-b9ad-4769-8c92-a6c4dae69d19",
        "trusted": true,
        "execution": {
          "iopub.status.busy": "2025-05-16T18:15:43.199507Z",
          "iopub.execute_input": "2025-05-16T18:15:43.199833Z",
          "iopub.status.idle": "2025-05-16T18:15:47.066437Z",
          "shell.execute_reply.started": "2025-05-16T18:15:43.199809Z",
          "shell.execute_reply": "2025-05-16T18:15:47.064906Z"
        },
        "id": "PfSlp3HTHbyC"
      },
      "outputs": [],
      "execution_count": null
    },
    {
      "cell_type": "code",
      "source": [
        "import pandas as pd\n",
        "import folium\n",
        "import re\n",
        "import networkx as nx\n",
        "import matplotlib.pyplot as plt\n",
        "from sklearn.cluster import DBSCAN\n",
        "import numpy as np"
      ],
      "metadata": {
        "trusted": true,
        "execution": {
          "iopub.status.busy": "2025-05-16T18:26:54.114539Z",
          "iopub.execute_input": "2025-05-16T18:26:54.114878Z",
          "iopub.status.idle": "2025-05-16T18:26:55.435595Z",
          "shell.execute_reply.started": "2025-05-16T18:26:54.114852Z",
          "shell.execute_reply": "2025-05-16T18:26:55.434507Z"
        },
        "id": "rXRX-Vd8HbyC"
      },
      "outputs": [],
      "execution_count": null
    },
    {
      "cell_type": "code",
      "source": [
        "from google.colab import drive\n",
        "drive.mount('/content/drive')\n"
      ],
      "metadata": {
        "id": "hyC8TlcHJg5N"
      },
      "execution_count": null,
      "outputs": []
    },
    {
      "cell_type": "code",
      "source": [
        "import os\n",
        "print(os.listdir(\"/content/drive/My Drive\"))\n"
      ],
      "metadata": {
        "id": "xTiX3nvWJhbl"
      },
      "execution_count": null,
      "outputs": []
    },
    {
      "cell_type": "code",
      "source": [
        "def dms_to_dd(dms):\n",
        "    if pd.isnull(dms): return None\n",
        "    match = re.match(r\"(\\d+)°([EWNS]) (\\d+)' (\\d+)\", str(dms))\n",
        "    if not match: return None\n",
        "    deg, dir_, min_, sec = match.groups()\n",
        "    dd = float(deg) + float(min_)/60 + float(sec)/3600\n",
        "    if dir_ in ['S', 'W']:\n",
        "        dd *= -1\n",
        "    return dd\n",
        "\n",
        "file_path = \"/content/drive/MyDrive/Archeology/Fossile et al. Table 3 (Rev.SAB) - Archaeological Sites.ods\"\n",
        "df = pd.read_excel(file_path, engine=\"odf\")\n",
        "\n",
        "sites = []\n",
        "for idx, row in df.iterrows():\n",
        "    name = row['Archaeological site (*approximate coordinate)']\n",
        "    lon_str = row['Datum SIRGAS2000 (*approximate coordinate)']\n",
        "    lat_str = row['Unnamed: 6']\n",
        "    lon = dms_to_dd(lon_str)\n",
        "    lat = dms_to_dd(lat_str)\n",
        "    if lon is not None and lat is not None:\n",
        "        sites.append({'name': name, 'lat': lat, 'lon': lon})\n",
        "\n",
        "m = folium.Map(location=[-14.2, -51.9], zoom_start=4)\n",
        "for site in sites:\n",
        "    folium.Marker(\n",
        "        [site['lat'], site['lon']],\n",
        "        popup=site['name']\n",
        "    ).add_to(m)\n",
        "\n",
        "m.save('brazil_sites_map.html')\n",
        "m"
      ],
      "metadata": {
        "trusted": true,
        "execution": {
          "iopub.status.busy": "2025-05-16T18:25:43.157489Z",
          "iopub.execute_input": "2025-05-16T18:25:43.157792Z",
          "iopub.status.idle": "2025-05-16T18:25:44.282939Z",
          "shell.execute_reply.started": "2025-05-16T18:25:43.157768Z",
          "shell.execute_reply": "2025-05-16T18:25:44.281989Z"
        },
        "id": "nSzVPWahHbyD"
      },
      "outputs": [],
      "execution_count": null
    },
    {
      "cell_type": "code",
      "source": [
        "file_path = \"/content/drive/MyDrive/Archeology/Fossile et al. Table 3 (Rev.SAB) - Archaeological Sites.ods\"\n",
        "#file_path = \"/kaggle/input/brazilian-zooarch-database-zooarchbr/Fossile et al. Table 3 (Rev.SAB) - Archaeological Sites.ods\"\n",
        "df = pd.read_excel(file_path, engine=\"odf\")\n",
        "def dms_to_dd(dms):\n",
        "    import re\n",
        "    if pd.isnull(dms): return None\n",
        "    match = re.match(r\"(\\d+)°([EWNS]) (\\d+)' (\\d+)\", str(dms))\n",
        "    if not match: return None\n",
        "    deg, dir_, min_, sec = match.groups()\n",
        "    dd = float(deg) + float(min_)/60 + float(sec)/3600\n",
        "    if dir_ in ['S', 'W']:\n",
        "        dd *= -1\n",
        "    return dd\n",
        "\n",
        "coords = []\n",
        "names = []\n",
        "print(df.head())\n",
        "for idx, row in df.iterrows():\n",
        "    name = row['Archaeological site (*approximate coordinate)']\n",
        "    lon_str = row['Datum SIRGAS2000 (*approximate coordinate)']\n",
        "    lat_str = row['Unnamed: 6']\n",
        "    lon = dms_to_dd(lon_str)\n",
        "    lat = dms_to_dd(lat_str)\n",
        "    if lon is not None and lat is not None:\n",
        "        coords.append([lat, lon])\n",
        "        names.append(name)\n",
        "\n",
        "coords = np.array(coords)\n",
        "\n",
        "clustering = DBSCAN(eps=0.2, min_samples=2).fit(coords)\n",
        "\n",
        "plt.figure(figsize=(10,8))\n",
        "plt.scatter(coords[:,1], coords[:,0], c=clustering.labels_, cmap='tab10', s=100, label='Sites')\n",
        "plt.xlabel('Longitude')\n",
        "plt.ylabel('Latitude')\n",
        "plt.title('Archaeological Sites Clustering')\n",
        "plt.colorbar(label='Cluster')\n",
        "plt.show()\n",
        "\n",
        "G = nx.Graph()\n",
        "for i, name in enumerate(names):\n",
        "    G.add_node(i, label=name, pos=(coords[i,1], coords[i,0]))\n",
        "\n",
        "for i in range(len(coords)):\n",
        "    for j in range(i+1, len(coords)):\n",
        "        dist = np.linalg.norm(coords[i] - coords[j])\n",
        "        if dist < 0.5:\n",
        "            G.add_edge(i, j, weight=dist)\n",
        "\n",
        "pos = {i: (coords[i,1], coords[i,0]) for i in range(len(coords))}\n",
        "plt.figure(figsize=(12,10))\n",
        "nx.draw(G, pos, with_labels=True, node_size=300, node_color='skyblue')\n",
        "plt.title('Graph of Archaeological Sites by Proximity')\n",
        "plt.show()\n",
        "\n",
        "\n",
        "unique_labels = set(clustering.labels_)\n",
        "for label in unique_labels:\n",
        "    if label == -1:\n",
        "        continue\n",
        "    cluster_coords = coords[clustering.labels_ == label]\n",
        "    centroid = cluster_coords.mean(axis=0)\n",
        "    print(f\"Possible new point near the cluster {label}: {centroid}\")"
      ],
      "metadata": {
        "trusted": true,
        "execution": {
          "iopub.status.busy": "2025-05-16T18:26:57.354133Z",
          "iopub.execute_input": "2025-05-16T18:26:57.354688Z",
          "iopub.status.idle": "2025-05-16T18:26:59.57115Z",
          "shell.execute_reply.started": "2025-05-16T18:26:57.354661Z",
          "shell.execute_reply": "2025-05-16T18:26:59.570177Z"
        },
        "id": "lQpnVCRuHbyD"
      },
      "outputs": [],
      "execution_count": null
    }
  ]
}