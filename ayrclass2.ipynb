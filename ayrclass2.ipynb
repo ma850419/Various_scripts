{
  "nbformat": 4,
  "nbformat_minor": 0,
  "metadata": {
    "colab": {
      "provenance": [],
      "authorship_tag": "ABX9TyMpIgdqn1O9wf1e+lLj1o/u",
      "include_colab_link": true
    },
    "kernelspec": {
      "name": "python3",
      "display_name": "Python 3"
    },
    "language_info": {
      "name": "python"
    }
  },
  "cells": [
    {
      "cell_type": "markdown",
      "metadata": {
        "id": "view-in-github",
        "colab_type": "text"
      },
      "source": [
        "<a href=\"https://colab.research.google.com/github/ma850419/Various_scripts/blob/main/ayrclass2.ipynb\" target=\"_parent\"><img src=\"https://colab.research.google.com/assets/colab-badge.svg\" alt=\"Open In Colab\"/></a>"
      ]
    },
    {
      "cell_type": "code",
      "execution_count": null,
      "metadata": {
        "id": "58kfKUEE2Chs"
      },
      "outputs": [],
      "source": [
        "import ee\n",
        "ee.Authenticate()\n",
        "ee.Initialize(project='velvety-ring-328419')"
      ]
    },
    {
      "cell_type": "code",
      "source": [
        "# Tensorflow setup.\n",
        "import tensorflow as tf\n",
        "print(tf.__version__)"
      ],
      "metadata": {
        "id": "huGDsdu72P1h"
      },
      "execution_count": null,
      "outputs": []
    },
    {
      "cell_type": "code",
      "source": [
        "#imageROI =ee.FeatureCollection('users/mohamadawadlebanon/borderutm36n')\n",
        "imageROI =ee.FeatureCollection('users/mohamadawadlebanon/Iranborder')\n",
        "#trainingPolys = ee.FeatureCollection('users/mohamadawadlebanon/fieldsamples_2019_36N')\n",
        "#evalPolys=ee.FeatureCollection('users/mohamadawadlebanon/fieldsamples_2019_36N')\n",
        "training = ee.FeatureCollection('users/mohamadawadlebanon/crop2')"
      ],
      "metadata": {
        "id": "Ya0oPJ3q2XIQ"
      },
      "execution_count": null,
      "outputs": []
    },
    {
      "cell_type": "code",
      "source": [
        "import folium\n",
        "\n",
        "# Initialize Earth Engine\n",
        "\n",
        "# Use Sentinel-2 surface reflectance data.\n",
        "s2sr = ee.ImageCollection('COPERNICUS/S2_SR_HARMONIZED')\n",
        "\n",
        "# Cloud masking function for Sentinel-2.\n",
        "def maskS2sr(image):\n",
        "    qa = image.select('QA60')  # Sentinel-2 cloud mask band\n",
        "    mask = qa.eq(0)  # Keep only pixels where QA60 is clear\n",
        "    return image.updateMask(mask).divide(10000)  # Scale reflectance values\n",
        "\n",
        "# Clip function\n",
        "def clipimage(image):\n",
        "    return image.clip(imageROI)\n",
        "\n",
        "# Define Image ROI (Replace with a valid region)\n",
        "#imageROI = ee.Geometry.Rectangle([35, 30, 40, 35])  # Example ROI\n",
        "\n",
        "# Create a cloud-masked median composite for July 2019\n",
        "image = s2sr.filterDate('2024-05-01', '2024-05-31').map(clipimage).map(maskS2sr).median()\n",
        "print(image.getInfo())\n",
        "# Use folium to visualize the imagery.\n",
        "mapid = image.getMapId({'bands': ['B4', 'B3', 'B2'], 'min': 0, 'max': 0.3})  # RGB composite\n",
        "map = folium.Map(location=[28, 53], zoom_start=6)\n",
        "\n",
        "folium.TileLayer(\n",
        "    tiles=mapid['tile_fetcher'].url_format,\n",
        "    attr='Map Data &copy; <a href=\"https://earthengine.google.com/\">Google Earth Engine</a>',\n",
        "    overlay=True,\n",
        "    name='Sentinel-2 Composite',\n",
        ").add_to(map)\n",
        "\n",
        "'''mapid = image.getMapId({'bands': ['B11'], 'min': 0, 'max': 0.3})  # Thermal (SWIR Band)\n",
        "folium.TileLayer(\n",
        "    tiles=mapid['tile_fetcher'].url_format,\n",
        "    attr='Map Data &copy; <a href=\"https://earthengine.google.com/\">Google Earth Engine</a>',\n",
        "    overlay=True,\n",
        "    name='SWIR Band (B11)',\n",
        ").add_to(map)\n",
        "\n",
        "map.add_child(folium.LayerControl())'''\n",
        "\n",
        "# Display map\n",
        "map\n"
      ],
      "metadata": {
        "id": "dXKFrTEZ2gLA"
      },
      "execution_count": null,
      "outputs": []
    },
    {
      "cell_type": "code",
      "source": [
        "image_np = geemap.ee_to_numpy(image, imageROI, bands=['B4', 'B3', 'B2'], scale=55)  # 10m resolution\n"
      ],
      "metadata": {
        "id": "foFp6gBzQjOT"
      },
      "execution_count": null,
      "outputs": []
    },
    {
      "cell_type": "code",
      "source": [
        "import geemap\n",
        "import numpy as np\n",
        "\n",
        "# Extract image bands\n",
        "region = imageROI  # Define a bounding box (Iran region)\n",
        "\n",
        "# Convert to NumPy with specified region\n",
        "image_np = geemap.ee_to_numpy(image,imageROI, bands=['B4', 'B3', 'B2'], scale =60)\n",
        "\n",
        "'''training_image = training.reduceToImage(\n",
        "    properties=['class'],\n",
        "    reducer=ee.Reducer.first()\n",
        ")'''\n",
        "samples_image = training.reduceToImage(['class'], ee.Reducer.mode())  # Convert points to raster\n",
        "# Change 'class' to 'mode' to match the band name created by reduceToImage\n",
        "samples_np = geemap.ee_to_numpy(samples_image, region=region, bands=['mode'], scale =60)  # Extract pixels\n",
        "\n",
        "# Define region (Ensure it's bounded)\n",
        "\n",
        "# Convert to NumPy\n",
        "#samples_np = geemap.ee_to_numpy(training_image, region=region, scale=40)"
      ],
      "metadata": {
        "id": "zpx6sODM7b1u"
      },
      "execution_count": null,
      "outputs": []
    },
    {
      "cell_type": "code",
      "source": [
        "#image_np = np.expand_dims(image_np, axis=-1)  # Converts to (height, width, 1)\n",
        "image_np = np.expand_dims(image_np, axis=0)  # Becomes (1, 1439, 1825, 3)\n",
        "samples_np = np.expand_dims(samples_np, axis=0)  # Becomes (1, 1439, 1825, 1)\n",
        "\n",
        "print(image_np.shape)\n",
        "#print(image_np)  # Inspect sample values\n",
        "\n",
        "print(samples_np.shape )"
      ],
      "metadata": {
        "id": "a5vrt3i9A_q2"
      },
      "execution_count": null,
      "outputs": []
    },
    {
      "cell_type": "code",
      "source": [
        "new_height = image_np.shape[1] - (image_np.shape[1] % 2)  # Ensure divisible by 2\n",
        "new_width = image_np.shape[2] - (image_np.shape[2] % 2)\n",
        "\n",
        "image_np = image_np[:, :new_height, :new_width, :]  # Trim image size\n",
        "samples_np = samples_np[:, :new_height, :new_width, :]  # Match target size\n",
        "print(image_np.shape)\n",
        "#print(image_np)  # Inspect sample values\n",
        "\n",
        "print(samples_np.shape )"
      ],
      "metadata": {
        "id": "qH9GgwDubKud"
      },
      "execution_count": null,
      "outputs": []
    },
    {
      "cell_type": "code",
      "source": [
        "import tensorflow as tf\n",
        "from tensorflow.keras.layers import Conv2D, MaxPooling2D, UpSampling2D\n",
        "\n",
        "# Define U-Net Model\n",
        "model = tf.keras.Sequential([\n",
        "    Conv2D(64, (3, 3), activation='relu', padding='same', input_shape=(image_np.shape[1], image_np.shape[2], image_np.shape[3])),\n",
        "    MaxPooling2D((2, 2)),\n",
        "    UpSampling2D((2, 2)),\n",
        "    Conv2D(1, (1, 1), activation='sigmoid', padding='same')\n",
        "])\n",
        "\n",
        "model.compile(optimizer='adam', loss='binary_crossentropy', metrics=['accuracy'])\n",
        "\n",
        "# Train the model (using GEE sample data)\n",
        "model.fit(image_np, samples_np, epochs=10, batch_size=16)\n"
      ],
      "metadata": {
        "id": "cLXuoq3_9r85"
      },
      "execution_count": null,
      "outputs": []
    },
    {
      "cell_type": "code",
      "source": [
        "predictions = model.predict(image_np)\n",
        "import numpy as np\n",
        "predictions= np.squeeze(predictions)\n",
        "# Rescale predictions to class values 1–20\n",
        "num_classes = 20\n",
        "predictions_scaled = np.round(predictions * num_classes).astype(np.uint8)  # Convert float to integer class labels\n",
        "predictions_scaled = np.clip(predictions_scaled, 1, num_classes)  # Ensure values stay within 1-20\n",
        "\n",
        "# Define region where image should be placed\n",
        "\n",
        "# Convert NumPy array into an Earth Engine image\n",
        "\n",
        "# Print details to verify conversion\n",
        "#print(predicted_image.getInfo())\n",
        "\n",
        "# Convert to EE Image\n",
        "predicted_image = geemap.numpy_to_ee(predictions_scaled, imageROI)\n",
        "'''task = ee.batch.Export.image.toAsset(\n",
        "    image=predicted_image,\n",
        "    description=\"UNet_Prediction\",\n",
        "    assetId=\"users/mohamadawadlebanon/UNet_Prediction\",\n",
        "    scale=60, # Specify the scale as done during the numpy conversion\n",
        "    region=imageROI.geometry() # Specify the region for export\n",
        ")'''\n",
        "task = ee.batch.Export.image.toDrive(\n",
        "    image=predicted_image,\n",
        "    description=\"UNet_Prediction\",\n",
        "    #assetId=\"users/mohamadawadlebanon/UNet_Prediction\",\n",
        "    scale=1000, # Specify the scale as done during the numpy conversion\n",
        "    region=imageROI.geometry() # Specify the region for export\n",
        ")\n",
        "task.start()\n",
        "\n",
        "print(f\"Export task started: {task.status()}\") # Print task status"
      ],
      "metadata": {
        "id": "RheE4NlRb0g7"
      },
      "execution_count": null,
      "outputs": []
    },
    {
      "cell_type": "code",
      "source": [
        "viz_params = {\n",
        "    'min': 1,\n",
        "    'max': 20,\n",
        "    'palette': [\n",
        "        'red', 'yellow', 'green', 'blue', 'purple', 'orange', 'brown', 'cyan', 'pink',\n",
        "        'magenta', 'lime', 'gray', 'black', 'white', 'gold', 'navy', 'teal', 'maroon',\n",
        "        'turquoise', 'violet'\n",
        "    ]\n",
        "}\n"
      ],
      "metadata": {
        "id": "wEfsBcG78_tf"
      },
      "execution_count": null,
      "outputs": []
    },
    {
      "cell_type": "code",
      "source": [
        "predicted_image = predicted_image.setDefaultProjection('EPSG:4326', None, 30)  # WGS84 with 30m scale\n",
        "\n"
      ],
      "metadata": {
        "id": "XGlTU84i97gP"
      },
      "execution_count": null,
      "outputs": []
    },
    {
      "cell_type": "code",
      "source": [
        "print(predictions_scaled.shape)\n",
        "  # Ensure it prints valid geometric coordinates\n",
        "pixels = ee.Array(predictions_scaled.tolist())  # Convert NumPy array to EE array\n",
        "predicted_image = ee.Image(pixels).clip(imageROI)  # Clip to the target region\n"
      ],
      "metadata": {
        "id": "O6VyGAr69_F4"
      },
      "execution_count": null,
      "outputs": []
    },
    {
      "cell_type": "code",
      "source": [
        "print(predicted_image.projection().getInfo())  # Confirms raster properties\n"
      ],
      "metadata": {
        "id": "o4Ey2ZDxG9Tx"
      },
      "execution_count": null,
      "outputs": []
    },
    {
      "cell_type": "code",
      "source": [
        "print(predicted_image)\n",
        "\n"
      ],
      "metadata": {
        "id": "kzcfweR1_g7m"
      },
      "execution_count": null,
      "outputs": []
    },
    {
      "cell_type": "code",
      "source": [
        "Map.addLayer(predicted_image, {'min': 1, 'max': 20, 'palette': ['red', 'blue', 'green']}, \"Predicted Image\")\n"
      ],
      "metadata": {
        "id": "mu1LHbz4-Uth"
      },
      "execution_count": null,
      "outputs": []
    },
    {
      "cell_type": "code",
      "source": [
        "Map = geemap.Map()\n",
        "Map.addLayer(predictions_scaled, viz_params, \"U-Net Classified Image\")\n",
        "Map.centerObject(region, 10)  # Adjust zoom level\n",
        "Map\n"
      ],
      "metadata": {
        "id": "WShTnYTb9BEe"
      },
      "execution_count": null,
      "outputs": []
    },
    {
      "cell_type": "code",
      "source": [
        "predicted_image_ee = geemap.numpy_to_ee(predictions_scaled, imageROI)\n",
        "\n",
        "# Set the projection and scale explicitly\n",
        "predicted_image_ee = predicted_image_ee.setDefaultProjection(\n",
        "    crs='EPSG:4326',  # Specify a common projection\n",
        "    scale=60          # Use the same scale as when converting to numpy\n",
        ")\n",
        "\n",
        "\n",
        "Map = geemap.Map()\n",
        "# Add the Earth Engine image to the map\n",
        "Map.addLayer(predicted_image_ee, {}, \"U-Net Classified Image\")\n",
        "Map.centerObject(imageROI.geometry(), 10)  # Adjust zoom level and use the region's geometry\n",
        "Map"
      ],
      "metadata": {
        "id": "WYhdywiIJg3R"
      },
      "execution_count": null,
      "outputs": []
    }
  ]
}